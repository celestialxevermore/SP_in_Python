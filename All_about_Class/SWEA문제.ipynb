{
 "cells": [
  {
   "cell_type": "code",
   "execution_count": 9,
   "metadata": {},
   "outputs": [
    {
     "name": "stdout",
     "output_type": "stream",
     "text": [
      "국어, 영어, 수학의 총점: 270\n"
     ]
    }
   ],
   "source": [
    "import sys\n",
    "\n",
    "class Student:\n",
    "    def __init__(self,kor,math,eng):\n",
    "        self.kor=kor\n",
    "        self.math = math \n",
    "        self.eng = eng \n",
    "\n",
    "    def total(self):\n",
    "        print('국어, 영어, 수학의 총점: {}'.format(self.kor+self.math+self.eng))\n",
    "\n",
    "K,M,E = map(int,input().split(','))\n",
    "student = Student(K,M,E)\n",
    "student.total()"
   ]
  },
  {
   "cell_type": "code",
   "execution_count": 14,
   "metadata": {},
   "outputs": [
    {
     "name": "stdout",
     "output_type": "stream",
     "text": [
      "대한민국\n",
      "대한민국\n"
     ]
    }
   ],
   "source": [
    "import sys \n",
    "\n",
    "class Korean:\n",
    "\n",
    "    @staticmethod\n",
    "    def printNationality():\n",
    "        print('대한민국')\n",
    "        print('대한민국')        \n",
    "        \n",
    "        \n",
    "a=Korean()\n",
    "a.printNationality()"
   ]
  },
  {
   "cell_type": "code",
   "execution_count": 15,
   "metadata": {},
   "outputs": [],
   "source": [
    "class Student:\n",
    "    def __init__(self,name):\n",
    "        self.name = name \n",
    "    \n",
    "    def print(self):\n",
    "        print('이름: {}'.format(self.name))\n",
    "\n",
    "\n",
    "class GraduateStudent(Student):\n",
    "    def __init__(self,name,major):\n",
    "        super(GraduateStudent,self).__init__(name)\n",
    "        self.major=major \n",
    "    \n",
    "    def print(self):\n",
    "        print('이름: {}, 전공: {}'.format(self.name,self.major))"
   ]
  },
  {
   "cell_type": "code",
   "execution_count": 16,
   "metadata": {},
   "outputs": [
    {
     "name": "stdout",
     "output_type": "stream",
     "text": [
      "이름: 홍길동\n",
      "이름: 이순신, 전공: 컴퓨터\n"
     ]
    }
   ],
   "source": [
    "a = Student('홍길동')\n",
    "b = GraduateStudent('이순신','컴퓨터')\n",
    "\n",
    "a.print()\n",
    "b.print()"
   ]
  },
  {
   "cell_type": "code",
   "execution_count": 17,
   "metadata": {},
   "outputs": [],
   "source": [
    "class Circle:\n",
    "    def __init__(self,radius):\n",
    "        self.radius = radius \n",
    "    \n",
    "    def ret(self):\n",
    "        print('원의 면적: {:.2f}'.format((self.radius)*(self.radius)))"
   ]
  },
  {
   "cell_type": "code",
   "execution_count": 23,
   "metadata": {},
   "outputs": [
    {
     "name": "stdout",
     "output_type": "stream",
     "text": [
      "원의 면적: 12.56\n"
     ]
    }
   ],
   "source": [
    "a = Circle(3.544)\n",
    "a.ret()"
   ]
  },
  {
   "cell_type": "code",
   "execution_count": 20,
   "metadata": {},
   "outputs": [],
   "source": [
    "import numpy as np"
   ]
  },
  {
   "cell_type": "code",
   "execution_count": 21,
   "metadata": {},
   "outputs": [
    {
     "name": "stdout",
     "output_type": "stream",
     "text": [
      "3.54400902933387\n"
     ]
    }
   ],
   "source": [
    "print(np.sqrt(12.56))"
   ]
  },
  {
   "cell_type": "code",
   "execution_count": 25,
   "metadata": {},
   "outputs": [],
   "source": [
    "class Rectangle:\n",
    "\n",
    "    def __init__(self,r,c):\n",
    "        self.r=r \n",
    "        self.c= c\n",
    "    \n",
    "    def rr(self):\n",
    "        print('사각형의 면적: {}'.format(self.r*self.c))"
   ]
  },
  {
   "cell_type": "code",
   "execution_count": 26,
   "metadata": {},
   "outputs": [
    {
     "name": "stdout",
     "output_type": "stream",
     "text": [
      "사각형의 면적: 20\n"
     ]
    }
   ],
   "source": [
    "a = Rectangle(4,5)\n",
    "a.rr()"
   ]
  },
  {
   "cell_type": "code",
   "execution_count": 31,
   "metadata": {},
   "outputs": [
    {
     "name": "stdout",
     "output_type": "stream",
     "text": [
      "정사각형의 면적: 9\n"
     ]
    }
   ],
   "source": [
    "class Shape:\n",
    "\n",
    "    def __init__(self,length):\n",
    "        self.length =length\n",
    "    \n",
    "    def area(self):\n",
    "        pass \n",
    "\n",
    "\n",
    "class Square(Shape):\n",
    "\n",
    "    def __init__(self,length):\n",
    "        super(Square,self).__init__(length)\n",
    "    \n",
    "    def area(self):\n",
    "        print('정사각형의 면적:',(self.length) * (self.length))\n",
    "\n",
    "\n",
    "\n",
    "\n",
    "a = Shape(3)\n",
    "a.area()\n",
    "b = Square(3)\n",
    "b.area()\n"
   ]
  },
  {
   "cell_type": "code",
   "execution_count": 35,
   "metadata": {},
   "outputs": [
    {
     "name": "stdout",
     "output_type": "stream",
     "text": [
      "Male\n",
      "Female\n"
     ]
    }
   ],
   "source": [
    "class Person:\n",
    "\n",
    "    def __init__(self):\n",
    "        pass\n",
    "    \n",
    "    def getGender(self):\n",
    "        print(\"Unknown\")\n",
    "\n",
    "class Male(Person):\n",
    "\n",
    "    def __init__(self):\n",
    "        super(Male,self).__init__()\n",
    "    \n",
    "    def getGender(self):\n",
    "        print(\"Male\")\n",
    "\n",
    "class Female(Person):\n",
    "    def __init__(self):\n",
    "        super(Female,self).__init__()\n",
    "    \n",
    "    def getGender(self):\n",
    "        print(\"Female\")\n",
    "\n",
    "\n",
    "\n",
    "b = Male()\n",
    "b.getGender()\n",
    "c = Female()\n",
    "c.getGender()\n",
    "\n"
   ]
  },
  {
   "cell_type": "code",
   "execution_count": null,
   "metadata": {},
   "outputs": [],
   "source": []
  }
 ],
 "metadata": {
  "interpreter": {
   "hash": "b45cb9130eebfe057782ef3fcf20eb5ae5c81aa7ea2b32ada9dc8e4e9a15b7c6"
  },
  "kernelspec": {
   "display_name": "Python 3.8.8 ('base': conda)",
   "language": "python",
   "name": "python3"
  },
  "language_info": {
   "codemirror_mode": {
    "name": "ipython",
    "version": 3
   },
   "file_extension": ".py",
   "mimetype": "text/x-python",
   "name": "python",
   "nbconvert_exporter": "python",
   "pygments_lexer": "ipython3",
   "version": "3.8.8"
  },
  "orig_nbformat": 4
 },
 "nbformat": 4,
 "nbformat_minor": 2
}
