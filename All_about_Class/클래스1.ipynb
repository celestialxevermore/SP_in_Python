{
 "cells": [
  {
   "cell_type": "markdown",
   "metadata": {},
   "source": [
    "#### 파이썬 클래스 상속과 super() "
   ]
  },
  {
   "cell_type": "code",
   "execution_count": 4,
   "metadata": {},
   "outputs": [],
   "source": [
    "class Person:\n",
    "    def __init__(self,name,age):\n",
    "        self.name=name\n",
    "        self.age = age\n",
    "\n",
    "    def get_name(self):\n",
    "        print('제 이름은 ',(self.name),'입니다.')\n",
    "\n",
    "    def get_age(self):\n",
    "        print('제 나이는',(self.age),'세 입니다.') \n",
    "\n"
   ]
  },
  {
   "cell_type": "code",
   "execution_count": 5,
   "metadata": {},
   "outputs": [
    {
     "name": "stdout",
     "output_type": "stream",
     "text": [
      "제 나이는 26 세 입니다.\n"
     ]
    }
   ],
   "source": [
    "A = Person('Kim',26)\n",
    "\n",
    "A.get_age()"
   ]
  },
  {
   "cell_type": "code",
   "execution_count": 6,
   "metadata": {},
   "outputs": [
    {
     "name": "stdout",
     "output_type": "stream",
     "text": [
      "제 이름은  Kim 입니다.\n"
     ]
    }
   ],
   "source": [
    "A.get_name()"
   ]
  },
  {
   "cell_type": "markdown",
   "metadata": {},
   "source": [
    "이제 이 사람이 대학생이라고 가정을 해보고 GPA라는 새로운 속성을\n",
    "\n",
    "추가로 부여하는 상황을 알아보겠습니다."
   ]
  },
  {
   "cell_type": "code",
   "execution_count": 7,
   "metadata": {},
   "outputs": [],
   "source": [
    "class Student:\n",
    "    def __init__(self,name,age,GPA):\n",
    "        self.name = name \n",
    "        self.age = age \n",
    "        self.GPA = GPA \n",
    "\n",
    "    def get_name(self):\n",
    "        print(\"제 이름은\",(self.name),\"입니다.\")\n",
    "\n",
    "    def get_age(self):\n",
    "        print(\"제 나이는\",(self.age),\"세 입니다\")\n",
    "    \n",
    "    def get_GPA(self):\n",
    "        print(\"제 학점은\",(self.GPA),\"입니다.\")\n",
    "    "
   ]
  },
  {
   "cell_type": "markdown",
   "metadata": {},
   "source": [
    "그러나, 위의 경우 Person 클래스에서 사용했던 name과 age 속성,\n",
    "\n",
    "그리고 get_name get_age 메소드를 중복하여 작성하고 있는 상황이 벌어지고 있습니다. \n",
    "\n",
    "이는 같은 작업이 반복되는 낭비입니다."
   ]
  },
  {
   "cell_type": "markdown",
   "metadata": {},
   "source": [
    "#### 파이썬 클래스 상속 방법 : super().__init__()\n",
    "\n",
    "super().__init__()이라는 코드가 다른 클래스의 속성 및 메소드를 \n",
    "\n",
    "자동으로 불러와 해당 클래스에서도 사용이 가능하도록 해줍니다."
   ]
  },
  {
   "cell_type": "code",
   "execution_count": 8,
   "metadata": {},
   "outputs": [],
   "source": [
    "class Student(Person):\n",
    "    def __init__(self,name,age,GPA):\n",
    "        #부모클래스의 name과 age를 그대로 물려받겠다.\n",
    "        super().__init__(name,age)\n",
    "        self.GPA=GPA \n",
    "\n",
    "    def get_GPA(self):\n",
    "        print('제 학점은',(self.GPA),'입니다.')"
   ]
  },
  {
   "cell_type": "code",
   "execution_count": 13,
   "metadata": {},
   "outputs": [
    {
     "name": "stdout",
     "output_type": "stream",
     "text": [
      "제 나이는 25 세 입니다.\n",
      "제 이름은  Kim 입니다.\n",
      "제 학점은 3.56 입니다.\n"
     ]
    }
   ],
   "source": [
    "B = Student('Kim',25,3.56)\n",
    "B.get_age()\n",
    "B.get_name()\n",
    "B.get_GPA()"
   ]
  },
  {
   "cell_type": "code",
   "execution_count": null,
   "metadata": {},
   "outputs": [],
   "source": []
  },
  {
   "cell_type": "markdown",
   "metadata": {},
   "source": []
  },
  {
   "cell_type": "markdown",
   "metadata": {},
   "source": [
    "#### 부모 클래스와 다른 메소드 사용하기\n",
    "\n",
    "때로는 메소드 이름은 같지만, 부모 클래스와 다른 기능을 하는 메소드를 \n",
    "\n",
    "구현하고 싶은 경우가 있을 것이다. \n",
    "\n",
    "이 경우에는 상속받은 클래스 내에서 동일한 이름의 메소드를 새롭게 \n",
    "\n",
    "구현하면 된다."
   ]
  },
  {
   "cell_type": "code",
   "execution_count": 14,
   "metadata": {},
   "outputs": [],
   "source": [
    "class Student(Person):\n",
    "    def __init__(self,name,age,GPA):\n",
    "        super().__init__(name,age)\n",
    "        self.GPA = GPA \n",
    "\n",
    "    def get_name(self):\n",
    "        print(\"저는 대학생\",(self.name),'입니다.')\n",
    "    \n",
    "    def get_GPA(self):\n",
    "        print(\"제 학점은\",(self.GPA),\"입니다.\")"
   ]
  },
  {
   "cell_type": "code",
   "execution_count": 15,
   "metadata": {},
   "outputs": [
    {
     "name": "stdout",
     "output_type": "stream",
     "text": [
      "저는 대학생 Lee 입니다.\n"
     ]
    }
   ],
   "source": [
    "C = Student('Lee',25,3.56)\n",
    "C.get_name()"
   ]
  },
  {
   "cell_type": "markdown",
   "metadata": {},
   "source": [
    "#### 부모 클래스의 메소드 호출하기 : super() 이용\n",
    "\n",
    "get_name()을 자식 클래스에서 새롭게 구현했음에도,\n",
    "\n",
    "부모 클래스에서 구현되었던 get_name()을 호출해보는 경우"
   ]
  },
  {
   "cell_type": "code",
   "execution_count": 22,
   "metadata": {},
   "outputs": [],
   "source": [
    "class Student(Person):\n",
    "    def __init__(self,name,age,GPA):\n",
    "        super().__init__(name,age)\n",
    "        self.GPA = GPA \n",
    "    \n",
    "    \n",
    "\n",
    "    def get_name(self):\n",
    "        print('저는 대학생',self.name, '입니다.')\n",
    "\n",
    "    def get_GPA(self):\n",
    "        super().get_name() #부모 클래스의 get_name()을 같이 실행\n",
    "        print('제 학점은',self.GPA,'입니다.')\n"
   ]
  },
  {
   "cell_type": "code",
   "execution_count": 23,
   "metadata": {},
   "outputs": [
    {
     "name": "stdout",
     "output_type": "stream",
     "text": [
      "제 이름은  Ryan 입니다.\n",
      "제 학점은 3.56 입니다.\n"
     ]
    }
   ],
   "source": [
    "D = Student('Ryan',26,3.56)\n",
    "D.get_GPA()"
   ]
  },
  {
   "cell_type": "code",
   "execution_count": 24,
   "metadata": {},
   "outputs": [
    {
     "name": "stdout",
     "output_type": "stream",
     "text": [
      "저는 대학생 Ryan 입니다.\n"
     ]
    }
   ],
   "source": [
    "D.get_name()"
   ]
  },
  {
   "cell_type": "code",
   "execution_count": null,
   "metadata": {},
   "outputs": [],
   "source": []
  }
 ],
 "metadata": {
  "interpreter": {
   "hash": "bbacf2a9d2e876d097b37d768b1e7f504d43ac1a5c7cfa4c05142076e87a32d3"
  },
  "kernelspec": {
   "display_name": "Python 3.8.12 64-bit ('tensorflowstart': conda)",
   "language": "python",
   "name": "python3"
  },
  "language_info": {
   "codemirror_mode": {
    "name": "ipython",
    "version": 3
   },
   "file_extension": ".py",
   "mimetype": "text/x-python",
   "name": "python",
   "nbconvert_exporter": "python",
   "pygments_lexer": "ipython3",
   "version": "3.8.12"
  },
  "orig_nbformat": 4
 },
 "nbformat": 4,
 "nbformat_minor": 2
}
