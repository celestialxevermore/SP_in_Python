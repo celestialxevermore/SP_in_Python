{
 "cells": [
  {
   "cell_type": "markdown",
   "metadata": {},
   "source": [
    "#### 클래스 상속 사용하기"
   ]
  },
  {
   "cell_type": "code",
   "execution_count": 1,
   "metadata": {},
   "outputs": [],
   "source": [
    "class Person:\n",
    "    def greeting(self):\n",
    "        print('안녕하세요.')\n",
    "    \n",
    "\n",
    "class Student(Person):\n",
    "    \n",
    "    def study(self):\n",
    "        print('공부하기')"
   ]
  },
  {
   "cell_type": "markdown",
   "metadata": {},
   "source": [
    "학생 개체인 james는 상위 클래스의 함수인 greeting도 사용할 수 있습니다."
   ]
  },
  {
   "cell_type": "code",
   "execution_count": 2,
   "metadata": {},
   "outputs": [
    {
     "name": "stdout",
     "output_type": "stream",
     "text": [
      "안녕하세요.\n"
     ]
    }
   ],
   "source": [
    "james = Student()\n",
    "james.greeting()"
   ]
  },
  {
   "cell_type": "code",
   "execution_count": 3,
   "metadata": {},
   "outputs": [
    {
     "name": "stdout",
     "output_type": "stream",
     "text": [
      "공부하기\n"
     ]
    }
   ],
   "source": [
    "james.study()"
   ]
  },
  {
   "cell_type": "markdown",
   "metadata": {},
   "source": [
    "이처럼 클래스 상속은 기반 클래스의 기능을 유지하면서 새로운 기능을 추가할 수 있습니다.\n",
    "\n",
    "특히 클래스 상속은 연관되면서 동등한 기능일 때 사용합니다. \n",
    "\n",
    "즉 학생은 사람이므로 연관된 개념이고, 학생은 사람에서 역할만 확장되었을 뿐 동등한 개념입니다."
   ]
  },
  {
   "cell_type": "markdown",
   "metadata": {},
   "source": [
    "<상속 관계 확인하기>\n",
    "\n",
    "\n",
    "클래스의 상속 관계를 확인하고 싶으면 issubClass 함수를 사용합니다. "
   ]
  },
  {
   "cell_type": "markdown",
   "metadata": {},
   "source": [
    "#### 상속 관계 / 포함 관계\n",
    "\n",
    "앞에서 만든 Student 클래스는 Person 클래스를 상속받아서 만들었습니다."
   ]
  },
  {
   "cell_type": "code",
   "execution_count": 6,
   "metadata": {},
   "outputs": [],
   "source": [
    "class Person:\n",
    "    def greeting(self):\n",
    "        print('안녕하세요')\n",
    "\n",
    "\n",
    "class PersonList:\n",
    "    def __init__(self):\n",
    "        self.personlist=[]\n",
    "    \n",
    "    def append_person(self,person):\n",
    "        self.personlist.append(person)"
   ]
  },
  {
   "cell_type": "code",
   "execution_count": 7,
   "metadata": {},
   "outputs": [],
   "source": [
    "ryan = Person()\n",
    "\n",
    "List = PersonList()\n",
    "List.append_person(ryan)"
   ]
  },
  {
   "cell_type": "markdown",
   "metadata": {},
   "source": [
    "#### 기반 클래스의 속성 사용하기"
   ]
  },
  {
   "cell_type": "code",
   "execution_count": 12,
   "metadata": {},
   "outputs": [],
   "source": [
    "class Person:\n",
    "    def __init__(self):\n",
    "        print('Person __init__')\n",
    "        self.hello = '안녕하세요.'\n",
    "\n",
    "\n",
    "class Student(Person):\n",
    "    def __init__(self):\n",
    "        #super()는 상위 클래스의 생성자를 호출합니다. \n",
    "        #super().__init__()\n",
    "        print('Student __init__')\n",
    "        self.school = '파이썬 학교'\n",
    "\n",
    "    "
   ]
  },
  {
   "cell_type": "code",
   "execution_count": 13,
   "metadata": {},
   "outputs": [
    {
     "name": "stdout",
     "output_type": "stream",
     "text": [
      "Student __init__\n",
      "파이썬 학교\n"
     ]
    },
    {
     "ename": "AttributeError",
     "evalue": "'Student' object has no attribute 'hello'",
     "output_type": "error",
     "traceback": [
      "\u001b[0;31m---------------------------------------------------------------------------\u001b[0m",
      "\u001b[0;31mAttributeError\u001b[0m                            Traceback (most recent call last)",
      "\u001b[0;32m/tmp/ipykernel_11947/2559037091.py\u001b[0m in \u001b[0;36m<module>\u001b[0;34m\u001b[0m\n\u001b[1;32m      1\u001b[0m \u001b[0mjames\u001b[0m\u001b[0;34m=\u001b[0m\u001b[0mStudent\u001b[0m\u001b[0;34m(\u001b[0m\u001b[0;34m)\u001b[0m\u001b[0;34m\u001b[0m\u001b[0;34m\u001b[0m\u001b[0m\n\u001b[1;32m      2\u001b[0m \u001b[0mprint\u001b[0m\u001b[0;34m(\u001b[0m\u001b[0mjames\u001b[0m\u001b[0;34m.\u001b[0m\u001b[0mschool\u001b[0m\u001b[0;34m)\u001b[0m\u001b[0;34m\u001b[0m\u001b[0;34m\u001b[0m\u001b[0m\n\u001b[0;32m----> 3\u001b[0;31m \u001b[0mprint\u001b[0m\u001b[0;34m(\u001b[0m\u001b[0mjames\u001b[0m\u001b[0;34m.\u001b[0m\u001b[0mhello\u001b[0m\u001b[0;34m)\u001b[0m\u001b[0;34m\u001b[0m\u001b[0;34m\u001b[0m\u001b[0m\n\u001b[0m",
      "\u001b[0;31mAttributeError\u001b[0m: 'Student' object has no attribute 'hello'"
     ]
    }
   ],
   "source": [
    "james=Student()\n",
    "print(james.school)\n",
    "print(james.hello)"
   ]
  },
  {
   "cell_type": "markdown",
   "metadata": {},
   "source": [
    "Student의 init만 호출되었고 기반 클래스 Person의 init은 호출되지 않았습니다.\n",
    "\n",
    "즉 기반 클래스 Person의 init이 호출되지 않았기 때문에, self.hello도 존재하지 않는 것입니다."
   ]
  },
  {
   "cell_type": "markdown",
   "metadata": {},
   "source": [
    "#### super()로 기반 클래스를 초기화 하기\n",
    "\n",
    "이 말은 즉 super()가 상위 클래스의 생성자를 호출한다는 뜻입니다.\n",
    "\n",
    "super().__init__()를 하면 됩니다."
   ]
  },
  {
   "cell_type": "code",
   "execution_count": 14,
   "metadata": {},
   "outputs": [],
   "source": [
    "class Person:\n",
    "    def __init__(self):\n",
    "        print(\"Person init\")\n",
    "        self.hello=\"안녕하세요\"\n",
    "\n",
    "\n",
    "class Student(Person):\n",
    "    def __init__(self):\n",
    "        print(\"Student init\")\n",
    "        super().__init__() # super로 기반 클래스의 __init__() 메서드를 호출 \n",
    "\n",
    "        self.school='파이썬 학교'"
   ]
  },
  {
   "cell_type": "code",
   "execution_count": 15,
   "metadata": {},
   "outputs": [
    {
     "name": "stdout",
     "output_type": "stream",
     "text": [
      "Student init\n",
      "Person init\n",
      "파이썬 학교\n",
      "안녕하세요\n"
     ]
    }
   ],
   "source": [
    "james = Student()\n",
    "print(james.school)\n",
    "print(james.hello)"
   ]
  },
  {
   "cell_type": "markdown",
   "metadata": {},
   "source": [
    "#### 기반 클래스를 초기화하지 않아도 되는 경우\n",
    "\n",
    "만일 파생 클래스에서 __init을 생략한다면 기반 클래스의 __init이 자동적으로 호출됩니다.\n",
    "\n",
    "따라서 super()는 사용하지 않아도 됩니다."
   ]
  },
  {
   "cell_type": "code",
   "execution_count": 16,
   "metadata": {},
   "outputs": [],
   "source": [
    "class Person:\n",
    "    \n",
    "    def __init__(self):\n",
    "        print('Person __init__')\n",
    "        self.hello=\"안녕하세요.\"\n",
    "    \n",
    "\n",
    "class Student(Person):\n",
    "    pass \n"
   ]
  },
  {
   "cell_type": "code",
   "execution_count": 17,
   "metadata": {},
   "outputs": [
    {
     "name": "stdout",
     "output_type": "stream",
     "text": [
      "Person __init__\n",
      "안녕하세요.\n"
     ]
    }
   ],
   "source": [
    "james = Student()\n",
    "print(james.hello)"
   ]
  },
  {
   "cell_type": "markdown",
   "metadata": {},
   "source": [
    "<좀 더 명확하게 super 사용하기>\n",
    "\n",
    "super는 다음과 같이 파생클래스, self를 넣어서 해당 파생클래스의 부모 클래스의 메서드를 불러옵니다.\n",
    "\n",
    "super(파생클래스,self).부모 클래스의 메서드"
   ]
  },
  {
   "cell_type": "code",
   "execution_count": 19,
   "metadata": {},
   "outputs": [],
   "source": [
    "class Student(Person):\n",
    "\n",
    "    def __init__(self):\n",
    "        print('Student __init__')\n",
    "        super(Student,self).__init__()\n",
    "\n",
    "\n",
    "        self.school = '파이썬 학교'"
   ]
  },
  {
   "cell_type": "markdown",
   "metadata": {},
   "source": [
    "#### 메서드 오버라이딩\n",
    "\n",
    "파생 클래스에서 기반 클래스의 메서드를 새로 정의하는 메서드 오버라이딩"
   ]
  },
  {
   "cell_type": "code",
   "execution_count": 26,
   "metadata": {},
   "outputs": [],
   "source": [
    "class Civilian:\n",
    "\n",
    "    def __init__(self,**kwargs):\n",
    "        self.name = kwargs['name']\n",
    "        self.age = kwargs['age']\n",
    "    \n",
    "    def greeting(self):\n",
    "        print(\"I'm civilian\")\n",
    "    \n",
    "\n",
    "\n",
    "class Knight(Civilian):\n",
    "\n",
    "    def __init__(self,**kwargs):\n",
    "        super(Civilian,self).__init__()\n",
    "        self.name = kwargs['name']\n",
    "        self.age = kwargs['age']\n",
    "    \n",
    "    def greeting(self):\n",
    "        print(\"I'm Knight\")\n"
   ]
  },
  {
   "cell_type": "code",
   "execution_count": 28,
   "metadata": {},
   "outputs": [
    {
     "name": "stdout",
     "output_type": "stream",
     "text": [
      "I'm civilian\n",
      "I'm Knight\n"
     ]
    }
   ],
   "source": [
    "Civil = Civilian(name='Ryan',age=25)\n",
    "Knights = Knight(name='Arthur',age=30)\n",
    "\n",
    "Civil.greeting()\n",
    "Knights.greeting()\n",
    "\n"
   ]
  },
  {
   "cell_type": "code",
   "execution_count": 29,
   "metadata": {},
   "outputs": [],
   "source": [
    "class Person:\n",
    "    def greeting(self):\n",
    "        print('안녕하세요')\n",
    "\n",
    "class Student(Person):\n",
    "    def greeting(self):\n",
    "        print('안녕하세요, 저는 파이썬 학교에 재학중인 학생입니다.')\n",
    "    "
   ]
  },
  {
   "cell_type": "code",
   "execution_count": 30,
   "metadata": {},
   "outputs": [
    {
     "name": "stdout",
     "output_type": "stream",
     "text": [
      "안녕하세요, 저는 파이썬 학교에 재학중인 학생입니다.\n"
     ]
    }
   ],
   "source": [
    "james = Student()\n",
    "james.greeting()"
   ]
  },
  {
   "cell_type": "markdown",
   "metadata": {},
   "source": [
    "Override : ~를 무시하다, ~를 우선하다 라는 뜻을 가지고 있는데, 말 그대로 \n",
    "\n",
    "기반 클래스의 메서드를 무시하고 동일한 이름의 새로운 메서드를 만든다는 뜻입니다. "
   ]
  },
  {
   "cell_type": "markdown",
   "metadata": {},
   "source": [
    "Method Overriding을 사용하는 이유\n",
    "\n",
    "같은 greeting이라는 본질은 유지하되, 코드의 사용처에 맞게 상황마다 변형을 최소화하면서\n",
    "\n",
    "사용하기 위함."
   ]
  },
  {
   "cell_type": "code",
   "execution_count": 31,
   "metadata": {},
   "outputs": [],
   "source": [
    "class Civilian:\n",
    "\n",
    "    def __init__(self,**kwargs):\n",
    "        self.name = kwargs['name']\n",
    "        self.age = kwargs['age']\n",
    "    \n",
    "    def greeting(self):\n",
    "        print('안녕하신가요?')\n",
    "\n",
    "\n",
    "class Knight(Civilian):\n",
    "\n",
    "    def __init__(self,**kwargs):\n",
    "        self.name = kwargs['name']\n",
    "        self.age = kwargs['age']\n",
    "    \n",
    "    def greeting(self):\n",
    "        #이렇게 super().메서드를 사용하면 상위 클래스의 메서드를 \n",
    "        #호출할 수 있습니다.\n",
    "        super().greeting()\n",
    "        print(\"I'm a Knight\")"
   ]
  },
  {
   "cell_type": "code",
   "execution_count": 33,
   "metadata": {},
   "outputs": [
    {
     "name": "stdout",
     "output_type": "stream",
     "text": [
      "안녕하신가요?\n",
      "I'm a Knight\n"
     ]
    }
   ],
   "source": [
    "james = Knight(name = 'Ryan',age = 35)\n",
    "james.greeting()"
   ]
  },
  {
   "cell_type": "code",
   "execution_count": null,
   "metadata": {},
   "outputs": [],
   "source": []
  }
 ],
 "metadata": {
  "interpreter": {
   "hash": "bbacf2a9d2e876d097b37d768b1e7f504d43ac1a5c7cfa4c05142076e87a32d3"
  },
  "kernelspec": {
   "display_name": "Python 3.8.12 64-bit ('tensorflowstart': conda)",
   "language": "python",
   "name": "python3"
  },
  "language_info": {
   "codemirror_mode": {
    "name": "ipython",
    "version": 3
   },
   "file_extension": ".py",
   "mimetype": "text/x-python",
   "name": "python",
   "nbconvert_exporter": "python",
   "pygments_lexer": "ipython3",
   "version": "3.8.12"
  },
  "orig_nbformat": 4
 },
 "nbformat": 4,
 "nbformat_minor": 2
}
