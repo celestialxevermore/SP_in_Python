{
 "cells": [
  {
   "cell_type": "markdown",
   "metadata": {},
   "source": [
    "#### 다중 상속\n",
    "\n",
    "다중 상속은 여러 기반 클래스로부터 상속을 받아 파생 클래스를 만드는 방법입니다.\n",
    "\n",
    "다음과 같이 클래스를 만들 때 () 안에 클래스 이름을 ,로 구분해서 넣습니다."
   ]
  },
  {
   "cell_type": "code",
   "execution_count": 1,
   "metadata": {},
   "outputs": [],
   "source": [
    "class Person:\n",
    "\n",
    "    def greeting(self):\n",
    "        print('안녕하세요.')\n",
    "\n",
    "\n",
    "class University:\n",
    "    def manage_credit(self):\n",
    "        print('학점 관리')\n",
    "\n",
    "\n",
    "class Undergraduate(Person,University):\n",
    "    def study(self):\n",
    "        print('공부하기')"
   ]
  },
  {
   "cell_type": "code",
   "execution_count": 3,
   "metadata": {},
   "outputs": [
    {
     "name": "stdout",
     "output_type": "stream",
     "text": [
      "안녕하세요.\n",
      "학점 관리\n",
      "공부하기\n"
     ]
    }
   ],
   "source": [
    "james = Undergraduate()\n",
    "\n",
    "james.greeting()\n",
    "james.manage_credit()\n",
    "james.study()"
   ]
  },
  {
   "cell_type": "markdown",
   "metadata": {},
   "source": [
    "#### 다이아몬드 상속\n"
   ]
  },
  {
   "cell_type": "code",
   "execution_count": 4,
   "metadata": {},
   "outputs": [],
   "source": [
    "class A:\n",
    "    def greeting(self):\n",
    "        print('안녕하세요, A입니다.')\n",
    "\n",
    "class B(A):\n",
    "    def greeting(self):\n",
    "        print('안녕하세요, B입니다.')\n",
    "\n",
    "class C(A):\n",
    "    def greeting(self):\n",
    "        print('안녕하세요, C입니다.')\n",
    "\n",
    "\n",
    "class D(B,C):\n",
    "    pass"
   ]
  },
  {
   "cell_type": "code",
   "execution_count": 5,
   "metadata": {},
   "outputs": [
    {
     "name": "stdout",
     "output_type": "stream",
     "text": [
      "안녕하세요, B입니다.\n"
     ]
    }
   ],
   "source": [
    "x = D()\n",
    "x.greeting()"
   ]
  },
  {
   "cell_type": "markdown",
   "metadata": {},
   "source": [
    "어 왜 B가 나오지?"
   ]
  },
  {
   "cell_type": "markdown",
   "metadata": {},
   "source": [
    "프로그래밍에서는 이렇게 명확하지 않고 애매한 상태를 좋아하지 않습니다.\n",
    "\n",
    "어떨 때에는 A의 메서드를 호출하고, 어떨 때에는 B,C의 메서드를 호출한다면 큰 문제가 발생할 것입니다."
   ]
  },
  {
   "cell_type": "markdown",
   "metadata": {},
   "source": [
    "#### 메서드 탐색 순서 확인하기\n",
    "\n",
    "D.mro()를 해보면 다음과 같이 메서드 탐색의 순서가 나오게 됩니다.\n",
    "\n",
    "D -> B -> C -> A 순서임을 알 수 있습니다. "
   ]
  },
  {
   "cell_type": "code",
   "execution_count": 6,
   "metadata": {},
   "outputs": [
    {
     "data": {
      "text/plain": [
       "[__main__.D, __main__.B, __main__.C, __main__.A, object]"
      ]
     },
     "execution_count": 6,
     "metadata": {},
     "output_type": "execute_result"
    }
   ],
   "source": [
    "D.mro()"
   ]
  },
  {
   "cell_type": "markdown",
   "metadata": {},
   "source": []
  }
 ],
 "metadata": {
  "interpreter": {
   "hash": "f92b2924b84ff19c1c3dc485f7644d4486f64738191026bf8e6de303969141b5"
  },
  "kernelspec": {
   "display_name": "Python 2.7.17 64-bit",
   "language": "python",
   "name": "python3"
  },
  "language_info": {
   "codemirror_mode": {
    "name": "ipython",
    "version": 3
   },
   "file_extension": ".py",
   "mimetype": "text/x-python",
   "name": "python",
   "nbconvert_exporter": "python",
   "pygments_lexer": "ipython3",
   "version": "3.8.12"
  },
  "orig_nbformat": 4
 },
 "nbformat": 4,
 "nbformat_minor": 2
}
