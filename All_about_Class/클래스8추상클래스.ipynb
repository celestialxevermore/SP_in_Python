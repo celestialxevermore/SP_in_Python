{
 "cells": [
  {
   "cell_type": "markdown",
   "metadata": {},
   "source": [
    "#### 추상 클래스\n",
    "\n",
    "추상 클래스는 메서드의 목록만을 가진 클래스입니다. \n",
    "\n",
    "상속 받는 클래스에서 메서드 구현을 강제하기 위해 사용합니다.\n",
    "\n"
   ]
  },
  {
   "cell_type": "markdown",
   "metadata": {},
   "source": [
    "먼저 추상 클래스를 만들려면 import로 abc 모듈을 가져와야 합니다. \n",
    "\n",
    "abc : Abstract Base Class의 약자입니다. \n",
    "\n",
    "그리고 클래스의 () 안에 metaClass=ABCMeta를 지정하고,\n",
    "\n",
    "메서드를 만들 때 위에 @abstractmethod를 붙여야 합니다."
   ]
  },
  {
   "cell_type": "code",
   "execution_count": 4,
   "metadata": {},
   "outputs": [],
   "source": [
    "from abc import * \n",
    "\n",
    "class StudentBase(metaclass=ABCMeta):\n",
    "\n",
    "    @abstractmethod\n",
    "    def study(self):\n",
    "        pass \n",
    "\n",
    "    @abstractmethod\n",
    "    def go_to_school(self):\n",
    "        pass\n",
    "\n"
   ]
  },
  {
   "cell_type": "markdown",
   "metadata": {},
   "source": [
    "위처럼 StudentBase라는 추상클래스를 만들고, 이를 학생 클래스가 상속받는다고 하면"
   ]
  },
  {
   "cell_type": "code",
   "execution_count": 12,
   "metadata": {},
   "outputs": [],
   "source": [
    "class Student(StudentBase):\n",
    "\n",
    "    def study(self):\n",
    "        print('공부하기')\n",
    "    \n",
    "    def go_to_school(self):\n",
    "        print('학교에 가기')"
   ]
  },
  {
   "cell_type": "code",
   "execution_count": 13,
   "metadata": {},
   "outputs": [
    {
     "name": "stdout",
     "output_type": "stream",
     "text": [
      "공부하기\n"
     ]
    }
   ],
   "source": [
    "james= Student()\n",
    "james.study()"
   ]
  },
  {
   "cell_type": "markdown",
   "metadata": {},
   "source": [
    "추상 클래스에서 자바에서의 인터페이스처럼 명시되어 있는 메서드를 \n",
    "\n",
    "상속 받은 다른 하위 클래스에서 정의하지 않으면 에러가 발생합니다.\n",
    "\n",
    "여기에서는 study() 메서드만 구현하고, go_to_school() 메서드는 구현하지 않았으므로\n",
    "\n",
    "에러가 발생합니다.\n",
    "\n"
   ]
  },
  {
   "cell_type": "markdown",
   "metadata": {},
   "source": [
    "따라서, 추상 클래스를 상속 받았다면, @abctractmethod가 붙은 추상 메서드를 모두 구현해야 합니다.\n",
    "\n"
   ]
  },
  {
   "cell_type": "markdown",
   "metadata": {},
   "source": [
    "#### 추상 메서드를 빈 메서드로 만드는 이유\n",
    "\n",
    "그리고 또 한가지 중요한 점이 있습니다.\n",
    "\n",
    "바로 추상 클래스는 인스턴스로 만들 수 없다는 점입니다."
   ]
  },
  {
   "cell_type": "markdown",
   "metadata": {},
   "source": []
  }
 ],
 "metadata": {
  "interpreter": {
   "hash": "bbacf2a9d2e876d097b37d768b1e7f504d43ac1a5c7cfa4c05142076e87a32d3"
  },
  "kernelspec": {
   "display_name": "Python 3.8.12 64-bit ('tensorflowstart': conda)",
   "language": "python",
   "name": "python3"
  },
  "language_info": {
   "codemirror_mode": {
    "name": "ipython",
    "version": 3
   },
   "file_extension": ".py",
   "mimetype": "text/x-python",
   "name": "python",
   "nbconvert_exporter": "python",
   "pygments_lexer": "ipython3",
   "version": "3.8.12"
  },
  "orig_nbformat": 4
 },
 "nbformat": 4,
 "nbformat_minor": 2
}
