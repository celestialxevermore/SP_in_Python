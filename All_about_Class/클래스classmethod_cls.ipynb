{
 "cells": [
  {
   "cell_type": "markdown",
   "metadata": {},
   "source": [
    "#### 정적 메소드(Static Method, Class Method)"
   ]
  },
  {
   "cell_type": "code",
   "execution_count": 2,
   "metadata": {},
   "outputs": [],
   "source": [
    "class hello:\n",
    "    num = 10 \n",
    "\n",
    "    @staticmethod \n",
    "    def calc(x):\n",
    "        return x + 10 \n"
   ]
  },
  {
   "cell_type": "code",
   "execution_count": 3,
   "metadata": {},
   "outputs": [
    {
     "name": "stdout",
     "output_type": "stream",
     "text": [
      "20\n"
     ]
    }
   ],
   "source": [
    "print(hello.calc(10))"
   ]
  },
  {
   "cell_type": "code",
   "execution_count": 4,
   "metadata": {},
   "outputs": [],
   "source": [
    "#class method \n",
    "\n",
    "class hello:\n",
    "    num = 10 \n",
    "\n",
    "    @classmethod \n",
    "    def calc(cls,x):\n",
    "        return x + 10 \n"
   ]
  },
  {
   "cell_type": "code",
   "execution_count": 5,
   "metadata": {},
   "outputs": [
    {
     "name": "stdout",
     "output_type": "stream",
     "text": [
      "20\n"
     ]
    }
   ],
   "source": [
    "print(hello.calc(10))"
   ]
  },
  {
   "cell_type": "markdown",
   "metadata": {},
   "source": [
    "#### cls의 정체가 뭘까"
   ]
  },
  {
   "cell_type": "code",
   "execution_count": 6,
   "metadata": {},
   "outputs": [],
   "source": [
    "class hello:\n",
    "    num = 10 \n",
    "\n",
    "    @staticmethod\n",
    "    def calc(x):\n",
    "        return x + 10 + hello.num \n",
    "    "
   ]
  },
  {
   "cell_type": "code",
   "execution_count": 7,
   "metadata": {},
   "outputs": [
    {
     "name": "stdout",
     "output_type": "stream",
     "text": [
      "30\n"
     ]
    }
   ],
   "source": [
    "print(hello.calc(10))"
   ]
  },
  {
   "cell_type": "markdown",
   "metadata": {},
   "source": [
    "classmethod는 더 세련된 방법으로 접근한다."
   ]
  },
  {
   "cell_type": "code",
   "execution_count": 31,
   "metadata": {},
   "outputs": [],
   "source": [
    "class hello:\n",
    "    num = 10 \n",
    "\n",
    "    @classmethod\n",
    "    def calc(clas,x):\n",
    "        return x + 10 + clas.num "
   ]
  },
  {
   "cell_type": "code",
   "execution_count": 32,
   "metadata": {},
   "outputs": [
    {
     "name": "stdout",
     "output_type": "stream",
     "text": [
      "30\n"
     ]
    }
   ],
   "source": [
    "print(hello.calc(10))"
   ]
  },
  {
   "cell_type": "code",
   "execution_count": 10,
   "metadata": {},
   "outputs": [],
   "source": [
    "class hello:\n",
    "    t = '내가 상속해 줬어'\n",
    "\n",
    "    @classmethod\n",
    "    def calc(cls):\n",
    "        return cls.t\n",
    "    \n",
    "    "
   ]
  },
  {
   "cell_type": "code",
   "execution_count": 11,
   "metadata": {},
   "outputs": [],
   "source": [
    "class hello_2(hello):\n",
    "    t = '나는 상속 받았어'\n",
    "    "
   ]
  },
  {
   "cell_type": "code",
   "execution_count": 12,
   "metadata": {},
   "outputs": [
    {
     "name": "stdout",
     "output_type": "stream",
     "text": [
      "나는 상속 받았어\n"
     ]
    }
   ],
   "source": [
    "h2 = hello_2()\n",
    "print(h2.calc())"
   ]
  },
  {
   "cell_type": "code",
   "execution_count": 13,
   "metadata": {},
   "outputs": [
    {
     "name": "stdout",
     "output_type": "stream",
     "text": [
      "나는 상속 받았어\n"
     ]
    }
   ],
   "source": [
    "print(hello_2.calc())"
   ]
  },
  {
   "cell_type": "code",
   "execution_count": 14,
   "metadata": {},
   "outputs": [
    {
     "name": "stdout",
     "output_type": "stream",
     "text": [
      "나는 상속 받았어\n"
     ]
    }
   ],
   "source": [
    "class hello:\n",
    "    t = '내가 상속해 줬어'\n",
    "\n",
    "    @classmethod\n",
    "    def calc(cls):\n",
    "        return cls.t\n",
    "\n",
    "class hello_2(hello):\n",
    "    t = '나는 상속 받았어'\n",
    "\n",
    "print(hello_2.calc())"
   ]
  },
  {
   "cell_type": "code",
   "execution_count": 26,
   "metadata": {},
   "outputs": [],
   "source": [
    "class parent:\n",
    "    a = 10\n",
    "    b = 20 \n",
    "\n",
    "    @classmethod\n",
    "    def calc(cls):\n",
    "        return cls.a"
   ]
  },
  {
   "cell_type": "code",
   "execution_count": 27,
   "metadata": {},
   "outputs": [],
   "source": [
    "class child(parent):\n",
    "    c = 30 \n",
    "    "
   ]
  },
  {
   "cell_type": "code",
   "execution_count": 30,
   "metadata": {},
   "outputs": [
    {
     "name": "stdout",
     "output_type": "stream",
     "text": [
      "10\n",
      "40\n"
     ]
    }
   ],
   "source": [
    "print(child.calc())\n",
    "print(child.c+child.calc())"
   ]
  },
  {
   "cell_type": "code",
   "execution_count": null,
   "metadata": {},
   "outputs": [],
   "source": []
  }
 ],
 "metadata": {
  "interpreter": {
   "hash": "9e15a3c1e5a0b9948e461c933b1210e1c61658222f801330e838cfb00c5a7d08"
  },
  "kernelspec": {
   "display_name": "Python 3.10.2 64-bit",
   "language": "python",
   "name": "python3"
  },
  "language_info": {
   "codemirror_mode": {
    "name": "ipython",
    "version": 3
   },
   "file_extension": ".py",
   "mimetype": "text/x-python",
   "name": "python",
   "nbconvert_exporter": "python",
   "pygments_lexer": "ipython3",
   "version": "3.10.2"
  },
  "orig_nbformat": 4
 },
 "nbformat": 4,
 "nbformat_minor": 2
}
