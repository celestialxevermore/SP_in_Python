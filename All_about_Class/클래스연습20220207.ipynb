{
 "cells": [
  {
   "cell_type": "markdown",
   "metadata": {},
   "source": [
    "#### 클래스 정리"
   ]
  },
  {
   "cell_type": "code",
   "execution_count": 3,
   "metadata": {},
   "outputs": [],
   "source": [
    "class Person:\n",
    "    def __init__(self,**kwargs):\n",
    "        self.name = kwargs['name'] \n",
    "        self.age = kwargs['age'] \n",
    "        self.__wage = 10000\n",
    "    \n",
    "    def get_name(self):\n",
    "        print(\"name : {}\".format(self.name))\n",
    "    \n",
    "    def get_age(self):\n",
    "        print(\"age : {}\".format(self.age))\n",
    "    \n",
    "    def buy(self,target):\n",
    "        if self.__wage < target:\n",
    "            raise(\n",
    "                \"The target is larger than your wage\"\n",
    "            )\n",
    "        else:\n",
    "\n",
    "            self.__wage = self.__wage - target \n",
    "            print('after transaction : {}'.format(self.__wage))\n",
    "\n",
    "\n",
    "\n",
    "\n",
    "class Magician(Person):\n",
    "\n",
    "    def __init__(self,**kwargs):\n",
    "        super(Magician,self).__init__(**kwargs)\n",
    "        self.mana = kwargs['mana']\n",
    "    \n",
    "    def get_age(self):\n",
    "        print(\"Magician age : {}\".format(self.age))\n",
    "    \n",
    "    def get_name(self):\n",
    "        print(\"Magician name : {}\".format(self.name))\n",
    "    \n",
    "    def fire_ball(self):\n",
    "        if self.mana >30:\n",
    "            print(\"Fire ball!!\")\n",
    "            self.mana = self.mana -30\n",
    "    \n",
    "\n",
    "\n",
    "\n",
    "class Knight(Person):\n",
    "\n",
    "    def __init__(self,**kwargs):\n",
    "        super(Knight,self).__init__(**kwargs)\n",
    "        self.stamina = kwargs['stamina']\n",
    "    \n",
    "    def get_age(self):\n",
    "        print(\"Knight age : {}\".format(self.age))\n",
    "    \n",
    "    def get_name(self):\n",
    "        print(\"Knight name : {}\".format(self.name))\n",
    "\n",
    "    def sword(self):\n",
    "        if self.stamina >50:\n",
    "            print(\"Sword!!\")\n",
    "            self.stamina = self.stamina-50"
   ]
  },
  {
   "cell_type": "code",
   "execution_count": 4,
   "metadata": {},
   "outputs": [],
   "source": [
    "x = Person(name=\"Ryan\",age=25)\n",
    "y = Magician(name='Anna',age=23,mana=500)\n",
    "z = Knight(name='Arthur',age=30,stamina=4000)\n"
   ]
  },
  {
   "cell_type": "code",
   "execution_count": 5,
   "metadata": {},
   "outputs": [
    {
     "name": "stdout",
     "output_type": "stream",
     "text": [
      "name : Ryan\n",
      "age : 25\n",
      "Magician name : Anna\n",
      "Magician age : 23\n",
      "Fire ball!!\n",
      "Knight name : Arthur\n",
      "Knight age : 30\n",
      "Sword!!\n"
     ]
    }
   ],
   "source": [
    "x.get_name()\n",
    "x.get_age()\n",
    "\n",
    "y.get_name()\n",
    "y.get_age()\n",
    "y.fire_ball()\n",
    "\n",
    "z.get_name()\n",
    "z.get_age()\n",
    "z.sword()"
   ]
  },
  {
   "cell_type": "code",
   "execution_count": null,
   "metadata": {},
   "outputs": [],
   "source": []
  }
 ],
 "metadata": {
  "interpreter": {
   "hash": "bbacf2a9d2e876d097b37d768b1e7f504d43ac1a5c7cfa4c05142076e87a32d3"
  },
  "kernelspec": {
   "display_name": "Python 3.8.12 ('tensorflowstart': conda)",
   "language": "python",
   "name": "python3"
  },
  "language_info": {
   "codemirror_mode": {
    "name": "ipython",
    "version": 3
   },
   "file_extension": ".py",
   "mimetype": "text/x-python",
   "name": "python",
   "nbconvert_exporter": "python",
   "pygments_lexer": "ipython3",
   "version": "3.8.12"
  },
  "orig_nbformat": 4
 },
 "nbformat": 4,
 "nbformat_minor": 2
}
