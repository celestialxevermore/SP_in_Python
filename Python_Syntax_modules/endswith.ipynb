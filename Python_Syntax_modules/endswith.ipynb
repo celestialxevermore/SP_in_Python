{
 "cells": [
  {
   "cell_type": "markdown",
   "metadata": {},
   "source": [
    "#### 문자열 찾기 관련 함수"
   ]
  },
  {
   "cell_type": "markdown",
   "metadata": {},
   "source": [
    "1. find(찾을 문자, 찾기 시작할 위치, 찾기를 끝맺을 위치)"
   ]
  },
  {
   "cell_type": "code",
   "execution_count": 1,
   "metadata": {},
   "outputs": [
    {
     "data": {
      "text/plain": [
       "1"
      ]
     },
     "execution_count": 1,
     "metadata": {},
     "output_type": "execute_result"
    }
   ],
   "source": [
    "hang = \"가나다라마바사\"\n",
    "\n",
    "hang.find(\"나\")"
   ]
  },
  {
   "cell_type": "markdown",
   "metadata": {},
   "source": [
    "2. rfind : find와 같은 기능인데, 맨끝, 즉 from right부터 들어감.\n"
   ]
  },
  {
   "cell_type": "code",
   "execution_count": 2,
   "metadata": {},
   "outputs": [
    {
     "data": {
      "text/plain": [
       "1"
      ]
     },
     "execution_count": 2,
     "metadata": {},
     "output_type": "execute_result"
    }
   ],
   "source": [
    "test=\"abcdefgabcdefg\"\n",
    "test.find('b')"
   ]
  },
  {
   "cell_type": "code",
   "execution_count": 3,
   "metadata": {},
   "outputs": [
    {
     "data": {
      "text/plain": [
       "8"
      ]
     },
     "execution_count": 3,
     "metadata": {},
     "output_type": "execute_result"
    }
   ],
   "source": [
    "test.rfind('b')"
   ]
  },
  {
   "cell_type": "markdown",
   "metadata": {},
   "source": [
    "3. startwith : 문자열의 시작이 인자로 시작하는지 확인\n",
    "\n",
    "리턴은 bool"
   ]
  },
  {
   "cell_type": "code",
   "execution_count": 6,
   "metadata": {},
   "outputs": [
    {
     "name": "stdout",
     "output_type": "stream",
     "text": [
      "섹스\n",
      "섹스하고 싶다\n",
      "섹스는 무슨..\n",
      "느금\n",
      "섹스으\n",
      "느금\n"
     ]
    }
   ],
   "source": [
    "test=[\"섹스\",\"섹스하고 싶다\",\"섹스는 무슨..\",\"야 기분좋다\",\"섹스으\",\"일간베스트 만세\"]\n",
    "\n",
    "for x in test:\n",
    "    if x.startswith('섹스'):\n",
    "        print(x)\n",
    "    else:\n",
    "        print('느금')"
   ]
  },
  {
   "cell_type": "markdown",
   "metadata": {},
   "source": [
    "4. endswith : 반대로, 특정 문자열의 끝이 인자인지 확인\n",
    "\n",
    "리턴은 bool"
   ]
  },
  {
   "cell_type": "code",
   "execution_count": 7,
   "metadata": {},
   "outputs": [
    {
     "name": "stdout",
     "output_type": "stream",
     "text": [
      "느금마\n",
      "섹스하고 싶다\n",
      "느금마\n",
      "야 기분좋다\n",
      "느금마\n",
      "느금마\n"
     ]
    }
   ],
   "source": [
    "for x in test:\n",
    "    if x.endswith('다'):\n",
    "        print(x)\n",
    "    else:\n",
    "        print('느금마')"
   ]
  },
  {
   "cell_type": "code",
   "execution_count": 8,
   "metadata": {},
   "outputs": [],
   "source": [
    "class Search:\n",
    "\n",
    "    def __init__(self,**kwargs):\n",
    "        self.group = kwargs['group']\n",
    "    \n",
    "    def find(self,keyword):\n",
    "        if keyword in self.group:\n",
    "            print(\"The keyword {} is in your directory.\".format(keyword))\n",
    "        else:\n",
    "            print(\"Re certificate your directory or input\")\n",
    "    \n",
    "    def insert(self,keyword):\n",
    "        if keyword not in self.group:\n",
    "            self.group.append(keyword)\n",
    "            print(self.group)\n",
    "        else:\n",
    "            print(\"The keyword {} is already exist\".format(keyword))\n",
    "\n",
    "\n",
    "    def return_endswith(self,keyword):\n",
    "\n",
    "        res=[]\n",
    "        for x in self.group:\n",
    "            if x.endswith(keyword):\n",
    "                res.append(x)\n",
    "        return res\n",
    "    "
   ]
  },
  {
   "cell_type": "code",
   "execution_count": 10,
   "metadata": {},
   "outputs": [],
   "source": [
    "group1 = ['고등어','갈치','붕어','광어','복어']\n",
    "\n",
    "test1 = Search(group=group1)"
   ]
  },
  {
   "cell_type": "code",
   "execution_count": 11,
   "metadata": {},
   "outputs": [
    {
     "name": "stdout",
     "output_type": "stream",
     "text": [
      "The keyword 광어 is in your directory.\n"
     ]
    }
   ],
   "source": [
    "test1.find('광어')"
   ]
  },
  {
   "cell_type": "code",
   "execution_count": 15,
   "metadata": {},
   "outputs": [],
   "source": [
    "a= test1.return_endswith('어')\n"
   ]
  },
  {
   "cell_type": "code",
   "execution_count": 16,
   "metadata": {},
   "outputs": [
    {
     "name": "stdout",
     "output_type": "stream",
     "text": [
      "The keyword 섹스 is already exist\n"
     ]
    }
   ],
   "source": [
    "test1.insert('섹스'\n",
    ")"
   ]
  },
  {
   "cell_type": "code",
   "execution_count": 17,
   "metadata": {},
   "outputs": [
    {
     "data": {
      "text/plain": [
       "['고등어', '붕어', '광어', '복어']"
      ]
     },
     "execution_count": 17,
     "metadata": {},
     "output_type": "execute_result"
    }
   ],
   "source": [
    "a"
   ]
  },
  {
   "cell_type": "code",
   "execution_count": null,
   "metadata": {},
   "outputs": [],
   "source": []
  }
 ],
 "metadata": {
  "interpreter": {
   "hash": "bbacf2a9d2e876d097b37d768b1e7f504d43ac1a5c7cfa4c05142076e87a32d3"
  },
  "kernelspec": {
   "display_name": "Python 3.8.12 ('tensorflowstart': conda)",
   "language": "python",
   "name": "python3"
  },
  "language_info": {
   "codemirror_mode": {
    "name": "ipython",
    "version": 3
   },
   "file_extension": ".py",
   "mimetype": "text/x-python",
   "name": "python",
   "nbconvert_exporter": "python",
   "pygments_lexer": "ipython3",
   "version": "3.8.12"
  },
  "orig_nbformat": 4
 },
 "nbformat": 4,
 "nbformat_minor": 2
}
