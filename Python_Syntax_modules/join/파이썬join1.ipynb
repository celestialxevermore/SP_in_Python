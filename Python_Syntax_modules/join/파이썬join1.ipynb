{
 "cells": [
  {
   "cell_type": "markdown",
   "metadata": {},
   "source": [
    "\n",
    "#### JOIN\n",
    "\n",
    "\"\".join(리스트)를 이용하면, 매개변수로 들어온 ['a','b','c'] 의 리스트를 abc의 문자열로 합쳐 변환해주는 함수입니다."
   ]
  },
  {
   "cell_type": "markdown",
   "metadata": {},
   "source": [
    "구분자.join(리스트) : \n",
    "\n",
    "만약 '_'.join([a,b,c])이렇게 되면 이에 대한 리턴은 a_b_c가 됩니다. "
   ]
  },
  {
   "cell_type": "code",
   "execution_count": 1,
   "metadata": {},
   "outputs": [
    {
     "name": "stdout",
     "output_type": "stream",
     "text": [
      "['a', 'b', 'c', 'd', '1', '2', '3']\n"
     ]
    }
   ],
   "source": [
    "a = ['a','b','c','d','1','2','3']\n",
    "print(a)"
   ]
  },
  {
   "cell_type": "code",
   "execution_count": 6,
   "metadata": {},
   "outputs": [
    {
     "name": "stdout",
     "output_type": "stream",
     "text": [
      "a_b_c_d_1_2_3\n",
      "<class 'str'>\n",
      "13\n"
     ]
    }
   ],
   "source": [
    "b = '_'.join(a)\n",
    "print(b)\n",
    "print(type(b))\n",
    "print(len(b))"
   ]
  },
  {
   "cell_type": "code",
   "execution_count": 3,
   "metadata": {},
   "outputs": [
    {
     "name": "stdout",
     "output_type": "stream",
     "text": [
      "['a', 'b', 'c', 'd', '1', '2', '3']\n"
     ]
    }
   ],
   "source": [
    "c = b.split('_')\n",
    "print(c)"
   ]
  },
  {
   "cell_type": "markdown",
   "metadata": {},
   "source": [
    "join 구분자 예제"
   ]
  },
  {
   "cell_type": "code",
   "execution_count": 7,
   "metadata": {},
   "outputs": [
    {
     "name": "stdout",
     "output_type": "stream",
     "text": [
      "['BlockDMask', 'python', 'join', 'example']\n"
     ]
    }
   ],
   "source": [
    "origin = ['BlockDMask','python','join','example']\n",
    "print(origin)"
   ]
  },
  {
   "cell_type": "code",
   "execution_count": 8,
   "metadata": {},
   "outputs": [
    {
     "name": "stdout",
     "output_type": "stream",
     "text": [
      "BlockDMask python join example\n"
     ]
    }
   ],
   "source": [
    "#리스트를 문자열로 합치기.\n",
    "nextt = \" \".join(origin)\n",
    "print(nextt)"
   ]
  },
  {
   "cell_type": "markdown",
   "metadata": {},
   "source": [
    "join()를 통해 \"_\".join(origin), \"-\".join(origin) 를 하여 \n",
    "\n",
    "문자열로 이루어진 리스트를 규칙성에 의거 합칠 수 있다. 반복문이 필요없이."
   ]
  },
  {
   "cell_type": "code",
   "execution_count": 16,
   "metadata": {},
   "outputs": [
    {
     "name": "stdout",
     "output_type": "stream",
     "text": [
      "BlockDMask.\n",
      "python.\n",
      "example.\n",
      "happy new year\n"
     ]
    }
   ],
   "source": [
    "origin = ['BlockDMask', 'python', 'example', 'happy new year']\n",
    "\n",
    "#리스트를 문자열로 합치기\n",
    "\n",
    "result = \".\\n\".join(origin)\n",
    "print(result)"
   ]
  },
  {
   "cell_type": "markdown",
   "metadata": {},
   "source": [
    "문자열의 요소마다 .을 찍고, 줄바꿈을 합니다.\n",
    "\n",
    "이를 다시 원상태로 복구하려면 split('\\n')을 하면 됩니다."
   ]
  },
  {
   "cell_type": "code",
   "execution_count": 17,
   "metadata": {},
   "outputs": [
    {
     "name": "stdout",
     "output_type": "stream",
     "text": [
      "['BlockDMask', 'python', 'example', 'happy new year']\n"
     ]
    }
   ],
   "source": [
    "origin = result.split('.\\n')\n",
    "print(origin)"
   ]
  },
  {
   "cell_type": "code",
   "execution_count": null,
   "metadata": {},
   "outputs": [],
   "source": []
  }
 ],
 "metadata": {
  "interpreter": {
   "hash": "bbacf2a9d2e876d097b37d768b1e7f504d43ac1a5c7cfa4c05142076e87a32d3"
  },
  "kernelspec": {
   "display_name": "Python 3.8.12 ('tensorflowstart': conda)",
   "language": "python",
   "name": "python3"
  },
  "language_info": {
   "codemirror_mode": {
    "name": "ipython",
    "version": 3
   },
   "file_extension": ".py",
   "mimetype": "text/x-python",
   "name": "python",
   "nbconvert_exporter": "python",
   "pygments_lexer": "ipython3",
   "version": "3.8.12"
  },
  "orig_nbformat": 4
 },
 "nbformat": 4,
 "nbformat_minor": 2
}
