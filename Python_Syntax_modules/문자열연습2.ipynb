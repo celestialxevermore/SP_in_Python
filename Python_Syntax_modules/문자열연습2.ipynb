{
 "cells": [
  {
   "cell_type": "markdown",
   "metadata": {},
   "source": [
    "#### 문자열 찾기 함수"
   ]
  },
  {
   "cell_type": "markdown",
   "metadata": {},
   "source": [
    "1. find(찾을 문자, 찾기 시작할 위치, 찾기를 끝맺을 위치)"
   ]
  },
  {
   "cell_type": "code",
   "execution_count": 1,
   "metadata": {},
   "outputs": [
    {
     "data": {
      "text/plain": [
       "1"
      ]
     },
     "execution_count": 1,
     "metadata": {},
     "output_type": "execute_result"
    }
   ],
   "source": [
    "hangle = \"가나다라마바사\"\n",
    "hangle.find('나')"
   ]
  },
  {
   "cell_type": "code",
   "execution_count": 2,
   "metadata": {},
   "outputs": [
    {
     "data": {
      "text/plain": [
       "8"
      ]
     },
     "execution_count": 2,
     "metadata": {},
     "output_type": "execute_result"
    }
   ],
   "source": [
    "hangle2 = \"가나다라마바사가나다라마바사\"\n",
    "\n",
    "hangle2.find('나',3)"
   ]
  },
  {
   "cell_type": "markdown",
   "metadata": {},
   "source": [
    "2. rfind \n",
    "\n",
    "find와 같은 기능을 하는데, r, 즉 오른쪽, 문자의 맨 끝에서부터 탐색을 시작합니다."
   ]
  },
  {
   "cell_type": "code",
   "execution_count": 3,
   "metadata": {},
   "outputs": [
    {
     "data": {
      "text/plain": [
       "13"
      ]
     },
     "execution_count": 3,
     "metadata": {},
     "output_type": "execute_result"
    }
   ],
   "source": [
    "alpha = \"abcdefgabcfedf\"\n",
    "\n",
    "alpha.rfind('f')"
   ]
  },
  {
   "cell_type": "code",
   "execution_count": 7,
   "metadata": {},
   "outputs": [
    {
     "name": "stdout",
     "output_type": "stream",
     "text": [
      "13\n",
      "5\n"
     ]
    }
   ],
   "source": [
    "print(alpha.rfind('f',1))\n",
    "print(alpha.find('f'))\n"
   ]
  },
  {
   "cell_type": "markdown",
   "metadata": {},
   "source": [
    "3. startswith \n",
    "\n",
    "문자열의 시작이 인자로 시작하는지 확인\n",
    "\n",
    "\n",
    "이 함수가 특히 PS 뿐 아니라 모델에서 Preprocessing할 때도 중요합니다.\n",
    "\n",
    "Return : Bool"
   ]
  },
  {
   "cell_type": "code",
   "execution_count": 8,
   "metadata": {},
   "outputs": [],
   "source": [
    "test = [\"alpha.txt\",\"best.txt\",\"random.avi\",\"best.avi\",\"float.txt\"]"
   ]
  },
  {
   "cell_type": "code",
   "execution_count": 9,
   "metadata": {},
   "outputs": [
    {
     "name": "stdout",
     "output_type": "stream",
     "text": [
      "0\n",
      "alpha.txt\n",
      "pass\n",
      "pass\n",
      "pass\n",
      "pass\n"
     ]
    }
   ],
   "source": [
    "for x in test:\n",
    "    if x.startswith('alpha'):\n",
    "        print(x.find('a'))\n",
    "        print(x)\n",
    "    else:\n",
    "        print('pass')"
   ]
  },
  {
   "cell_type": "markdown",
   "metadata": {},
   "source": [
    "4. endswith \n",
    "\n",
    "startswith의 반대 연산을 합니다. \n",
    "\n",
    "이 함수는 보통 어떤 데이터셋에서 확장자, 혹은 연도를 제거하려고 할 때 많이 쓰입니다. \n",
    "\n",
    "Return : Bool"
   ]
  },
  {
   "cell_type": "code",
   "execution_count": 11,
   "metadata": {},
   "outputs": [
    {
     "name": "stdout",
     "output_type": "stream",
     "text": [
      "alpha.txt\n",
      "best.txt\n",
      "pass\n",
      "pass\n",
      "float.txt\n"
     ]
    }
   ],
   "source": [
    "for x in test:\n",
    "    if x.endswith('txt'):\n",
    "        print(x)\n",
    "    else:\n",
    "        print('pass')"
   ]
  },
  {
   "cell_type": "markdown",
   "metadata": {},
   "source": [
    "Class 문법과 같이 한번 써보도록 합시다."
   ]
  },
  {
   "cell_type": "markdown",
   "metadata": {},
   "source": [
    "1) 사전을 구현하는 클래스를 구현하세요.\n",
    "\n",
    "\n",
    "\n",
    "2) 입력으로는 단어와 해당 단어의 뜻이 들어갑니다. \n",
    "\n",
    "\n",
    "\n",
    "3) 입력으로는 가능하다면 이미 정의되어 있는 사전을 입력받을 수 있도록 하십시오.\n",
    "\n",
    "\n",
    "\n",
    "4) 함수\n",
    "  - 검색 단어가 이미 있는지 없는지를 검사하는 함수\n",
    "  - 입력된 단어로 끝나는 단어가 몇 개 존재하는지 리턴하는 함수 \n",
    "  - 입력된 단어로 시작하는 단어가 몇 개 존재하는지 리턴하는 함수 "
   ]
  },
  {
   "cell_type": "code",
   "execution_count": 24,
   "metadata": {},
   "outputs": [],
   "source": [
    "class NewDict(object):\n",
    "    \n",
    "    def __init__(self,dict):\n",
    "        super(NewDict,self).__init__()\n",
    "        self.dict = dict\n",
    "    \n",
    "    def print_keys(self):\n",
    "        keylist = list(self.dict.keys())\n",
    "        for x in keylist:\n",
    "            print(x)\n",
    "    \n",
    "    def print_values(self):\n",
    "        valuelist = list(self.dict.values())\n",
    "        for x in valuelist:\n",
    "            print(x)\n"
   ]
  },
  {
   "cell_type": "code",
   "execution_count": 33,
   "metadata": {},
   "outputs": [],
   "source": [
    "class MyDictionary(NewDict):\n",
    "\n",
    "    def __init__(self,**kwargs):\n",
    "        self.keys = kwargs['keys']\n",
    "        self.values = kwargs['values']\n",
    "        dicts={}\n",
    "        for k,v in zip(self.keys,self.values):\n",
    "            if k not in dicts:\n",
    "                dicts[k]=v \n",
    "            else:\n",
    "                continue\n",
    "        self.dicts = dicts\n",
    "        #print(self.dicts)\n",
    "        super(MyDictionary,self).__init__(self.dicts)\n",
    "    \n",
    "    def isindict(self,target):\n",
    "        if len(self.keys)==0:\n",
    "            print(\"Your dictionary is empty\")\n",
    "        else:\n",
    "            if target not in self.keys:\n",
    "                print(\"{} is not in your dictionary\".format(target))\n",
    "            else:\n",
    "                print(\"{} is in your dictionary\".format(target))\n",
    "\n",
    "    \n",
    "    #입력된 단어로 끝나는 단어가 몇 개 존재하는지 리턴하는 함수 \n",
    "    def isendswith(self,target):\n",
    "        reslist=[]\n",
    "        for x in self.keys:\n",
    "            if x.endswith(target):\n",
    "                reslist.append(x)\n",
    "        print(reslist)\n",
    "        #return reslist\n",
    "    \n",
    "    #입력된 단어로 끝나는 단어의 뜻을 리턴하는 함수\n",
    "    def targetvalue(self,target):\n",
    "        reslist= []\n",
    "        \n",
    "        for x in self.keys:\n",
    "            if x.endswith(target):\n",
    "                reslist.append(self.dicts[x])\n",
    "        \n",
    "        print(reslist)\n",
    "    \n",
    "    #입력된 단어로 시작하는 단어가 몇 개 존재하는지 리턴하는 함수 \n",
    "    def isstartswithnum(self,target):\n",
    "        cnt=0\n",
    "        for x in self.keys:\n",
    "            if x.startswith(target):\n",
    "                cnt+=1\n",
    "        print(cnt)\n",
    "    \n",
    "            \n"
   ]
  },
  {
   "cell_type": "code",
   "execution_count": 34,
   "metadata": {},
   "outputs": [],
   "source": [
    "keys=['광어','연어','복어','사시미','옥돔','넙치']\n",
    "values=['광어 존나 맛있음','연어는 광어보단 덜..','복어는 술먹을 때만','사시미는 눈 앞에서만','넙치는 아직 안먹어봄']"
   ]
  },
  {
   "cell_type": "code",
   "execution_count": 35,
   "metadata": {},
   "outputs": [],
   "source": [
    "test = MyDictionary(keys=keys,values=values)\n"
   ]
  },
  {
   "cell_type": "code",
   "execution_count": 36,
   "metadata": {},
   "outputs": [
    {
     "name": "stdout",
     "output_type": "stream",
     "text": [
      "광어\n",
      "연어\n",
      "복어\n",
      "사시미\n",
      "옥돔\n"
     ]
    }
   ],
   "source": [
    "test.print_keys()"
   ]
  },
  {
   "cell_type": "code",
   "execution_count": 37,
   "metadata": {},
   "outputs": [
    {
     "name": "stdout",
     "output_type": "stream",
     "text": [
      "광어 존나 맛있음\n",
      "연어는 광어보단 덜..\n",
      "복어는 술먹을 때만\n",
      "사시미는 눈 앞에서만\n",
      "넙치는 아직 안먹어봄\n"
     ]
    }
   ],
   "source": [
    "test.print_values()"
   ]
  },
  {
   "cell_type": "code",
   "execution_count": 38,
   "metadata": {},
   "outputs": [
    {
     "name": "stdout",
     "output_type": "stream",
     "text": [
      "['광어', '연어', '복어']\n"
     ]
    }
   ],
   "source": [
    "test.isendswith('어')"
   ]
  },
  {
   "cell_type": "code",
   "execution_count": 39,
   "metadata": {},
   "outputs": [
    {
     "name": "stdout",
     "output_type": "stream",
     "text": [
      "['광어 존나 맛있음', '연어는 광어보단 덜..', '복어는 술먹을 때만']\n"
     ]
    }
   ],
   "source": [
    "test.targetvalue('어')"
   ]
  },
  {
   "cell_type": "code",
   "execution_count": 40,
   "metadata": {},
   "outputs": [
    {
     "name": "stdout",
     "output_type": "stream",
     "text": [
      "1\n"
     ]
    }
   ],
   "source": [
    "test.isstartswithnum('광')"
   ]
  },
  {
   "cell_type": "code",
   "execution_count": 41,
   "metadata": {},
   "outputs": [
    {
     "name": "stdout",
     "output_type": "stream",
     "text": [
      "섹스 is not in your dictionary\n"
     ]
    }
   ],
   "source": [
    "test.isindict('섹스')"
   ]
  },
  {
   "cell_type": "code",
   "execution_count": null,
   "metadata": {},
   "outputs": [],
   "source": []
  }
 ],
 "metadata": {
  "interpreter": {
   "hash": "168ed19636e745bfbe4a91e9a649e49a89eb5d69331d40be8dade616bde7bd16"
  },
  "kernelspec": {
   "display_name": "Python 3.9.7 ('pytorchproject': conda)",
   "language": "python",
   "name": "python3"
  },
  "language_info": {
   "codemirror_mode": {
    "name": "ipython",
    "version": 3
   },
   "file_extension": ".py",
   "mimetype": "text/x-python",
   "name": "python",
   "nbconvert_exporter": "python",
   "pygments_lexer": "ipython3",
   "version": "3.8.12"
  },
  "orig_nbformat": 4
 },
 "nbformat": 4,
 "nbformat_minor": 2
}
