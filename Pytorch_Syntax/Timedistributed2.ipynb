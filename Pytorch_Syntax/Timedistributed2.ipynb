{
 "cells": [
  {
   "cell_type": "code",
   "execution_count": 3,
   "metadata": {},
   "outputs": [],
   "source": [
    "import torch \n",
    "import torch.nn as nn \n",
    "import torch.nn.functional as F "
   ]
  },
  {
   "cell_type": "code",
   "execution_count": 4,
   "metadata": {},
   "outputs": [],
   "source": [
    "class Encoder(nn.Module):\n",
    "    def __init__(self,seq_len,n_features,embedding_dim=64):\n",
    "        super(Encoder,self).__init__()\n",
    "        self.seq_len, self.n_features = seq_len,n_features \n",
    "        self.embedding_dim, self.hidden_dim = ( \n",
    "            embedding_dim, 2 *embedding_dim\n",
    "        )\n",
    "\n",
    "        self.rnn1 = nn.LSTM( \n",
    "            input_size=n_features,\n",
    "            hidden_size=self.hidden_dim, \n",
    "            num_layers=1,\n",
    "            batch_first = True\n",
    "        )\n",
    "        self.rnn2 = nn.LSTM( \n",
    "            input_size=self.hidden_dim, \n",
    "            hidden_size= embedding_dim, \n",
    "            num_layers=1, \n",
    "            batch_first = True\n",
    "        )\n",
    "    \n",
    "    def forward(self,x):\n",
    "        x,(_,_) = self.rnn1(x)\n",
    "        x,(hidden_n,_)=self.rnn2(x)\n",
    "        return x[:,-1,:]"
   ]
  },
  {
   "cell_type": "code",
   "execution_count": 5,
   "metadata": {},
   "outputs": [],
   "source": [
    "class TimeDistributed(nn.Module):\n",
    "    def __init__(self, module, batch_first=False):\n",
    "        super(TimeDistributed, self).__init__()\n",
    "        self.module = module\n",
    "        self.batch_first = batch_first\n",
    "\n",
    "    def forward(self, x):\n",
    "        if len(x.size()) <= 2:\n",
    "            return self.module(x)\n",
    "        # Squash samples and timesteps into a single axis\n",
    "        x_reshape = x.contiguous().view(-1, x.size(-1))  # (samples * timesteps, input_size)\n",
    "        y = self.module(x_reshape)\n",
    "        # We have to reshape Y\n",
    "        if self.batch_first:\n",
    "            y = y.contiguous().view(x.size(0), -1, y.size(-1))  # (samples, timesteps, output_size)\n",
    "        else:\n",
    "            y = y.view(-1, x.size(1), y.size(-1))  # (timesteps, samples, output_size)\n",
    "        return y"
   ]
  },
  {
   "cell_type": "code",
   "execution_count": 6,
   "metadata": {},
   "outputs": [],
   "source": [
    "class Decoder(nn.Module):\n",
    "    def __init__(self,seq_len,input_dim=64,n_features=1):\n",
    "        super(Decoder,self).__init__()\n",
    "        self.seq_len,self.input_dim = seq_len,input_dim \n",
    "        self.hidden_dim, self.n_features = 2 * input_dim,n_features \n",
    "        \n",
    "        self.rnn1 = nn.LSTM( \n",
    "            input_size = input_dim,\n",
    "            hidden_size = input_dim, \n",
    "            num_layers=1, \n",
    "            batch_first = True \n",
    "        )\n",
    "        self.rnn2 = nn.LSTM( \n",
    "            input_size=input_dim,\n",
    "            hidden_size=self.hidden_dim,\n",
    "            num_layers=1, \n",
    "            batch_first=True \n",
    "        )\n",
    "        self.output_layer = torch.nn.Linear(self.hidden_dim,n_features)\n",
    "        self.timedist = TimeDistributed(self.output_layer)\n",
    "    \n",
    "    def forward(self,x):\n",
    "        x = x.reshape(-1,1,self.input_dim).repeat(1,self.seq_len,1)\n",
    "        x, (hidden_n,cell_n) = self.rnn1(x) \n",
    "        x, (hidden_n,cell_n) = self.rnn2(x)\n",
    "        return self.timedist(x)"
   ]
  },
  {
   "cell_type": "code",
   "execution_count": null,
   "metadata": {},
   "outputs": [],
   "source": []
  }
 ],
 "metadata": {
  "kernelspec": {
   "display_name": "Python 3.10.2 64-bit",
   "language": "python",
   "name": "python3"
  },
  "language_info": {
   "codemirror_mode": {
    "name": "ipython",
    "version": 3
   },
   "file_extension": ".py",
   "mimetype": "text/x-python",
   "name": "python",
   "nbconvert_exporter": "python",
   "pygments_lexer": "ipython3",
   "version": "3.10.2"
  },
  "orig_nbformat": 4,
  "vscode": {
   "interpreter": {
    "hash": "f91c9d007224ed5df716fe46021560fe16606693cd367f495039aff3c405cc34"
   }
  }
 },
 "nbformat": 4,
 "nbformat_minor": 2
}
