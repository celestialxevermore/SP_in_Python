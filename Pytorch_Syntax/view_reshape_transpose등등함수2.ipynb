{
 "cells": [
  {
   "cell_type": "markdown",
   "metadata": {},
   "source": [
    "#### 여러가지 pytorch함수"
   ]
  },
  {
   "cell_type": "code",
   "execution_count": 3,
   "metadata": {},
   "outputs": [],
   "source": [
    "import torch\n",
    "import torch.nn as nn "
   ]
  },
  {
   "cell_type": "markdown",
   "metadata": {},
   "source": [
    "Upsample "
   ]
  },
  {
   "cell_type": "code",
   "execution_count": 2,
   "metadata": {},
   "outputs": [
    {
     "name": "stdout",
     "output_type": "stream",
     "text": [
      "input : tensor([[[[1., 2.],\n",
      "          [3., 4.]]]])\n",
      "input shape : torch.Size([1, 1, 2, 2])\n"
     ]
    }
   ],
   "source": [
    "input = torch.arange(1,5,dtype=torch.float32).view(1,1,2,2)\n",
    "\n",
    "print('input :',input)\n",
    "print('input shape :',input.shape)"
   ]
  },
  {
   "cell_type": "code",
   "execution_count": 8,
   "metadata": {},
   "outputs": [
    {
     "name": "stdout",
     "output_type": "stream",
     "text": [
      "u1 : tensor([[[[1.0000, 1.2500, 1.7500, 2.0000],\n",
      "          [1.5000, 1.7500, 2.2500, 2.5000],\n",
      "          [2.5000, 2.7500, 3.2500, 3.5000],\n",
      "          [3.0000, 3.2500, 3.7500, 4.0000]]]])\n",
      "u1.shape : torch.Size([1, 1, 4, 4])\n"
     ]
    }
   ],
   "source": [
    "upsampled1 = nn.Upsample(scale_factor=2,mode='bilinear')\n",
    "u1 = upsampled1(input)\n",
    "print(\"u1 :\",u1)\n",
    "print('u1.shape :',u1.shape)"
   ]
  },
  {
   "cell_type": "code",
   "execution_count": 10,
   "metadata": {},
   "outputs": [
    {
     "name": "stdout",
     "output_type": "stream",
     "text": [
      "tensor([0, 1, 2, 3, 4, 5, 6, 7, 8])\n",
      "nums shape : torch.Size([9])\n"
     ]
    }
   ],
   "source": [
    "nums = torch.arange(9)\n",
    "print(nums)\n",
    "print('nums shape :',nums.shape)"
   ]
  },
  {
   "cell_type": "code",
   "execution_count": 12,
   "metadata": {},
   "outputs": [
    {
     "name": "stdout",
     "output_type": "stream",
     "text": [
      "[0 1 2 3 4 5 6 7 8]\n",
      "(9,)\n",
      "<class 'numpy.ndarray'>\n"
     ]
    }
   ],
   "source": [
    "#torch tensor를 numpy로 타입 변환 \n",
    "numpyed = nums.numpy()\n",
    "print(numpyed)\n",
    "print(numpyed.shape)\n",
    "print(type(numpyed))"
   ]
  },
  {
   "cell_type": "code",
   "execution_count": 18,
   "metadata": {},
   "outputs": [
    {
     "name": "stdout",
     "output_type": "stream",
     "text": [
      "<class 'torch.Tensor'>\n",
      "torch.Size([9])\n",
      "tensor([[0, 1, 2],\n",
      "        [3, 4, 5],\n",
      "        [6, 7, 8]])\n",
      "torch.Size([1, 3, 3])\n",
      "tensor([[[0, 1, 2],\n",
      "         [3, 4, 5],\n",
      "         [6, 7, 8]]])\n",
      "tensor([[[0, 1, 2]],\n",
      "\n",
      "        [[3, 4, 5]],\n",
      "\n",
      "        [[6, 7, 8]]])\n"
     ]
    }
   ],
   "source": [
    "print(type(nums))\n",
    "print(nums.shape)\n",
    "print(nums.view(3,-1))\n",
    "\n",
    "\n",
    "permuted1 = nums.view(1,3,3)\n",
    "print(permuted1.shape)\n",
    "print(permuted1)\n",
    "print(permuted1.permute(1,0,2))\n"
   ]
  },
  {
   "cell_type": "code",
   "execution_count": 19,
   "metadata": {},
   "outputs": [
    {
     "data": {
      "text/plain": [
       "tensor([[1., 2.],\n",
       "        [3., 4.]])"
      ]
     },
     "execution_count": 19,
     "metadata": {},
     "output_type": "execute_result"
    }
   ],
   "source": [
    "torch.tensor([\n",
    "    [1,2],\n",
    "    [3,4.]\n",
    "])"
   ]
  },
  {
   "cell_type": "code",
   "execution_count": 21,
   "metadata": {},
   "outputs": [
    {
     "name": "stdout",
     "output_type": "stream",
     "text": [
      "tensor([0, 1, 2, 3, 4, 5, 6, 7, 8, 9])\n"
     ]
    }
   ],
   "source": [
    "#arange를 이용한 1차원 텐서 \n",
    "oned = torch.arange(0,10)\n",
    "print(oned)"
   ]
  },
  {
   "cell_type": "code",
   "execution_count": 25,
   "metadata": {},
   "outputs": [
    {
     "name": "stdout",
     "output_type": "stream",
     "text": [
      "tensor([[0., 0., 0., 0., 0.],\n",
      "        [0., 0., 0., 0., 0.],\n",
      "        [0., 0., 0., 0., 0.]])\n",
      "torch.Size([3, 5])\n",
      "torch.Size([3, 5, 1])\n"
     ]
    }
   ],
   "source": [
    "zeros = torch.zeros([3,5])\n",
    "print(zeros)\n",
    "print(zeros.shape)\n",
    "unsqueed1 = zeros.unsqueeze(2)\n",
    "print(unsqueed1.shape)\n"
   ]
  },
  {
   "cell_type": "code",
   "execution_count": 1,
   "metadata": {},
   "outputs": [],
   "source": [
    "import torch"
   ]
  },
  {
   "cell_type": "code",
   "execution_count": 2,
   "metadata": {},
   "outputs": [],
   "source": [
    "test1 = torch.rand(5,1,3,224,224)"
   ]
  },
  {
   "cell_type": "code",
   "execution_count": 3,
   "metadata": {},
   "outputs": [
    {
     "name": "stdout",
     "output_type": "stream",
     "text": [
      "tensor_size  torch.Size([5, 1, 3, 224, 224])\n"
     ]
    }
   ],
   "source": [
    "tensor_size = test1.size()\n",
    "print(\"tensor_size \",tensor_size)"
   ]
  },
  {
   "cell_type": "code",
   "execution_count": 5,
   "metadata": {},
   "outputs": [
    {
     "name": "stdout",
     "output_type": "stream",
     "text": [
      "resized : torch.Size([5, 1, 3, 224, 224])\n"
     ]
    }
   ],
   "source": [
    "resized = test1.view(-1,1,tensor_size[-3],tensor_size[-2],tensor_size[-1])\n",
    "print(\"resized :\",resized.shape)"
   ]
  },
  {
   "cell_type": "code",
   "execution_count": 6,
   "metadata": {},
   "outputs": [
    {
     "name": "stdout",
     "output_type": "stream",
     "text": [
      "resized2 : torch.Size([15, 1, 3, 114, 114])\n"
     ]
    }
   ],
   "source": [
    "test2 = torch.rand(15,1,3,114,114)\n",
    "tensor_size2 = test2.size()\n",
    "resized2 = test2.view(-1,1,tensor_size2[-3],tensor_size2[-2],tensor_size2[-1])\n",
    "print(\"resized2 :\",resized2.shape)"
   ]
  },
  {
   "cell_type": "code",
   "execution_count": 7,
   "metadata": {},
   "outputs": [
    {
     "name": "stdout",
     "output_type": "stream",
     "text": [
      "15\n"
     ]
    }
   ],
   "source": [
    "print(resized2.shape[0])"
   ]
  },
  {
   "cell_type": "code",
   "execution_count": 8,
   "metadata": {},
   "outputs": [],
   "source": [
    "import numpy as np"
   ]
  },
  {
   "cell_type": "code",
   "execution_count": 25,
   "metadata": {},
   "outputs": [],
   "source": [
    "max_frame = 10\n",
    "slice_framepos=5\n",
    "if max_frame < resized2.shape[0]:\n",
    "    if slice_framepos==0:\n",
    "        res = resized2[:max_frame, ...]\n",
    "    elif slice_framepos==1:\n",
    "        res = resized2[-max_frame, ...]\n",
    "    else:\n",
    "        sample_indx = np.linspace(0,resized2.shape[0]-1, num=max_frame,dtype=int)\n",
    "        res = resized2[sample_indx,...]\n",
    "else:\n",
    "    res = resized2"
   ]
  },
  {
   "cell_type": "code",
   "execution_count": 26,
   "metadata": {},
   "outputs": [
    {
     "name": "stdout",
     "output_type": "stream",
     "text": [
      "torch.Size([10, 1, 3, 114, 114])\n",
      "[ 0  1  3  4  6  7  9 10 12 14]\n"
     ]
    }
   ],
   "source": [
    "print(res.shape)\n",
    "print(sample_indx)"
   ]
  },
  {
   "cell_type": "code",
   "execution_count": null,
   "metadata": {},
   "outputs": [],
   "source": []
  }
 ],
 "metadata": {
  "interpreter": {
   "hash": "1c45c269bc2f1467f51b0d7ce18bdfa2841a09c768d41ed69b0f11077738bf91"
  },
  "kernelspec": {
   "display_name": "Python 3.9.7 ('base')",
   "language": "python",
   "name": "python3"
  },
  "language_info": {
   "codemirror_mode": {
    "name": "ipython",
    "version": 3
   },
   "file_extension": ".py",
   "mimetype": "text/x-python",
   "name": "python",
   "nbconvert_exporter": "python",
   "pygments_lexer": "ipython3",
   "version": "3.9.7"
  },
  "orig_nbformat": 4
 },
 "nbformat": 4,
 "nbformat_minor": 2
}
