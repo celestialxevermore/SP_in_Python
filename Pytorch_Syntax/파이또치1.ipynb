{
 "cells": [
  {
   "cell_type": "markdown",
   "metadata": {},
   "source": [
    "Pytorch Practice!"
   ]
  },
  {
   "cell_type": "markdown",
   "metadata": {},
   "source": [
    "Numpy 1차원"
   ]
  },
  {
   "cell_type": "code",
   "execution_count": 1,
   "metadata": {},
   "outputs": [],
   "source": [
    "import numpy as np \n",
    "import torch "
   ]
  },
  {
   "cell_type": "code",
   "execution_count": 11,
   "metadata": {},
   "outputs": [],
   "source": [
    "np_1d = np.array([0,1,2,3,4])\n",
    "\n",
    "torch_1d = torch.tensor([1,2,3,4,5])"
   ]
  },
  {
   "cell_type": "code",
   "execution_count": 14,
   "metadata": {},
   "outputs": [
    {
     "name": "stdout",
     "output_type": "stream",
     "text": [
      "0 tensor(1)\n",
      "1 tensor(2)\n",
      "2 tensor(3)\n",
      "3 tensor(4)\n",
      "4 tensor(5)\n"
     ]
    }
   ],
   "source": [
    "for x,y in zip(np_1d,torch_1d):\n",
    "    print(x,y)"
   ]
  },
  {
   "cell_type": "markdown",
   "metadata": {},
   "source": [
    "1차원 넘파이 리스트에 대한 슬라이싱도 일반 파이썬 리스트처럼 가능합니다."
   ]
  },
  {
   "cell_type": "code",
   "execution_count": 15,
   "metadata": {},
   "outputs": [
    {
     "name": "stdout",
     "output_type": "stream",
     "text": [
      "2\n",
      "4\n",
      "tensor([2, 3])\n"
     ]
    }
   ],
   "source": [
    "print(np_1d[2])\n",
    "print(np_1d[-1])\n",
    "print(torch_1d[1:3])"
   ]
  },
  {
   "cell_type": "markdown",
   "metadata": {},
   "source": [
    "Numpy 2차원"
   ]
  },
  {
   "cell_type": "code",
   "execution_count": 18,
   "metadata": {},
   "outputs": [],
   "source": [
    "np_2d = np.array([[1,2,3],[4,5,6],[7,8,9]])\n",
    "\n",
    "torch_2d = torch.tensor([[1,2,3],[4,5,6],[7,8,9]])"
   ]
  },
  {
   "cell_type": "code",
   "execution_count": 19,
   "metadata": {},
   "outputs": [
    {
     "name": "stdout",
     "output_type": "stream",
     "text": [
      "1 tensor(1) 2 tensor(2) 3 tensor(3) \n",
      "4 tensor(4) 5 tensor(5) 6 tensor(6) \n",
      "7 tensor(7) 8 tensor(8) 9 tensor(9) \n"
     ]
    }
   ],
   "source": [
    "for i in range(len(np_2d)):\n",
    "    for j in range(len(torch_2d)):\n",
    "        print(np_2d[i][j],torch_2d[i][j],end=' ')\n",
    "    print()"
   ]
  },
  {
   "cell_type": "code",
   "execution_count": null,
   "metadata": {},
   "outputs": [],
   "source": []
  },
  {
   "cell_type": "markdown",
   "metadata": {},
   "source": [
    "Numpy, torch array에 대한 조건문, 반복문, 클래스 만들기 실습"
   ]
  },
  {
   "cell_type": "code",
   "execution_count": null,
   "metadata": {},
   "outputs": [],
   "source": []
  },
  {
   "cell_type": "code",
   "execution_count": 66,
   "metadata": {},
   "outputs": [],
   "source": [
    "class array:\n",
    "\n",
    "    ## 생성자 \n",
    "    def __init__(self,numpy_array,torch_array):\n",
    "        self.numpy_2d_array = numpy_array\n",
    "        self.torch_2d_array = torch_array\n",
    "\n",
    "    \n",
    "    def show_numpy_array(self):\n",
    "        for i in range(len(self.numpy_2d_array)):\n",
    "            for j in range(len(self.numpy_2d_array[0])):\n",
    "                print(self.numpy_2d_array[i][j], end=' ')\n",
    "            print()\n",
    "\n",
    "    def show_torch_array(self):\n",
    "        for i in range(len(self.torch_2d_array)):\n",
    "            for j in range(len(self.torch_2d_array[0])):\n",
    "                print(self.torch_2d_array[i][j],end=' ')\n",
    "            print()\n",
    "         \n",
    "        "
   ]
  },
  {
   "cell_type": "code",
   "execution_count": 113,
   "metadata": {},
   "outputs": [],
   "source": [
    "class array_main(array):\n",
    "\n",
    "    ## 생성자 \n",
    "    def __init__(self,**kwargs):\n",
    "        self.numpy_2d_array = kwargs['numpy_array']\n",
    "        self.torch_2d_array = kwargs['torch_array']\n",
    "        super(array_main,self).__init__(self.numpy_2d_array,self.torch_2d_array)\n",
    "\n",
    "    \n",
    "    def numpy_search(self,target):\n",
    "        res = []\n",
    "        for x in range(len(self.numpy_2d_array)):\n",
    "            for y in range(len(self.numpy_2d_array[0])):\n",
    "                if self.numpy_2d_array[x][y].endswith(target):\n",
    "                    res.append(self.numpy_2d_array[x][y])\n",
    "        print(res)\n",
    "\n",
    "    def numpy_length(self):\n",
    "        res=[]\n",
    "        for x in self.numpy_2d_array:\n",
    "            res.append(len(x))\n",
    "        print(res)\n",
    "   \n",
    "    def torch_size(self):\n",
    "        cnt=0\n",
    "        for x in range(len(self.torch_2d_array)):\n",
    "            for y in range(len(self.torch_2d_array[x])):\n",
    "                cnt+=1\n",
    "        print(cnt)\n",
    "        return cnt\n",
    "\n",
    "    def torch_describe(self):\n",
    "        yy = self.torch_2d_array\n",
    "        res = self.torch_size() \n",
    "        #print(res)\n",
    "        print('shape :',yy.shape,'size :',res,'dim :',yy.dim())\n",
    "        \n",
    "    \n",
    "\n"
   ]
  },
  {
   "cell_type": "code",
   "execution_count": 114,
   "metadata": {},
   "outputs": [
    {
     "data": {
      "text/plain": [
       "torch.Size([3, 3])"
      ]
     },
     "execution_count": 114,
     "metadata": {},
     "output_type": "execute_result"
    }
   ],
   "source": [
    "xx = np.array([['a','b','c'],['d','e','f'],['g','h','i']])\n",
    "yy = torch.tensor([[1,2,3],[4,5,6],[6,7,8]])\n",
    "\n",
    "yy.size()\n"
   ]
  },
  {
   "cell_type": "code",
   "execution_count": 115,
   "metadata": {},
   "outputs": [
    {
     "name": "stdout",
     "output_type": "stream",
     "text": [
      "2\n"
     ]
    }
   ],
   "source": [
    "x = array_main(numpy_array =  xx ,torch_array = yy)\n",
    "print(yy.dim())"
   ]
  },
  {
   "cell_type": "code",
   "execution_count": 118,
   "metadata": {},
   "outputs": [
    {
     "name": "stdout",
     "output_type": "stream",
     "text": [
      "a b c \n",
      "d e f \n",
      "g h i \n",
      "tensor(1) tensor(2) tensor(3) \n",
      "tensor(4) tensor(5) tensor(6) \n",
      "tensor(6) tensor(7) tensor(8) \n",
      "9\n",
      "shape : torch.Size([3, 3]) size : 9 dim : 2\n"
     ]
    }
   ],
   "source": [
    "x.show_numpy_array()\n",
    "x.show_torch_array()\n",
    "x.torch_describe()"
   ]
  },
  {
   "cell_type": "code",
   "execution_count": 117,
   "metadata": {},
   "outputs": [
    {
     "name": "stdout",
     "output_type": "stream",
     "text": [
      "9\n",
      "shape : torch.Size([3, 3]) size : 9 dim : 2\n"
     ]
    }
   ],
   "source": [
    "x.torch_describe()"
   ]
  },
  {
   "cell_type": "code",
   "execution_count": null,
   "metadata": {},
   "outputs": [],
   "source": []
  },
  {
   "cell_type": "code",
   "execution_count": null,
   "metadata": {},
   "outputs": [],
   "source": []
  }
 ],
 "metadata": {
  "interpreter": {
   "hash": "b45cb9130eebfe057782ef3fcf20eb5ae5c81aa7ea2b32ada9dc8e4e9a15b7c6"
  },
  "kernelspec": {
   "display_name": "Python 3.8.8 ('base': conda)",
   "language": "python",
   "name": "python3"
  },
  "language_info": {
   "codemirror_mode": {
    "name": "ipython",
    "version": 3
   },
   "file_extension": ".py",
   "mimetype": "text/x-python",
   "name": "python",
   "nbconvert_exporter": "python",
   "pygments_lexer": "ipython3",
   "version": "3.9.7"
  },
  "orig_nbformat": 4
 },
 "nbformat": 4,
 "nbformat_minor": 2
}
