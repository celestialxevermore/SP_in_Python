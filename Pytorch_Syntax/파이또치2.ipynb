{
 "cells": [
  {
   "cell_type": "markdown",
   "metadata": {},
   "source": [
    "#### Pytorch 실습 "
   ]
  },
  {
   "cell_type": "markdown",
   "metadata": {},
   "source": [
    "Numpy array, torch.tensor 조작하기"
   ]
  },
  {
   "cell_type": "code",
   "execution_count": 69,
   "metadata": {},
   "outputs": [],
   "source": [
    "import numpy as np \n",
    "import torch\n",
    "from collections import deque"
   ]
  },
  {
   "cell_type": "markdown",
   "metadata": {},
   "source": [
    "torch.tensor에서 주로 쓰는 자료형.."
   ]
  },
  {
   "cell_type": "markdown",
   "metadata": {},
   "source": [
    "FloatTensor : 32비트 float형 \n",
    "\n",
    "\n",
    "DoubleTensor : 64비트 float형 \n",
    "\n",
    "\n",
    "ByteTensor : 8비트 integer형 True / False \n",
    "\n",
    "\n",
    "LongTensor : 64비트 주로 integer형을 다룰 때에 사용합니다."
   ]
  },
  {
   "cell_type": "code",
   "execution_count": 7,
   "metadata": {},
   "outputs": [],
   "source": [
    "seed = np.array([1.,2.,3.,4.])"
   ]
  },
  {
   "cell_type": "code",
   "execution_count": 12,
   "metadata": {},
   "outputs": [
    {
     "name": "stdout",
     "output_type": "stream",
     "text": [
      "tensor([1., 2., 3., 4.])\n",
      "tensor([1., 2., 3., 4.], dtype=torch.float64)\n",
      "tensor([1, 2, 3, 4], dtype=torch.uint8)\n",
      "tensor([1, 2, 3, 4])\n",
      "tensor([1, 0], dtype=torch.uint8)\n"
     ]
    }
   ],
   "source": [
    "f_tensor = torch.FloatTensor(seed)\n",
    "print(f_tensor)\n",
    "\n",
    "d_tensor = torch.DoubleTensor(seed)\n",
    "print(d_tensor)\n",
    "\n",
    "b_tensor = torch.ByteTensor(seed)\n",
    "print(b_tensor)\n",
    "\n",
    "l_tensor = torch.LongTensor(seed)\n",
    "print(l_tensor)\n",
    "\n",
    "bool_tensor = torch.ByteTensor([True,False])\n",
    "print(bool_tensor)"
   ]
  },
  {
   "cell_type": "markdown",
   "metadata": {},
   "source": [
    "사칙 연산\n",
    "\n",
    "element-wise한 연산을 하거나, 내장 module - add,sub 등을 사용할 수도 있습니다."
   ]
  },
  {
   "cell_type": "code",
   "execution_count": 19,
   "metadata": {},
   "outputs": [],
   "source": [
    "E = torch.tensor([[1,0],[0,1]])"
   ]
  },
  {
   "cell_type": "code",
   "execution_count": 21,
   "metadata": {},
   "outputs": [],
   "source": [
    "tensor1 = torch.tensor([[3,5],[6,1]])\n",
    "tensor2 = torch.tensor([[8,1],[1,1]])"
   ]
  },
  {
   "cell_type": "code",
   "execution_count": 30,
   "metadata": {},
   "outputs": [
    {
     "name": "stdout",
     "output_type": "stream",
     "text": [
      "tensor([[3, 5],\n",
      "        [6, 1]])\n",
      "tensor([[3, 5],\n",
      "        [6, 1]])\n",
      "the two tensor is same\n"
     ]
    }
   ],
   "source": [
    "res = torch.tensor(np.dot(E,tensor1))\n",
    "\n",
    "\n",
    "print(res)\n",
    "print(tensor1)\n",
    "\n",
    "flag=1\n",
    "for x in range(len(res)):\n",
    "    for y in range(len(res[x])):\n",
    "        if res[x][y]==tensor1[x][y]:\n",
    "            continue \n",
    "        else:\n",
    "            flag=0\n",
    "            break \n",
    "    if flag==0:\n",
    "        break \n",
    "\n",
    "if flag==1:\n",
    "    print(\"the two tensor is same\")\n",
    "else:\n",
    "    print(\"The two tensor is different each other\")"
   ]
  },
  {
   "cell_type": "code",
   "execution_count": 33,
   "metadata": {},
   "outputs": [
    {
     "name": "stdout",
     "output_type": "stream",
     "text": [
      "tensor([[11,  6],\n",
      "        [ 7,  2]])\n",
      "tensor([[11,  6],\n",
      "        [ 7,  2]])\n"
     ]
    }
   ],
   "source": [
    "addres = tensor1+tensor2 \n",
    "\n",
    "print(addres)\n",
    "\n",
    "address = tensor1.add(tensor2)\n",
    "\n",
    "print(address)"
   ]
  },
  {
   "cell_type": "markdown",
   "metadata": {},
   "source": [
    "곱셈의 경우 조금 사정이 다릅니다."
   ]
  },
  {
   "cell_type": "markdown",
   "metadata": {},
   "source": [
    "1. element-wise한 곱셈"
   ]
  },
  {
   "cell_type": "code",
   "execution_count": 34,
   "metadata": {},
   "outputs": [
    {
     "name": "stdout",
     "output_type": "stream",
     "text": [
      "tensor([[24,  5],\n",
      "        [ 6,  1]])\n"
     ]
    }
   ],
   "source": [
    "mulress = tensor1 * tensor2 \n",
    "\n",
    "print(mulress)"
   ]
  },
  {
   "cell_type": "markdown",
   "metadata": {},
   "source": [
    "2. 고등학교 때 배운 행렬 곱셈"
   ]
  },
  {
   "cell_type": "code",
   "execution_count": 40,
   "metadata": {},
   "outputs": [
    {
     "name": "stdout",
     "output_type": "stream",
     "text": [
      "[[29.  8.]\n",
      " [49.  7.]]\n"
     ]
    }
   ],
   "source": [
    "tensor1 = torch.tensor([[3.,5.],[6.,1.]])\n",
    "tensor2 = torch.tensor([[8.,1.],[1.,1.]])\n",
    "\n",
    "matrixres = np.dot(tensor1,tensor2)\n",
    "print(matrixres)"
   ]
  },
  {
   "cell_type": "markdown",
   "metadata": {},
   "source": [
    "평균 계산"
   ]
  },
  {
   "cell_type": "code",
   "execution_count": 165,
   "metadata": {},
   "outputs": [
    {
     "name": "stdout",
     "output_type": "stream",
     "text": [
      "3.75\n"
     ]
    },
    {
     "ename": "RuntimeError",
     "evalue": "mean(): input dtype should be either floating point or complex dtypes. Got Long instead.",
     "output_type": "error",
     "traceback": [
      "\u001b[0;31m---------------------------------------------------------------------------\u001b[0m",
      "\u001b[0;31mRuntimeError\u001b[0m                              Traceback (most recent call last)",
      "\u001b[0;32m/tmp/ipykernel_66196/1870130014.py\u001b[0m in \u001b[0;36m<module>\u001b[0;34m\u001b[0m\n\u001b[1;32m      3\u001b[0m \u001b[0mprint\u001b[0m\u001b[0;34m(\u001b[0m\u001b[0;34m\"{:.2f}\"\u001b[0m\u001b[0;34m.\u001b[0m\u001b[0mformat\u001b[0m\u001b[0;34m(\u001b[0m\u001b[0mtensor1\u001b[0m\u001b[0;34m.\u001b[0m\u001b[0mmean\u001b[0m\u001b[0;34m(\u001b[0m\u001b[0;34m)\u001b[0m\u001b[0;34m)\u001b[0m\u001b[0;34m)\u001b[0m\u001b[0;34m\u001b[0m\u001b[0;34m\u001b[0m\u001b[0m\n\u001b[1;32m      4\u001b[0m \u001b[0;34m\u001b[0m\u001b[0m\n\u001b[0;32m----> 5\u001b[0;31m \u001b[0mprint\u001b[0m\u001b[0;34m(\u001b[0m\u001b[0;34m\"{:.2d}\"\u001b[0m\u001b[0;34m.\u001b[0m\u001b[0mformat\u001b[0m\u001b[0;34m(\u001b[0m\u001b[0mtensor2\u001b[0m\u001b[0;34m.\u001b[0m\u001b[0mmean\u001b[0m\u001b[0;34m(\u001b[0m\u001b[0;34m)\u001b[0m\u001b[0;34m)\u001b[0m\u001b[0;34m)\u001b[0m\u001b[0;34m\u001b[0m\u001b[0;34m\u001b[0m\u001b[0m\n\u001b[0m",
      "\u001b[0;31mRuntimeError\u001b[0m: mean(): input dtype should be either floating point or complex dtypes. Got Long instead."
     ]
    }
   ],
   "source": [
    "tensor1 = torch.tensor([[3.,5.],[6.,1.]])\n",
    "tensor2 = torch.tensor([[3,5],[6,1]])\n",
    "print(\"{:.2f}\".format(tensor1.mean()))\n",
    "\n",
    "print(\"{:.2d}\".format(tensor2.mean()))"
   ]
  },
  {
   "cell_type": "markdown",
   "metadata": {},
   "source": [
    "- dim = 0 으로 설정하면 n차원 행렬의 세로 행에 대한 평균만을 구하고\n",
    "\n",
    "- dim = 1 으로 설정하면 n차원 행렬의 가로 열에 대한 평균을 구합니다."
   ]
  },
  {
   "cell_type": "code",
   "execution_count": 51,
   "metadata": {},
   "outputs": [
    {
     "ename": "TypeError",
     "evalue": "unsupported format string passed to Tensor.__format__",
     "output_type": "error",
     "traceback": [
      "\u001b[0;31m---------------------------------------------------------------------------\u001b[0m",
      "\u001b[0;31mTypeError\u001b[0m                                 Traceback (most recent call last)",
      "\u001b[0;32m/tmp/ipykernel_66196/1402982976.py\u001b[0m in \u001b[0;36m<module>\u001b[0;34m\u001b[0m\n\u001b[0;32m----> 1\u001b[0;31m \u001b[0mprint\u001b[0m\u001b[0;34m(\u001b[0m\u001b[0;34m\"{:.2f}\"\u001b[0m\u001b[0;34m.\u001b[0m\u001b[0mformat\u001b[0m\u001b[0;34m(\u001b[0m\u001b[0mtensor1\u001b[0m\u001b[0;34m.\u001b[0m\u001b[0mmean\u001b[0m\u001b[0;34m(\u001b[0m\u001b[0mdim\u001b[0m\u001b[0;34m=\u001b[0m\u001b[0;36m0\u001b[0m\u001b[0;34m)\u001b[0m\u001b[0;34m)\u001b[0m\u001b[0;34m)\u001b[0m\u001b[0;34m\u001b[0m\u001b[0;34m\u001b[0m\u001b[0m\n\u001b[0m",
      "\u001b[0;32m~/anaconda3/envs/pytorchproject/lib/python3.9/site-packages/torch/_tensor.py\u001b[0m in \u001b[0;36m__format__\u001b[0;34m(self, format_spec)\u001b[0m\n\u001b[1;32m    570\u001b[0m         \u001b[0;32mif\u001b[0m \u001b[0mself\u001b[0m\u001b[0;34m.\u001b[0m\u001b[0mdim\u001b[0m\u001b[0;34m(\u001b[0m\u001b[0;34m)\u001b[0m \u001b[0;34m==\u001b[0m \u001b[0;36m0\u001b[0m\u001b[0;34m:\u001b[0m\u001b[0;34m\u001b[0m\u001b[0;34m\u001b[0m\u001b[0m\n\u001b[1;32m    571\u001b[0m             \u001b[0;32mreturn\u001b[0m \u001b[0mself\u001b[0m\u001b[0;34m.\u001b[0m\u001b[0mitem\u001b[0m\u001b[0;34m(\u001b[0m\u001b[0;34m)\u001b[0m\u001b[0;34m.\u001b[0m\u001b[0m__format__\u001b[0m\u001b[0;34m(\u001b[0m\u001b[0mformat_spec\u001b[0m\u001b[0;34m)\u001b[0m\u001b[0;34m\u001b[0m\u001b[0;34m\u001b[0m\u001b[0m\n\u001b[0;32m--> 572\u001b[0;31m         \u001b[0;32mreturn\u001b[0m \u001b[0mobject\u001b[0m\u001b[0;34m.\u001b[0m\u001b[0m__format__\u001b[0m\u001b[0;34m(\u001b[0m\u001b[0mself\u001b[0m\u001b[0;34m,\u001b[0m \u001b[0mformat_spec\u001b[0m\u001b[0;34m)\u001b[0m\u001b[0;34m\u001b[0m\u001b[0;34m\u001b[0m\u001b[0m\n\u001b[0m\u001b[1;32m    573\u001b[0m \u001b[0;34m\u001b[0m\u001b[0m\n\u001b[1;32m    574\u001b[0m     \u001b[0;32mdef\u001b[0m \u001b[0m__ipow__\u001b[0m\u001b[0;34m(\u001b[0m\u001b[0mself\u001b[0m\u001b[0;34m,\u001b[0m \u001b[0mother\u001b[0m\u001b[0;34m)\u001b[0m\u001b[0;34m:\u001b[0m  \u001b[0;31m# type: ignore[misc]\u001b[0m\u001b[0;34m\u001b[0m\u001b[0;34m\u001b[0m\u001b[0m\n",
      "\u001b[0;31mTypeError\u001b[0m: unsupported format string passed to Tensor.__format__"
     ]
    }
   ],
   "source": [
    "print(\"{:.2f}\".format(tensor1.mean(dim=0)))"
   ]
  },
  {
   "cell_type": "code",
   "execution_count": 53,
   "metadata": {},
   "outputs": [
    {
     "name": "stdout",
     "output_type": "stream",
     "text": [
      "tensor([4.5000, 3.0000])\n",
      "tensor([4.5000, 1.0000])\n",
      "tensor([4.5000, 3.0000])\n",
      "tensor([4.5000, 1.0000])\n"
     ]
    }
   ],
   "source": [
    "print(\"{}\".format(tensor1.mean(dim=0)))\n",
    "print(\"{}\".format(tensor2.mean(dim=1)))\n",
    "print(\"{}\".format(tensor1.mean(dim=0)))\n",
    "print(\"{}\".format(tensor2.mean(dim=1)))"
   ]
  },
  {
   "cell_type": "code",
   "execution_count": 55,
   "metadata": {},
   "outputs": [
    {
     "ename": "RuntimeError",
     "evalue": "mean(): input dtype should be either floating point or complex dtypes. Got Long instead.",
     "output_type": "error",
     "traceback": [
      "\u001b[0;31m---------------------------------------------------------------------------\u001b[0m",
      "\u001b[0;31mRuntimeError\u001b[0m                              Traceback (most recent call last)",
      "\u001b[0;32m/tmp/ipykernel_66196/1599467410.py\u001b[0m in \u001b[0;36m<module>\u001b[0;34m\u001b[0m\n\u001b[1;32m      1\u001b[0m \u001b[0mtensor3\u001b[0m \u001b[0;34m=\u001b[0m \u001b[0mtorch\u001b[0m\u001b[0;34m.\u001b[0m\u001b[0mtensor\u001b[0m\u001b[0;34m(\u001b[0m\u001b[0;34m[\u001b[0m\u001b[0;34m[\u001b[0m\u001b[0;36m1\u001b[0m\u001b[0;34m,\u001b[0m\u001b[0;36m2\u001b[0m\u001b[0;34m]\u001b[0m\u001b[0;34m,\u001b[0m\u001b[0;34m[\u001b[0m\u001b[0;36m3\u001b[0m\u001b[0;34m,\u001b[0m\u001b[0;36m4\u001b[0m\u001b[0;34m]\u001b[0m\u001b[0;34m]\u001b[0m\u001b[0;34m)\u001b[0m\u001b[0;34m\u001b[0m\u001b[0;34m\u001b[0m\u001b[0m\n\u001b[0;32m----> 2\u001b[0;31m \u001b[0mprint\u001b[0m\u001b[0;34m(\u001b[0m\u001b[0;34m\"{:.2f}\"\u001b[0m\u001b[0;34m.\u001b[0m\u001b[0mformat\u001b[0m\u001b[0;34m(\u001b[0m\u001b[0mtensor3\u001b[0m\u001b[0;34m.\u001b[0m\u001b[0mmean\u001b[0m\u001b[0;34m(\u001b[0m\u001b[0;34m)\u001b[0m\u001b[0;34m)\u001b[0m\u001b[0;34m)\u001b[0m\u001b[0;34m\u001b[0m\u001b[0;34m\u001b[0m\u001b[0m\n\u001b[0m",
      "\u001b[0;31mRuntimeError\u001b[0m: mean(): input dtype should be either floating point or complex dtypes. Got Long instead."
     ]
    }
   ],
   "source": [
    "tensor3 = torch.tensor([[1,2],[3,4]])\n",
    "print(\"{:.2f}\".format(tensor3.mean()))"
   ]
  },
  {
   "cell_type": "markdown",
   "metadata": {},
   "source": [
    "기본적인 사칙연산, dfs, 합 대소 비교, 출력에서의 부모, 자식 구분을 수행하는 클래스를 구현하세요."
   ]
  },
  {
   "cell_type": "code",
   "execution_count": 80,
   "metadata": {},
   "outputs": [],
   "source": [
    "class basic:\n",
    "\n",
    "    def __init__(self,tensor1,tensor2):\n",
    "        self.tensor1 = tensor1 \n",
    "        self.tensor2 = tensor2 \n",
    "        print(\"basic parents class is called\")\n",
    "        #self.basic_tensor = torch.tensor(self.tensor1+1)\n",
    "    \n",
    "    def show(self):\n",
    "        print(\"basic : tensor showing :\")\n",
    "        print('tensor1')\n",
    "        for x in range(len(self.tensor1)):\n",
    "            for y in range(len(self.tensor1[x])):\n",
    "                print(self.tensor1[x][y],end=' ')\n",
    "            print()\n",
    "        \n",
    "        print()\n",
    "        print('tensor2')\n",
    "        for x in range(len(self.tensor2)):\n",
    "            for y in range(len(self.tensor2[x])):\n",
    "                print(self.tensor2[x][y],end=' ')\n",
    "            print()\n",
    "        print()\n",
    "\n",
    "    "
   ]
  },
  {
   "cell_type": "code",
   "execution_count": 156,
   "metadata": {},
   "outputs": [],
   "source": [
    "class specific(basic):\n",
    "    #private\n",
    "    queue = deque()\n",
    "\n",
    "    #일단 specific에 대한 생성자를 먼저 생성해야겠지?\n",
    "    def __init__(self,**kwargs):\n",
    "        self.tensor1 = kwargs['tensor1']\n",
    "        self.tensor2 = kwargs['tensor2']\n",
    "\n",
    "        self.map = kwargs['map']\n",
    "        self.visited = [[False]*len(kwargs['map'][0]) for _ in range(len(kwargs['map']))]\n",
    "        print(\"specific class is called\")\n",
    "\n",
    "        #basic 클래스가 만들어질 때 자동대로 basic에 대한 self가 만들어지기 때문에\n",
    "        # 인자로 self.tensor1,self.tensor2만 보내주면 됩니다.  \n",
    "        super(specific,self).__init__(self.tensor1,self.tensor2)\n",
    "\n",
    "\n",
    "    def torch_bfs(self):\n",
    "        \n",
    "        \n",
    "        dx = [1,-1,0,0]\n",
    "        dy = [0,0,1,-1]\n",
    "\n",
    "        self.queue.append([0,0])\n",
    "        self.visited[0][0]=True\n",
    "        cnt=0 \n",
    "        while self.queue:\n",
    "            \n",
    "            curx,cury = self.queue.popleft()\n",
    "\n",
    "            for i in range(4):\n",
    "                nx = curx+dx[i]\n",
    "                ny = cury+dy[i]\n",
    "\n",
    "                if nx>=0 and nx<len(self.map) and ny>=0 and ny<len(self.map[0]):\n",
    "                    if self.visited[nx][ny]==False and self.map[nx][ny]==0:\n",
    "                        self.visited[nx][ny]=True \n",
    "                        self.queue.append([nx,ny])\n",
    "                        cnt+=1\n",
    "        \n",
    "        return cnt \n",
    "\n",
    "    \n",
    "    #두 행렬에 대한 dot product를 리턴 \n",
    "    def torch_dot(self):\n",
    "        res = torch.tensor(np.dot(tensor1,tensor2))\n",
    "\n",
    "        return res \n",
    "    \n",
    "    def torch_multiple(self):\n",
    "        res = torch.tensor(tensor1 * tensor2)\n",
    "        return res\n",
    "            \n",
    "\n"
   ]
  },
  {
   "cell_type": "code",
   "execution_count": 157,
   "metadata": {},
   "outputs": [
    {
     "name": "stdout",
     "output_type": "stream",
     "text": [
      "4\n",
      "5\n"
     ]
    }
   ],
   "source": [
    "mapp = np.array([ [0,1,1,1,1], [0,0,0,1,0],[1,0,0,1,1],[1,0,0,0,0]])\n",
    "print(len(mapp))\n",
    "print(len(mapp[0]))"
   ]
  },
  {
   "cell_type": "code",
   "execution_count": 158,
   "metadata": {},
   "outputs": [],
   "source": [
    "x  = torch.tensor([[1.,2.],[7.,3.]])\n",
    "y = torch.tensor([[6.,3.],[8.,2.]])\n",
    "\n",
    "mapp = torch.tensor([ [0,1,1,1,1], [0,0,0,1,0],[1,0,0,1,1],[1,0,0,0,0]])\n",
    "\n"
   ]
  },
  {
   "cell_type": "code",
   "execution_count": 159,
   "metadata": {},
   "outputs": [
    {
     "name": "stdout",
     "output_type": "stream",
     "text": [
      "specific class is called\n",
      "basic parents class is called\n"
     ]
    }
   ],
   "source": [
    "specific_ = specific(tensor1 = x, tensor2 = y, map=mapp)\n"
   ]
  },
  {
   "cell_type": "code",
   "execution_count": 160,
   "metadata": {},
   "outputs": [
    {
     "name": "stdout",
     "output_type": "stream",
     "text": [
      "basic : tensor showing :\n",
      "tensor1\n",
      "tensor(1.) tensor(2.) \n",
      "tensor(7.) tensor(3.) \n",
      "\n",
      "tensor2\n",
      "tensor(6.) tensor(3.) \n",
      "tensor(8.) tensor(2.) \n",
      "\n"
     ]
    }
   ],
   "source": [
    "specific_.show()"
   ]
  },
  {
   "cell_type": "code",
   "execution_count": 161,
   "metadata": {},
   "outputs": [
    {
     "data": {
      "text/plain": [
       "9"
      ]
     },
     "execution_count": 161,
     "metadata": {},
     "output_type": "execute_result"
    }
   ],
   "source": [
    "specific_.torch_bfs()"
   ]
  },
  {
   "cell_type": "code",
   "execution_count": 162,
   "metadata": {},
   "outputs": [
    {
     "data": {
      "text/plain": [
       "tensor([[8., 1.],\n",
       "        [1., 1.]], dtype=torch.float64)"
      ]
     },
     "execution_count": 162,
     "metadata": {},
     "output_type": "execute_result"
    }
   ],
   "source": [
    "specific_.torch_dot()"
   ]
  },
  {
   "cell_type": "code",
   "execution_count": 163,
   "metadata": {},
   "outputs": [
    {
     "name": "stderr",
     "output_type": "stream",
     "text": [
      "/tmp/ipykernel_66196/987865683.py:52: UserWarning: To copy construct from a tensor, it is recommended to use sourceTensor.clone().detach() or sourceTensor.clone().detach().requires_grad_(True), rather than torch.tensor(sourceTensor).\n",
      "  res = torch.tensor(tensor1 * tensor2)\n"
     ]
    },
    {
     "data": {
      "text/plain": [
       "tensor([[8., 0.],\n",
       "        [0., 1.]])"
      ]
     },
     "execution_count": 163,
     "metadata": {},
     "output_type": "execute_result"
    }
   ],
   "source": [
    "specific_.torch_multiple()"
   ]
  },
  {
   "cell_type": "code",
   "execution_count": null,
   "metadata": {},
   "outputs": [],
   "source": []
  }
 ],
 "metadata": {
  "interpreter": {
   "hash": "168ed19636e745bfbe4a91e9a649e49a89eb5d69331d40be8dade616bde7bd16"
  },
  "kernelspec": {
   "display_name": "Python 3.9.7 ('pytorchproject': conda)",
   "language": "python",
   "name": "python3"
  },
  "language_info": {
   "codemirror_mode": {
    "name": "ipython",
    "version": 3
   },
   "file_extension": ".py",
   "mimetype": "text/x-python",
   "name": "python",
   "nbconvert_exporter": "python",
   "pygments_lexer": "ipython3",
   "version": "3.9.7"
  },
  "orig_nbformat": 4
 },
 "nbformat": 4,
 "nbformat_minor": 2
}
