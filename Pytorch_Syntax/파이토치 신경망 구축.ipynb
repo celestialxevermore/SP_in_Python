{
 "cells": [
  {
   "cell_type": "markdown",
   "metadata": {},
   "source": [
    "#### 신경망 - Neural networks\n",
    "\n",
    "torch.nn 패키지를 사용하여 신경망을 구축할 수 있습니다. \n",
    "\n",
    "지금까지 autograd를 살펴봤는데, nn은 모델을 정의하고 미분하는데 바로 이 autograd를 사용합니다.\n",
    "\n",
    "nn.Module은 계층과 output을 반환하는 forward(input), 계층들을 포함하고 있습니다."
   ]
  },
  {
   "cell_type": "markdown",
   "metadata": {},
   "source": [
    "신경망의 학습절차는 다음과 같습니다."
   ]
  },
  {
   "cell_type": "markdown",
   "metadata": {},
   "source": [
    "- 학습 가능한 매개변수(Weight)를 갖고 있는 신경망을 정의합니다.\n",
    "\n",
    "- 데이터셋의 입력을 반복합니다.\n",
    "\n",
    "- 입력을 신경망에서 전파 합니다.\n",
    "\n",
    "- 손실을 계산합니다. (출력값이 정답으로부터 얼마나 멀리 떨어져 있는지)\n",
    "\n",
    "- 신경망의 매개변수에 변화도를 역으로 전파합니다. \n",
    "\n",
    "- 신경망의 가중치를 갱신합니다. 일반적으로 간단한 갱신 규칙을 사용합니다. (weight = weight-learning_rate*gradient)"
   ]
  },
  {
   "cell_type": "markdown",
   "metadata": {},
   "source": [
    "#### 신경망 정의하기"
   ]
  },
  {
   "cell_type": "code",
   "execution_count": 1,
   "metadata": {},
   "outputs": [],
   "source": [
    "import torch \n",
    "import torch.nn as nn \n",
    "import torch.nn.functional as F "
   ]
  },
  {
   "cell_type": "code",
   "execution_count": 64,
   "metadata": {},
   "outputs": [],
   "source": [
    "class Net(nn.Module):\n",
    "\n",
    "    #생성자\n",
    "    def __init__(self):\n",
    "        super(Net, self).__init__()\n",
    "        #입력 이미지 채널 1개, 출력 채녈 6개, 3 * 3의 정사각 컨볼루션 행렬\n",
    "        self.conv1 = nn.Conv2d(3,6,(3,3))\n",
    "        self.conv2 = nn.Conv2d(6,16,(3,3))\n",
    "\n",
    "        # 어파인 연산 : y = Wx + b\n",
    "        self.fc1 = nn.Linear(16*6*6,120) #6 * 6은 이미지 차원\n",
    "        self.fc2 = nn.Linear(120,84)\n",
    "        self.fc3 = nn.Linear(84,10)\n",
    "        \n",
    "    \n",
    "    def forward(self,x):\n",
    "        # (2 * 2) 크기 윈도우에 대해 max pooling\n",
    "        x = F.max_pool2d(F.relu(self.conv1(x)),(2,2))\n",
    "        print(x.shape)\n",
    "        x = F.max_pool2d(F.relu(self.conv2(x)),2)\n",
    "        print(x.shape)\n",
    "        x = x.view(-1,self.num_flat_features(x))\n",
    "        print(x.shape)\n",
    "        x = F.relu(self.fc1(x))\n",
    "        print(x.shape)\n",
    "        x = F.relu(self.fc2(x))\n",
    "        print(x.shape)\n",
    "        x = self.fc3(x)\n",
    "        return x \n",
    "    \n",
    "    def num_flat_features(self,x):\n",
    "        size = x.size()[1:] #배치 차원을 제외한 모든 차원에 대하여 \n",
    "        num_features = 1 \n",
    "        for s in size:\n",
    "            num_features *= s \n",
    "        return num_features \n"
   ]
  },
  {
   "cell_type": "code",
   "execution_count": 65,
   "metadata": {},
   "outputs": [
    {
     "name": "stdout",
     "output_type": "stream",
     "text": [
      "Net(\n",
      "  (conv1): Conv2d(3, 6, kernel_size=(3, 3), stride=(1, 1))\n",
      "  (conv2): Conv2d(6, 16, kernel_size=(3, 3), stride=(1, 1))\n",
      "  (fc1): Linear(in_features=576, out_features=120, bias=True)\n",
      "  (fc2): Linear(in_features=120, out_features=84, bias=True)\n",
      "  (fc3): Linear(in_features=84, out_features=10, bias=True)\n",
      ")\n"
     ]
    }
   ],
   "source": [
    "net = Net()\n",
    "print(net)"
   ]
  },
  {
   "cell_type": "markdown",
   "metadata": {},
   "source": [
    "forward 함수를 정의하고 나면 autograd를 사용하여 저절로 backword 함수를 정의합니다.\n",
    "\n",
    "forward 함수에서 어떠한 Tensor 연산을 사용할 수 있습니다.\n"
   ]
  },
  {
   "cell_type": "markdown",
   "metadata": {},
   "source": [
    "모델의 학습 가능한 weights는 net.parameters()에 의해 반환됩니다."
   ]
  },
  {
   "cell_type": "code",
   "execution_count": 66,
   "metadata": {},
   "outputs": [
    {
     "name": "stdout",
     "output_type": "stream",
     "text": [
      "torch.Size([6, 3, 3, 3])\n",
      "torch.Size([6])\n",
      "torch.Size([10])\n"
     ]
    }
   ],
   "source": [
    "params = net.parameters()\n",
    "params = list(params)\n",
    "\n",
    "print(params[0].size())\n",
    "print(params[1].size())\n",
    "print(params[9].size())\n"
   ]
  },
  {
   "cell_type": "markdown",
   "metadata": {},
   "source": [
    "임의의 32 * 32 입력값을 해보겠습니다. \n",
    "\n",
    "이 신경망의 예상 입력 사이즈는 32 32입니다. "
   ]
  },
  {
   "cell_type": "code",
   "execution_count": 69,
   "metadata": {},
   "outputs": [],
   "source": [
    "inputs = torch.randn([1,3,32,32])\n"
   ]
  },
  {
   "cell_type": "code",
   "execution_count": 68,
   "metadata": {},
   "outputs": [
    {
     "name": "stdout",
     "output_type": "stream",
     "text": [
      "torch.Size([1, 6, 15, 15])\n",
      "torch.Size([1, 16, 6, 6])\n",
      "torch.Size([1, 576])\n",
      "torch.Size([1, 120])\n",
      "torch.Size([1, 84])\n",
      "tensor([[ 0.0919, -0.0190, -0.0535,  0.1153,  0.1043, -0.0832,  0.0660,  0.0445,\n",
      "          0.0120, -0.0402]], grad_fn=<AddmmBackward>)\n"
     ]
    }
   ],
   "source": [
    "out = net(inputs)\n",
    "print(out)"
   ]
  },
  {
   "cell_type": "code",
   "execution_count": 58,
   "metadata": {},
   "outputs": [],
   "source": [
    "net.zero_grad()\n",
    "out.backward(torch.randn(1,10))"
   ]
  },
  {
   "cell_type": "code",
   "execution_count": 59,
   "metadata": {},
   "outputs": [
    {
     "name": "stdout",
     "output_type": "stream",
     "text": [
      "torch.Size([1, 6, 15, 15])\n",
      "torch.Size([1, 16, 6, 6])\n",
      "torch.Size([1, 576])\n",
      "torch.Size([1, 120])\n",
      "torch.Size([1, 84])\n",
      "target : tensor([[-0.5936,  0.8635,  0.7650, -0.5059, -0.4012,  0.6895, -1.5084, -2.5587,\n",
      "          0.7649,  0.0465]])\n",
      "output : tensor([[ 0.1347, -0.0012, -0.0139,  0.0999,  0.0963,  0.0687, -0.1841, -0.0972,\n",
      "          0.0418, -0.0691]], grad_fn=<AddmmBackward>)\n",
      "tensor(1.1234, grad_fn=<MseLossBackward>)\n"
     ]
    }
   ],
   "source": [
    "output = net(inputs)\n",
    "target = torch.randn(10)\n",
    "\n",
    "target = target.view(1,-1)\n",
    "\n",
    "criterion = nn.MSELoss()\n",
    "print('target :',target)\n",
    "print('output :',output)\n",
    "loss = criterion(output,target)\n",
    "print(loss)"
   ]
  },
  {
   "cell_type": "code",
   "execution_count": 47,
   "metadata": {},
   "outputs": [
    {
     "name": "stdout",
     "output_type": "stream",
     "text": [
      "<MseLossBackward object at 0x7f3e29bf1ca0>\n"
     ]
    }
   ],
   "source": [
    "print(loss.grad_fn)"
   ]
  },
  {
   "cell_type": "code",
   "execution_count": 48,
   "metadata": {},
   "outputs": [
    {
     "name": "stdout",
     "output_type": "stream",
     "text": [
      "<AddmmBackward object at 0x7f3e29bf1bb0>\n"
     ]
    }
   ],
   "source": [
    "print(loss.grad_fn.next_functions[0][0])"
   ]
  },
  {
   "cell_type": "code",
   "execution_count": 49,
   "metadata": {},
   "outputs": [
    {
     "name": "stdout",
     "output_type": "stream",
     "text": [
      "<AccumulateGrad object at 0x7f3e29bf1250>\n"
     ]
    }
   ],
   "source": [
    "print((loss.grad_fn.next_functions[0][0].next_functions[0][0]))"
   ]
  },
  {
   "cell_type": "markdown",
   "metadata": {},
   "source": [
    "역전파 \n",
    "\n",
    "오차를 역전파하기 위해 해야할 것 : loss.backward()입니다. \n",
    "\n",
    "존재하는 변화도를 없애는 것이 필요한데, 그렇지 않으면 변화도는 기존의 변화도에 누적될 것입니다."
   ]
  },
  {
   "cell_type": "code",
   "execution_count": null,
   "metadata": {},
   "outputs": [],
   "source": []
  },
  {
   "cell_type": "code",
   "execution_count": null,
   "metadata": {},
   "outputs": [],
   "source": []
  }
 ],
 "metadata": {
  "interpreter": {
   "hash": "bbacf2a9d2e876d097b37d768b1e7f504d43ac1a5c7cfa4c05142076e87a32d3"
  },
  "kernelspec": {
   "display_name": "Python 3.8.12 ('tensorflowstart': conda)",
   "language": "python",
   "name": "python3"
  },
  "language_info": {
   "codemirror_mode": {
    "name": "ipython",
    "version": 3
   },
   "file_extension": ".py",
   "mimetype": "text/x-python",
   "name": "python",
   "nbconvert_exporter": "python",
   "pygments_lexer": "ipython3",
   "version": "3.8.12"
  },
  "orig_nbformat": 4
 },
 "nbformat": 4,
 "nbformat_minor": 2
}
