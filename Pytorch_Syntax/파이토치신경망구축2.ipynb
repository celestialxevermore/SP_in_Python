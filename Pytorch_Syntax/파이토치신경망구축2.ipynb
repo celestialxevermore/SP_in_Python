{
 "cells": [
  {
   "cell_type": "code",
   "execution_count": null,
   "metadata": {},
   "outputs": [],
   "source": [
    "import torch \n",
    "import torch.nn as nn \n",
    "import torch"
   ]
  }
 ],
 "metadata": {
  "interpreter": {
   "hash": "bbacf2a9d2e876d097b37d768b1e7f504d43ac1a5c7cfa4c05142076e87a32d3"
  },
  "kernelspec": {
   "display_name": "Python 3.8.12 ('tensorflowstart': conda)",
   "language": "python",
   "name": "python3"
  },
  "language_info": {
   "name": "python",
   "version": "3.8.12"
  },
  "orig_nbformat": 4
 },
 "nbformat": 4,
 "nbformat_minor": 2
}
