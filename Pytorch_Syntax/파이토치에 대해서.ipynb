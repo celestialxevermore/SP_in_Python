{
 "cells": [
  {
   "cell_type": "markdown",
   "metadata": {},
   "source": [
    "#### 파이토치에 대해서."
   ]
  },
  {
   "cell_type": "markdown",
   "metadata": {},
   "source": [
    "Tensor : 넘파이의 ndarray와 비슷합니다."
   ]
  },
  {
   "cell_type": "code",
   "execution_count": 24,
   "metadata": {},
   "outputs": [],
   "source": [
    "from __future__ import print_function\n",
    "import torch\n",
    "\n",
    "import os\n",
    "os.environ[\"CUDA_DEVICE_ORDER\"]=\"PCI_BUS_ID\"\n",
    "os.environ[\"CUDA_VISIBLE_DEVICES\"]=\"6\""
   ]
  },
  {
   "cell_type": "code",
   "execution_count": 3,
   "metadata": {},
   "outputs": [
    {
     "data": {
      "text/plain": [
       "tensor([[0.0000e+00, 4.1216e+21, 1.8788e+31],\n",
       "        [1.7220e+22, 2.1715e-18, 5.2899e-08],\n",
       "        [1.0548e-08, 4.1299e-08, 2.0914e+20],\n",
       "        [3.3278e+21, 3.2944e-09, 4.3960e-05],\n",
       "        [1.3236e+22, 1.6916e-04, 1.3346e+19]])"
      ]
     },
     "execution_count": 3,
     "metadata": {},
     "output_type": "execute_result"
    }
   ],
   "source": [
    "x = torch.empty(5,3)\n",
    "x"
   ]
  },
  {
   "cell_type": "markdown",
   "metadata": {},
   "source": [
    "초기화되지 않은 행렬이 선언되었지만, 그때 메모리에 할당된 어떤 값이든지 초기값으로 세팅합니다.\n",
    "\n",
    "임의로 초기화된 행렬ㅇ"
   ]
  },
  {
   "cell_type": "code",
   "execution_count": 4,
   "metadata": {},
   "outputs": [
    {
     "data": {
      "text/plain": [
       "tensor([[0.4503, 0.4089, 0.3094],\n",
       "        [0.9494, 0.9044, 0.4554],\n",
       "        [0.6286, 0.4796, 0.0545],\n",
       "        [0.8756, 0.1966, 0.5470],\n",
       "        [0.9417, 0.6155, 0.1789]])"
      ]
     },
     "execution_count": 4,
     "metadata": {},
     "output_type": "execute_result"
    }
   ],
   "source": [
    "y = torch.rand(5,3)\n",
    "y"
   ]
  },
  {
   "cell_type": "markdown",
   "metadata": {},
   "source": [
    "데이터 타입이 long인 0 행렬"
   ]
  },
  {
   "cell_type": "code",
   "execution_count": 7,
   "metadata": {},
   "outputs": [],
   "source": [
    "z = torch.zeros([5,3],dtype=float)\n",
    "zz = torch.zeros(5,3,dtype=float)"
   ]
  },
  {
   "cell_type": "code",
   "execution_count": 8,
   "metadata": {},
   "outputs": [
    {
     "data": {
      "text/plain": [
       "tensor([[0., 0., 0.],\n",
       "        [0., 0., 0.],\n",
       "        [0., 0., 0.],\n",
       "        [0., 0., 0.],\n",
       "        [0., 0., 0.]], dtype=torch.float64)"
      ]
     },
     "execution_count": 8,
     "metadata": {},
     "output_type": "execute_result"
    }
   ],
   "source": [
    "z"
   ]
  },
  {
   "cell_type": "code",
   "execution_count": 9,
   "metadata": {},
   "outputs": [
    {
     "data": {
      "text/plain": [
       "tensor([[0., 0., 0.],\n",
       "        [0., 0., 0.],\n",
       "        [0., 0., 0.],\n",
       "        [0., 0., 0.],\n",
       "        [0., 0., 0.]], dtype=torch.float64)"
      ]
     },
     "execution_count": 9,
     "metadata": {},
     "output_type": "execute_result"
    }
   ],
   "source": [
    "zz"
   ]
  },
  {
   "cell_type": "code",
   "execution_count": 10,
   "metadata": {},
   "outputs": [
    {
     "data": {
      "text/plain": [
       "tensor([[0.0000e+00, 4.1216e+21, 1.8788e+31],\n",
       "        [1.7220e+22, 2.1715e-18, 5.2899e-08],\n",
       "        [1.0548e-08, 4.1299e-08, 2.0914e+20],\n",
       "        [3.3278e+21, 3.2944e-09, 4.3960e-05],\n",
       "        [1.3236e+22, 1.6916e-04, 1.3346e+19]])"
      ]
     },
     "execution_count": 10,
     "metadata": {},
     "output_type": "execute_result"
    }
   ],
   "source": [
    "x"
   ]
  },
  {
   "cell_type": "code",
   "execution_count": 11,
   "metadata": {},
   "outputs": [
    {
     "name": "stdout",
     "output_type": "stream",
     "text": [
      "tensor([[4.5028e-01, 4.1216e+21, 1.8788e+31],\n",
      "        [1.7220e+22, 9.0437e-01, 4.5545e-01],\n",
      "        [6.2856e-01, 4.7961e-01, 2.0914e+20],\n",
      "        [3.3278e+21, 1.9663e-01, 5.4700e-01],\n",
      "        [1.3236e+22, 6.1569e-01, 1.3346e+19]])\n"
     ]
    }
   ],
   "source": [
    "print(x+y)"
   ]
  },
  {
   "cell_type": "markdown",
   "metadata": {},
   "source": [
    "크기 조정 : tensor를 resize/reshape 하고 싶으면 torch.view를 사용할 수 있습니다."
   ]
  },
  {
   "cell_type": "code",
   "execution_count": 13,
   "metadata": {},
   "outputs": [
    {
     "name": "stdout",
     "output_type": "stream",
     "text": [
      "torch.Size([4, 4]) torch.Size([16]) torch.Size([2, 8]) torch.Size([1, 16])\n"
     ]
    }
   ],
   "source": [
    "x = torch.randn(4,4)\n",
    "y = x.view(16)\n",
    "z = x.view(-1,8) # 8이 있으니 -1\n",
    "zz = x.reshape(-1,16)\n",
    "\n",
    "print(x.shape,y.shape,z.shape,zz.shape)"
   ]
  },
  {
   "cell_type": "markdown",
   "metadata": {},
   "source": [
    "Numpy로 변환\n",
    "\n",
    "Torch Tensor를 Numpy 배열로 변환하거나 그 반대도 가능합니다.\n",
    "\n",
    "Torch Tensor를 Numpy로 변환"
   ]
  },
  {
   "cell_type": "code",
   "execution_count": 19,
   "metadata": {},
   "outputs": [],
   "source": [
    "a = torch.ones(5,dtype=int)\n",
    "b = a.numpy()\n"
   ]
  },
  {
   "cell_type": "code",
   "execution_count": 21,
   "metadata": {},
   "outputs": [
    {
     "name": "stdout",
     "output_type": "stream",
     "text": [
      "tensor([1, 1, 1, 1, 1]) [1 1 1 1 1]\n",
      "[1 1 1 1 1] <class 'numpy.ndarray'>\n"
     ]
    }
   ],
   "source": [
    "print(a,b)\n",
    "print(b,type(b))"
   ]
  },
  {
   "cell_type": "markdown",
   "metadata": {},
   "source": [
    "Numpy array를 Torch Tensor로 변경하기\n",
    "\n",
    "np array를 변경하면 Torch Tensor의 값도 자동으로 변경될까요?"
   ]
  },
  {
   "cell_type": "code",
   "execution_count": 22,
   "metadata": {},
   "outputs": [
    {
     "name": "stdout",
     "output_type": "stream",
     "text": [
      "[2. 2. 2. 2. 2.] tensor([2., 2., 2., 2., 2.], dtype=torch.float64)\n"
     ]
    }
   ],
   "source": [
    "import numpy as np \n",
    "\n",
    "a = np.ones(5)\n",
    "b = torch.from_numpy(a)\n",
    "\n",
    "np.add(a,1,out=a)\n",
    "print(a,b)"
   ]
  },
  {
   "cell_type": "markdown",
   "metadata": {},
   "source": [
    "CUDA Tensors\n",
    "\n",
    "Tensor는 .to 메서드를 사용하여 어떤 장치로 이동될 수 있습니다."
   ]
  },
  {
   "cell_type": "code",
   "execution_count": 25,
   "metadata": {},
   "outputs": [
    {
     "name": "stdout",
     "output_type": "stream",
     "text": [
      "tensor([[ 3.2012,  1.3847,  0.7403,  2.5537],\n",
      "        [-1.0819,  0.6926, -0.3654,  1.0392],\n",
      "        [ 2.3029,  0.6552,  1.1707,  1.7872],\n",
      "        [ 0.7642,  0.9683,  2.1408,  0.7007]], device='cuda:0')\n",
      "tensor([[ 3.2012,  1.3847,  0.7403,  2.5537],\n",
      "        [-1.0819,  0.6926, -0.3654,  1.0392],\n",
      "        [ 2.3029,  0.6552,  1.1707,  1.7872],\n",
      "        [ 0.7642,  0.9683,  2.1408,  0.7007]], dtype=torch.float64)\n"
     ]
    }
   ],
   "source": [
    "if torch.cuda.is_available():\n",
    "    device = torch.device('cuda') #CUDA 장치 객체를 생성\n",
    "    y = torch.ones_like(x,device=device) #CUDA device를 가지고 tensor 생성\n",
    "    x = x.to(device)\n",
    "\n",
    "    z = x+y \n",
    "    print(z)\n",
    "    print(z.to('cpu',torch.double))"
   ]
  },
  {
   "cell_type": "code",
   "execution_count": null,
   "metadata": {},
   "outputs": [],
   "source": []
  }
 ],
 "metadata": {
  "interpreter": {
   "hash": "bbacf2a9d2e876d097b37d768b1e7f504d43ac1a5c7cfa4c05142076e87a32d3"
  },
  "kernelspec": {
   "display_name": "Python 3.8.12 ('tensorflowstart': conda)",
   "language": "python",
   "name": "python3"
  },
  "language_info": {
   "codemirror_mode": {
    "name": "ipython",
    "version": 3
   },
   "file_extension": ".py",
   "mimetype": "text/x-python",
   "name": "python",
   "nbconvert_exporter": "python",
   "pygments_lexer": "ipython3",
   "version": "3.8.12"
  },
  "orig_nbformat": 4
 },
 "nbformat": 4,
 "nbformat_minor": 2
}
