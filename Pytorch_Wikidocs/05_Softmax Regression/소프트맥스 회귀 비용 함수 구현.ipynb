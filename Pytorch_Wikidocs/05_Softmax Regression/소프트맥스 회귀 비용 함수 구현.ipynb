{
 "cells": [
  {
   "cell_type": "markdown",
   "metadata": {},
   "source": [
    "#### Softmax Regression"
   ]
  },
  {
   "cell_type": "markdown",
   "metadata": {},
   "source": [
    "다중 클래스 분류 문제에 적용 \n",
    "\n",
    "로지스틱 회귀에서 0, 1 사이의 Binary Classification이 아니다. \n",
    "\n",
    "총 확률의 합이 1이 되어야 한다. \n",
    "\n",
    "CIFAR100에서 붓꽃 품종 예측 시 label 3개가 나오는데, 이들에 대한 확률의 합이 1이 되도록 한다. "
   ]
  },
  {
   "cell_type": "code",
   "execution_count": 1,
   "metadata": {},
   "outputs": [],
   "source": [
    "import torch \n",
    "import torch.nn as nn \n",
    "import torch.nn.functional as F \n",
    "import torch.optim as optim "
   ]
  },
  {
   "cell_type": "code",
   "execution_count": 2,
   "metadata": {},
   "outputs": [
    {
     "data": {
      "text/plain": [
       "<torch._C.Generator at 0x29d47714630>"
      ]
     },
     "execution_count": 2,
     "metadata": {},
     "output_type": "execute_result"
    }
   ],
   "source": [
    "torch.manual_seed(1)"
   ]
  },
  {
   "cell_type": "code",
   "execution_count": 3,
   "metadata": {},
   "outputs": [],
   "source": [
    "x_train = [[1, 2, 1, 1],\n",
    "           [2, 1, 3, 2],\n",
    "           [3, 1, 3, 4],\n",
    "           [4, 1, 5, 5],\n",
    "           [1, 7, 5, 5],\n",
    "           [1, 2, 5, 6],\n",
    "           [1, 6, 6, 6],\n",
    "           [1, 7, 7, 7]]\n",
    "\n",
    "y_train = [2,2,2,1,1,1,0,0] # 0번째는 2, 1번째는 2, 등등 x_train에 대한 Label을 뜻함. "
   ]
  },
  {
   "cell_type": "code",
   "execution_count": 4,
   "metadata": {},
   "outputs": [],
   "source": [
    "x_train = torch.FloatTensor(x_train)\n",
    "y_train = torch.FloatTensor(y_train)"
   ]
  },
  {
   "cell_type": "markdown",
   "metadata": {},
   "source": [
    "1. 소프트맥스 회귀 구현하기"
   ]
  },
  {
   "cell_type": "code",
   "execution_count": 6,
   "metadata": {},
   "outputs": [
    {
     "name": "stdout",
     "output_type": "stream",
     "text": [
      "torch.Size([8, 4])\n",
      "torch.Size([8])\n"
     ]
    }
   ],
   "source": [
    "print(x_train.shape)\n",
    "print(y_train.shape)"
   ]
  },
  {
   "cell_type": "code",
   "execution_count": 8,
   "metadata": {},
   "outputs": [
    {
     "ename": "RuntimeError",
     "evalue": "scatter(): Expected dtype int64 for index",
     "output_type": "error",
     "traceback": [
      "\u001b[1;31m---------------------------------------------------------------------------\u001b[0m",
      "\u001b[1;31mRuntimeError\u001b[0m                              Traceback (most recent call last)",
      "\u001b[1;32mc:\\Users\\key23\\Desktop\\프로그래밍2022\\SP_in_Python\\Pytorch_Wikidocs\\05_Softmax Regression\\소프트맥스 회귀 비용 함수 구현.ipynb Cell 9'\u001b[0m in \u001b[0;36m<cell line: 2>\u001b[1;34m()\u001b[0m\n\u001b[0;32m      <a href='vscode-notebook-cell:/c%3A/Users/key23/Desktop/%ED%94%84%EB%A1%9C%EA%B7%B8%EB%9E%98%EB%B0%8D2022/SP_in_Python/Pytorch_Wikidocs/05_Softmax%20Regression/%EC%86%8C%ED%94%84%ED%8A%B8%EB%A7%A5%EC%8A%A4%20%ED%9A%8C%EA%B7%80%20%EB%B9%84%EC%9A%A9%20%ED%95%A8%EC%88%98%20%EA%B5%AC%ED%98%84.ipynb#ch0000012?line=0'>1</a>\u001b[0m y_one_hot \u001b[39m=\u001b[39m torch\u001b[39m.\u001b[39mzeros(\u001b[39m8\u001b[39m, \u001b[39m3\u001b[39m)\n\u001b[1;32m----> <a href='vscode-notebook-cell:/c%3A/Users/key23/Desktop/%ED%94%84%EB%A1%9C%EA%B7%B8%EB%9E%98%EB%B0%8D2022/SP_in_Python/Pytorch_Wikidocs/05_Softmax%20Regression/%EC%86%8C%ED%94%84%ED%8A%B8%EB%A7%A5%EC%8A%A4%20%ED%9A%8C%EA%B7%80%20%EB%B9%84%EC%9A%A9%20%ED%95%A8%EC%88%98%20%EA%B5%AC%ED%98%84.ipynb#ch0000012?line=1'>2</a>\u001b[0m y_one_hot\u001b[39m.\u001b[39;49mscatter_(\u001b[39m1\u001b[39;49m, y_train\u001b[39m.\u001b[39;49munsqueeze(\u001b[39m1\u001b[39;49m), \u001b[39m1\u001b[39;49m)\n\u001b[0;32m      <a href='vscode-notebook-cell:/c%3A/Users/key23/Desktop/%ED%94%84%EB%A1%9C%EA%B7%B8%EB%9E%98%EB%B0%8D2022/SP_in_Python/Pytorch_Wikidocs/05_Softmax%20Regression/%EC%86%8C%ED%94%84%ED%8A%B8%EB%A7%A5%EC%8A%A4%20%ED%9A%8C%EA%B7%80%20%EB%B9%84%EC%9A%A9%20%ED%95%A8%EC%88%98%20%EA%B5%AC%ED%98%84.ipynb#ch0000012?line=2'>3</a>\u001b[0m \u001b[39mprint\u001b[39m(y_one_hot\u001b[39m.\u001b[39mshape)\n",
      "\u001b[1;31mRuntimeError\u001b[0m: scatter(): Expected dtype int64 for index"
     ]
    }
   ],
   "source": [
    "y_one_hot = torch.zeros(8, 3)\n",
    "y_one_hot.scatter_(1, y_train.unsqueeze(1), 1)\n",
    "print(y_one_hot.shape)"
   ]
  },
  {
   "cell_type": "code",
   "execution_count": null,
   "metadata": {},
   "outputs": [],
   "source": []
  },
  {
   "cell_type": "code",
   "execution_count": null,
   "metadata": {},
   "outputs": [],
   "source": []
  }
 ],
 "metadata": {
  "kernelspec": {
   "display_name": "Python 3.9.7 ('base')",
   "language": "python",
   "name": "python3"
  },
  "language_info": {
   "codemirror_mode": {
    "name": "ipython",
    "version": 3
   },
   "file_extension": ".py",
   "mimetype": "text/x-python",
   "name": "python",
   "nbconvert_exporter": "python",
   "pygments_lexer": "ipython3",
   "version": "3.9.7"
  },
  "orig_nbformat": 4,
  "vscode": {
   "interpreter": {
    "hash": "1c45c269bc2f1467f51b0d7ce18bdfa2841a09c768d41ed69b0f11077738bf91"
   }
  }
 },
 "nbformat": 4,
 "nbformat_minor": 2
}
