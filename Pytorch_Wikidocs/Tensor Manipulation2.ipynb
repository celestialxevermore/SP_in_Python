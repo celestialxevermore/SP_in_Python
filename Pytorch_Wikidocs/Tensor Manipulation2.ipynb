{
 "cells": [
  {
   "cell_type": "markdown",
   "metadata": {},
   "source": [
    "Tensor Manipulation"
   ]
  },
  {
   "cell_type": "markdown",
   "metadata": {},
   "source": [
    "1. 뷰 == numpy.reshape \n",
    "\n",
    "파이토치 텐서의 뷰(.view)는 넘파이에서 reshape와 같은 역할을 합니다."
   ]
  },
  {
   "cell_type": "code",
   "execution_count": 2,
   "metadata": {},
   "outputs": [],
   "source": [
    "import numpy as np \n",
    "import torch "
   ]
  },
  {
   "cell_type": "code",
   "execution_count": 3,
   "metadata": {},
   "outputs": [],
   "source": [
    "t = np.array([[1,2,3,4],[2,3,4,5],[3,4,5,6],[4,5,6,7]])\n",
    "\n",
    "ft = torch.tensor(t)"
   ]
  },
  {
   "cell_type": "code",
   "execution_count": 4,
   "metadata": {},
   "outputs": [
    {
     "name": "stdout",
     "output_type": "stream",
     "text": [
      "[[1 2 3 4]\n",
      " [2 3 4 5]\n",
      " [3 4 5 6]\n",
      " [4 5 6 7]]\n",
      "tensor([[1, 2, 3, 4],\n",
      "        [2, 3, 4, 5],\n",
      "        [3, 4, 5, 6],\n",
      "        [4, 5, 6, 7]])\n"
     ]
    }
   ],
   "source": [
    "print(t)\n",
    "print(ft)"
   ]
  },
  {
   "cell_type": "code",
   "execution_count": 5,
   "metadata": {},
   "outputs": [
    {
     "name": "stdout",
     "output_type": "stream",
     "text": [
      "[[1 2 3 4 2 3 4 5 3 4 5 6 4 5 6 7]]\n"
     ]
    }
   ],
   "source": [
    "t = t.reshape(-1,16)\n",
    "ft = ft.view(2,-1)\n",
    "\n",
    "print(t)"
   ]
  },
  {
   "cell_type": "code",
   "execution_count": 6,
   "metadata": {},
   "outputs": [
    {
     "name": "stdout",
     "output_type": "stream",
     "text": [
      "tensor([[1, 2, 3, 4, 2, 3, 4, 5],\n",
      "        [3, 4, 5, 6, 4, 5, 6, 7]])\n"
     ]
    }
   ],
   "source": [
    "print(ft)"
   ]
  },
  {
   "cell_type": "code",
   "execution_count": 7,
   "metadata": {},
   "outputs": [],
   "source": [
    "t = np.array([[1,2,3,4],[2,3,4,5],[3,4,5,6],[4,5,6,7]])\n",
    "ft = torch.FloatTensor(t)"
   ]
  },
  {
   "cell_type": "markdown",
   "metadata": {},
   "source": [
    "view는 reshape와 매우 흡사하다."
   ]
  },
  {
   "cell_type": "code",
   "execution_count": 10,
   "metadata": {},
   "outputs": [
    {
     "name": "stdout",
     "output_type": "stream",
     "text": [
      "tensor([[[1., 2., 3., 4.]],\n",
      "\n",
      "        [[2., 3., 4., 5.]],\n",
      "\n",
      "        [[3., 4., 5., 6.]],\n",
      "\n",
      "        [[4., 5., 6., 7.]]])\n"
     ]
    },
    {
     "data": {
      "text/plain": [
       "torch.Size([4, 1, 3])"
      ]
     },
     "execution_count": 10,
     "metadata": {},
     "output_type": "execute_result"
    }
   ],
   "source": [
    "print(ft.view([-1,1,4]))\n",
    "#3차원으로 변환\n",
    "torch.Size([4,1,3])"
   ]
  },
  {
   "cell_type": "markdown",
   "metadata": {},
   "source": [
    "Squeeze() : 1에 해당하는 차원을 제거합니다."
   ]
  },
  {
   "cell_type": "code",
   "execution_count": 15,
   "metadata": {},
   "outputs": [
    {
     "name": "stdout",
     "output_type": "stream",
     "text": [
      "torch.Size([3, 1])\n",
      "tensor([[0.],\n",
      "        [1.],\n",
      "        [2.]])\n"
     ]
    }
   ],
   "source": [
    "ft = torch.FloatTensor([[0],[1],[2]])\n",
    "print(ft.shape)\n",
    "print(ft)"
   ]
  },
  {
   "cell_type": "code",
   "execution_count": 18,
   "metadata": {},
   "outputs": [
    {
     "name": "stdout",
     "output_type": "stream",
     "text": [
      "tensor([0., 1., 2.])\n",
      "torch.Size([3])\n"
     ]
    }
   ],
   "source": [
    "print(ft.squeeze())\n",
    "ft = ft.squeeze()\n",
    "print(ft.shape)"
   ]
  },
  {
   "cell_type": "code",
   "execution_count": 21,
   "metadata": {},
   "outputs": [
    {
     "name": "stdout",
     "output_type": "stream",
     "text": [
      "torch.Size([3, 3, 1])\n",
      "torch.Size([3, 3])\n"
     ]
    }
   ],
   "source": [
    "test = torch.FloatTensor([[1,2,3],[2,3,4],[3,4,5]])\n",
    "test = test.view([3,3,-1])\n",
    "print(test.shape)\n",
    "\n",
    "test = test.squeeze()\n",
    "print(test.shape)"
   ]
  },
  {
   "cell_type": "markdown",
   "metadata": {},
   "source": [
    "Unsqueeze() - 특정 위치에 1인 차원을 추가합니다. \n",
    "\n",
    "언스퀴즈는 스퀴즈와 정반대입니다. 특정 위치에 1인 차원을 추가합니다. "
   ]
  },
  {
   "cell_type": "code",
   "execution_count": 25,
   "metadata": {},
   "outputs": [
    {
     "name": "stdout",
     "output_type": "stream",
     "text": [
      "torch.Size([3])\n",
      "tensor([0., 1., 2.])\n"
     ]
    }
   ],
   "source": [
    "ft = torch.FloatTensor([0,1,2])\n",
    "print(ft.shape)\n",
    "print(ft)"
   ]
  },
  {
   "cell_type": "code",
   "execution_count": 29,
   "metadata": {},
   "outputs": [
    {
     "name": "stdout",
     "output_type": "stream",
     "text": [
      "tensor([[[[[0., 1., 2.]]]]])\n",
      "torch.Size([1, 1, 1, 1, 3])\n"
     ]
    }
   ],
   "source": [
    "ft = ft.unsqueeze(0)\n",
    "print(ft)\n",
    "print(ft.shape)\n",
    "\n",
    "#해당 인덱스에 1인 차원이 추가되었음을 알 수 있습니다."
   ]
  },
  {
   "cell_type": "code",
   "execution_count": 31,
   "metadata": {},
   "outputs": [
    {
     "name": "stdout",
     "output_type": "stream",
     "text": [
      "tensor([0., 1., 2.])\n",
      "torch.Size([3])\n",
      "tensor([[0.],\n",
      "        [1.],\n",
      "        [2.]])\n",
      "torch.Size([3, 1])\n"
     ]
    }
   ],
   "source": [
    "ft = torch.FloatTensor([0,1,2])\n",
    "print(ft)\n",
    "print(ft.shape)\n",
    "ft = ft.unsqueeze(1)\n",
    "print(ft)\n",
    "print(ft.shape)"
   ]
  },
  {
   "cell_type": "markdown",
   "metadata": {},
   "source": [
    "이렇게 view(), squeeze(), unsqueeze()는 텐서의 원소 수를 그대로 유지하면서\n",
    "\n",
    "모양과 차원을 조절합니다."
   ]
  },
  {
   "cell_type": "code",
   "execution_count": 35,
   "metadata": {},
   "outputs": [
    {
     "name": "stdout",
     "output_type": "stream",
     "text": [
      "tensor([0., 1., 2.])\n",
      "torch.Size([3])\n",
      "tensor([0., 1., 2.])\n",
      "torch.Size([3])\n"
     ]
    }
   ],
   "source": [
    "ft = torch.FloatTensor([0,1,2])\n",
    "print(ft)\n",
    "print(ft.shape)\n",
    "ft = ft.squeeze()\n",
    "print(ft)\n",
    "print(ft.shape)"
   ]
  },
  {
   "cell_type": "code",
   "execution_count": 36,
   "metadata": {},
   "outputs": [
    {
     "name": "stdout",
     "output_type": "stream",
     "text": [
      "tensor([[1., 2., 3., 2., 3., 4., 3., 4., 5.]])\n",
      "torch.Size([1, 9])\n",
      "tensor([1., 2., 3., 2., 3., 4., 3., 4., 5.])\n",
      "torch.Size([9])\n"
     ]
    }
   ],
   "source": [
    "ft = torch.Tensor([[1,2,3],[2,3,4],[3,4,5]])\n",
    "\n",
    "ft = ft.view(-1,9)\n",
    "print(ft)\n",
    "print(ft.shape)\n",
    "\n",
    "ft = ft.squeeze()\n",
    "print(ft)\n",
    "print(ft.shape)\n"
   ]
  },
  {
   "cell_type": "markdown",
   "metadata": {},
   "source": [
    "타입 캐스팅\n",
    "\n"
   ]
  },
  {
   "cell_type": "code",
   "execution_count": 37,
   "metadata": {},
   "outputs": [
    {
     "name": "stdout",
     "output_type": "stream",
     "text": [
      "tensor([1, 2, 3, 4])\n"
     ]
    }
   ],
   "source": [
    "lt = torch.LongTensor([1,2,3,4])\n",
    "print(lt)"
   ]
  },
  {
   "cell_type": "code",
   "execution_count": 39,
   "metadata": {},
   "outputs": [
    {
     "name": "stdout",
     "output_type": "stream",
     "text": [
      "tensor([1., 2., 3., 4.])\n"
     ]
    }
   ],
   "source": [
    "lt = lt.float()\n",
    "print(lt)"
   ]
  },
  {
   "cell_type": "markdown",
   "metadata": {},
   "source": [
    "Byte 타입의 bt 텐서"
   ]
  },
  {
   "cell_type": "code",
   "execution_count": 44,
   "metadata": {},
   "outputs": [
    {
     "name": "stdout",
     "output_type": "stream",
     "text": [
      "tensor([1, 0, 0, 1], dtype=torch.uint8)\n"
     ]
    }
   ],
   "source": [
    "bt = torch.ByteTensor([True,False,False,True])\n",
    "print(bt)"
   ]
  },
  {
   "cell_type": "code",
   "execution_count": 45,
   "metadata": {},
   "outputs": [
    {
     "name": "stdout",
     "output_type": "stream",
     "text": [
      "tensor([1, 0, 0, 1])\n",
      "tensor([1., 0., 0., 1.])\n"
     ]
    }
   ],
   "source": [
    "bt2lt = bt.long()\n",
    "bt2ft = bt.float()\n",
    "\n",
    "print(bt2lt)\n",
    "print(bt2ft)"
   ]
  },
  {
   "cell_type": "markdown",
   "metadata": {},
   "source": [
    "연결하기(concatenate)\n",
    "\n",
    "두 텐서를 연결합니다."
   ]
  },
  {
   "cell_type": "code",
   "execution_count": 48,
   "metadata": {},
   "outputs": [],
   "source": [
    "x = torch.FloatTensor([[1,2],[3,4]])\n",
    "y = torch.FloatTensor([[5,6],[7,8]])"
   ]
  },
  {
   "cell_type": "code",
   "execution_count": 49,
   "metadata": {},
   "outputs": [
    {
     "name": "stdout",
     "output_type": "stream",
     "text": [
      "tensor([[1., 2.],\n",
      "        [3., 4.],\n",
      "        [5., 6.],\n",
      "        [7., 8.]])\n"
     ]
    }
   ],
   "source": [
    "print(torch.cat([x,y],dim=0))\n",
    "#0은 세로 기준으로 붙이기"
   ]
  },
  {
   "cell_type": "code",
   "execution_count": 50,
   "metadata": {},
   "outputs": [
    {
     "name": "stdout",
     "output_type": "stream",
     "text": [
      "tensor([[1., 2., 5., 6.],\n",
      "        [3., 4., 7., 8.]])\n"
     ]
    }
   ],
   "source": [
    "print(torch.cat([x,y],dim=1))\n",
    "#1은 가로 기준으로 붙이기"
   ]
  },
  {
   "cell_type": "markdown",
   "metadata": {},
   "source": [
    "스택킹\n"
   ]
  },
  {
   "cell_type": "code",
   "execution_count": 51,
   "metadata": {},
   "outputs": [
    {
     "name": "stdout",
     "output_type": "stream",
     "text": [
      "tensor([[1., 4.],\n",
      "        [2., 5.],\n",
      "        [3., 6.]])\n"
     ]
    }
   ],
   "source": [
    "x= torch.FloatTensor([1,4])\n",
    "y = torch.FloatTensor([2,5])\n",
    "z = torch.FloatTensor([3,6])\n",
    "\n",
    "print(torch.stack([x,y,z]))\n"
   ]
  },
  {
   "cell_type": "code",
   "execution_count": 53,
   "metadata": {},
   "outputs": [
    {
     "name": "stdout",
     "output_type": "stream",
     "text": [
      "torch.Size([2])\n",
      "tensor([[1., 4.],\n",
      "        [2., 5.],\n",
      "        [3., 6.]])\n"
     ]
    }
   ],
   "source": [
    "print(x.shape)\n",
    "print(torch.cat([x.unsqueeze(0),y.unsqueeze(0),z.unsqueeze(0)],dim=0))"
   ]
  },
  {
   "cell_type": "code",
   "execution_count": 54,
   "metadata": {},
   "outputs": [
    {
     "name": "stdout",
     "output_type": "stream",
     "text": [
      "tensor([[1., 2., 3.],\n",
      "        [4., 5., 6.]])\n"
     ]
    }
   ],
   "source": [
    "print(torch.stack([x,y,z],dim=1))"
   ]
  },
  {
   "cell_type": "code",
   "execution_count": 55,
   "metadata": {},
   "outputs": [
    {
     "name": "stdout",
     "output_type": "stream",
     "text": [
      "tensor([[1., 4.],\n",
      "        [2., 5.],\n",
      "        [3., 6.]])\n"
     ]
    }
   ],
   "source": [
    "print(torch.stack([x,y,z],dim=0))"
   ]
  },
  {
   "cell_type": "markdown",
   "metadata": {},
   "source": [
    "ones_like, zero_like : 1로 채워진 텐서, 0으로 채워진 텐서"
   ]
  },
  {
   "cell_type": "code",
   "execution_count": 60,
   "metadata": {},
   "outputs": [
    {
     "name": "stdout",
     "output_type": "stream",
     "text": [
      "[[1. 1. 1. 1. 1.]]\n",
      "tensor([[1., 1., 1., 1., 1.]])\n",
      "tensor([[1., 1., 1., 1., 1.]])\n"
     ]
    }
   ],
   "source": [
    "xx = np.ones((1,5)) #1*5의 2차원 넘파이 \n",
    "print(xx)\n",
    "\n",
    "yy = torch.ones((1,5))\n",
    "print(yy)\n",
    "\n",
    "zz = torch.ones_like((yy))\n",
    "print(zz)"
   ]
  },
  {
   "cell_type": "code",
   "execution_count": 61,
   "metadata": {},
   "outputs": [
    {
     "name": "stdout",
     "output_type": "stream",
     "text": [
      "[[0. 0. 0. 0. 0.]]\n",
      "(1, 5)\n",
      "tensor([[0., 0., 0., 0., 0.]])\n",
      "torch.Size([1, 5])\n",
      "tensor([[0., 0., 0., 0., 0.]])\n",
      "torch.Size([1, 5])\n"
     ]
    }
   ],
   "source": [
    "xx = np.zeros((1,5))\n",
    "print(xx)\n",
    "print(xx.shape)\n",
    "\n",
    "yy = torch.zeros((1,5))\n",
    "print(yy)\n",
    "print(yy.shape)\n",
    "\n",
    "zz = torch.zeros_like(yy)\n",
    "print(zz)\n",
    "print(zz.shape)"
   ]
  },
  {
   "cell_type": "markdown",
   "metadata": {},
   "source": [
    "In-place Operation"
   ]
  },
  {
   "cell_type": "code",
   "execution_count": 64,
   "metadata": {},
   "outputs": [
    {
     "data": {
      "text/plain": [
       "torch.Size([2, 2])"
      ]
     },
     "execution_count": 64,
     "metadata": {},
     "output_type": "execute_result"
    }
   ],
   "source": [
    "x = torch.FloatTensor([[1,2],[3,4]])\n",
    "x.shape\n"
   ]
  },
  {
   "cell_type": "code",
   "execution_count": 65,
   "metadata": {},
   "outputs": [
    {
     "name": "stdout",
     "output_type": "stream",
     "text": [
      "tensor([[2., 4.],\n",
      "        [6., 8.]])\n",
      "tensor([[1., 2.],\n",
      "        [3., 4.]])\n"
     ]
    }
   ],
   "source": [
    "print(x.mul(2.))\n",
    "print(x)"
   ]
  },
  {
   "cell_type": "code",
   "execution_count": 66,
   "metadata": {},
   "outputs": [
    {
     "name": "stdout",
     "output_type": "stream",
     "text": [
      "tensor([[2., 4.],\n",
      "        [6., 8.]])\n",
      "tensor([[2., 4.],\n",
      "        [6., 8.]])\n"
     ]
    }
   ],
   "source": [
    "print(x.mul_(2.))\n",
    "print(x)"
   ]
  },
  {
   "cell_type": "markdown",
   "metadata": {},
   "source": [
    "연산 뒤에 _를 붙이면 기존의 값을 덮어쓰기 합니다."
   ]
  },
  {
   "cell_type": "markdown",
   "metadata": {},
   "source": [
    "view squeeze unsqueeze zero_like ones_like cat([x,y]) stack([x,y,z])"
   ]
  },
  {
   "cell_type": "code",
   "execution_count": 81,
   "metadata": {},
   "outputs": [],
   "source": [
    "class Parent:\n",
    "\n",
    "    def __init__(self,**kwargs):\n",
    "        self.tensor1 = kwargs['tensor1']\n",
    "        self.tensor2 = kwargs['tensor2']\n",
    "    \n",
    "    def show_tensor1(self):\n",
    "        print('From Parent : ')\n",
    "        print(self.tensor1)\n",
    "    def show_tensor2(self):\n",
    "        print('From Parent : ')\n",
    "        print(self.tensor2)\n"
   ]
  },
  {
   "cell_type": "markdown",
   "metadata": {},
   "source": [
    "#view, #squeeze, #unsqueeze, #concat, #stack을 모두 가지고 있는 클래스 "
   ]
  },
  {
   "cell_type": "code",
   "execution_count": 85,
   "metadata": {},
   "outputs": [],
   "source": [
    "class Child(Parent):\n",
    "\n",
    "    def __init__(self,**kwargs):\n",
    "        \n",
    "        self.tensor1 = kwargs[\"tensor1\"]\n",
    "        self.tensor2 = kwargs[\"tensor2\"]\n",
    "        \n",
    "        super(Child,self).__init__(tensor1 = self.tensor1,tensor2=self.tensor2)\n",
    "\n",
    "\n",
    "    def my_squeeze(self):\n",
    "        print('current :',self.tensor1,self.tensor1.shape)\n",
    "        tmptensor = self.tensor1.squeeze()\n",
    "        print('after :',tmptensor,tmptensor.shape)\n",
    "    \n",
    "\n",
    "    def my_concat_zero(self,input):\n",
    "        res = torch.cat([self.tensor1,self.tensor2,input],dim=0)\n",
    "        return res\n",
    "\n",
    "    def my_concat_one(self,input):\n",
    "        res = torch.cat([self.tensor1,self.tensor2,input],dim=1)\n",
    "        return res\n",
    "\n",
    "        "
   ]
  },
  {
   "cell_type": "code",
   "execution_count": 86,
   "metadata": {},
   "outputs": [
    {
     "name": "stdout",
     "output_type": "stream",
     "text": [
      "From Parent : \n",
      "tensor([[1., 2., 3.],\n",
      "        [4., 5., 6.]])\n",
      "From Parent : \n",
      "tensor([[3., 2., 1.],\n",
      "        [6., 5., 4.]])\n"
     ]
    }
   ],
   "source": [
    "x = Child(tensor1 = torch.FloatTensor([[1,2,3],[4,5,6]]), tensor2 = torch.FloatTensor([[3,2,1,],[6,5,4]]))\n",
    "res= x.my_concat_zero(torch.FloatTensor([[1,2,3],[4,5,6]]))\n",
    "x.show_tensor1()\n",
    "x.show_tensor2()\n"
   ]
  },
  {
   "cell_type": "code",
   "execution_count": 87,
   "metadata": {},
   "outputs": [
    {
     "name": "stdout",
     "output_type": "stream",
     "text": [
      "tensor([[ 1.,  2.,  3.,  3.,  2.,  1., 15., 24., 13.],\n",
      "        [ 4.,  5.,  6.,  6.,  5.,  4., 36., 13., 23.]])\n"
     ]
    }
   ],
   "source": [
    "res2 = x.my_concat_one(torch.FloatTensor([[15,24,13],[36,13,23]]))\n",
    "print(res2)"
   ]
  },
  {
   "cell_type": "code",
   "execution_count": null,
   "metadata": {},
   "outputs": [],
   "source": []
  }
 ],
 "metadata": {
  "interpreter": {
   "hash": "b45cb9130eebfe057782ef3fcf20eb5ae5c81aa7ea2b32ada9dc8e4e9a15b7c6"
  },
  "kernelspec": {
   "display_name": "Python 3.8.8 ('base': conda)",
   "language": "python",
   "name": "python3"
  },
  "language_info": {
   "codemirror_mode": {
    "name": "ipython",
    "version": 3
   },
   "file_extension": ".py",
   "mimetype": "text/x-python",
   "name": "python",
   "nbconvert_exporter": "python",
   "pygments_lexer": "ipython3",
   "version": "3.8.8"
  },
  "orig_nbformat": 4
 },
 "nbformat": 4,
 "nbformat_minor": 2
}
