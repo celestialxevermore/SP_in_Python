{
 "cells": [
  {
   "cell_type": "markdown",
   "metadata": {},
   "source": [
    "#### nn.Module로 구현하는 로지스틱 회귀 "
   ]
  },
  {
   "cell_type": "markdown",
   "metadata": {},
   "source": [
    "1. 파이토치의 nn.Linear와 nn.Sigmoid로 로지스틱 회귀 구현하기"
   ]
  },
  {
   "cell_type": "code",
   "execution_count": 1,
   "metadata": {},
   "outputs": [],
   "source": [
    "import torch \n",
    "import torch.nn as nn \n",
    "import torch.nn.functional as F \n",
    "import torch.optim as optim "
   ]
  },
  {
   "cell_type": "code",
   "execution_count": 2,
   "metadata": {},
   "outputs": [
    {
     "data": {
      "text/plain": [
       "<torch._C.Generator at 0x1f127a60550>"
      ]
     },
     "execution_count": 2,
     "metadata": {},
     "output_type": "execute_result"
    }
   ],
   "source": [
    "torch.manual_seed(1)"
   ]
  },
  {
   "cell_type": "code",
   "execution_count": 3,
   "metadata": {},
   "outputs": [],
   "source": [
    "x_train = torch.FloatTensor([\n",
    "    [1,2],\n",
    "    [2,3],\n",
    "    [3,1],\n",
    "    [4,3],\n",
    "    [5,3],\n",
    "    [6,2]\n",
    "])\n",
    "\n",
    "y_train = torch.FloatTensor([\n",
    "    [0],\n",
    "    [0],\n",
    "    [0],\n",
    "    [1],\n",
    "    [1],\n",
    "    [1]\n",
    "])"
   ]
  },
  {
   "cell_type": "markdown",
   "metadata": {},
   "source": [
    "nn.Sequential()은 nn.Module 층을 차례로 쌓을 수 있습니다.. \n",
    "\n",
    "나중에 이를 이용해서 인공 신경망을 구현하게 되므로 기억하면 좋습니다. \n",
    "\n",
    "즉 Sequential()은 여러 함수를 연결하는 뭉탱이입니다."
   ]
  },
  {
   "cell_type": "code",
   "execution_count": 4,
   "metadata": {},
   "outputs": [],
   "source": [
    "model = nn.Sequential(\n",
    "    nn.Linear(2,1),\n",
    "    nn.Sigmoid() #출력은 시그모이드를 거친다.\n",
    ")"
   ]
  },
  {
   "cell_type": "code",
   "execution_count": 5,
   "metadata": {},
   "outputs": [],
   "source": [
    "optimizer = optim.SGD(model.parameters(),lr=1e-5)\n",
    "nb_epochs = 1000 "
   ]
  },
  {
   "cell_type": "code",
   "execution_count": 6,
   "metadata": {},
   "outputs": [
    {
     "name": "stdout",
     "output_type": "stream",
     "text": [
      "Epoch    0/1000 Cost: -0.000000 Accuracy 83.33%\n",
      "Epoch   10/1000 Cost: -0.000000 Accuracy 83.33%\n",
      "Epoch   20/1000 Cost: -0.000000 Accuracy 83.33%\n",
      "Epoch   30/1000 Cost: -0.000000 Accuracy 83.33%\n",
      "Epoch   40/1000 Cost: -0.000000 Accuracy 83.33%\n",
      "Epoch   50/1000 Cost: -0.000000 Accuracy 83.33%\n",
      "Epoch   60/1000 Cost: -0.000000 Accuracy 83.33%\n",
      "Epoch   70/1000 Cost: -0.000000 Accuracy 83.33%\n",
      "Epoch   80/1000 Cost: -0.000000 Accuracy 83.33%\n",
      "Epoch   90/1000 Cost: -0.000000 Accuracy 83.33%\n",
      "Epoch  100/1000 Cost: -0.000000 Accuracy 83.33%\n",
      "Epoch  110/1000 Cost: -0.000000 Accuracy 83.33%\n",
      "Epoch  120/1000 Cost: -0.000000 Accuracy 83.33%\n",
      "Epoch  130/1000 Cost: -0.000000 Accuracy 83.33%\n",
      "Epoch  140/1000 Cost: -0.000000 Accuracy 83.33%\n",
      "Epoch  150/1000 Cost: -0.000000 Accuracy 83.33%\n",
      "Epoch  160/1000 Cost: -0.000000 Accuracy 83.33%\n",
      "Epoch  170/1000 Cost: -0.000000 Accuracy 83.33%\n",
      "Epoch  180/1000 Cost: -0.000000 Accuracy 83.33%\n",
      "Epoch  190/1000 Cost: -0.000000 Accuracy 83.33%\n",
      "Epoch  200/1000 Cost: -0.000000 Accuracy 83.33%\n",
      "Epoch  210/1000 Cost: -0.000000 Accuracy 83.33%\n",
      "Epoch  220/1000 Cost: -0.000000 Accuracy 83.33%\n",
      "Epoch  230/1000 Cost: -0.000000 Accuracy 83.33%\n",
      "Epoch  240/1000 Cost: -0.000000 Accuracy 83.33%\n",
      "Epoch  250/1000 Cost: -0.000000 Accuracy 83.33%\n",
      "Epoch  260/1000 Cost: -0.000000 Accuracy 83.33%\n",
      "Epoch  270/1000 Cost: -0.000000 Accuracy 83.33%\n",
      "Epoch  280/1000 Cost: -0.000000 Accuracy 83.33%\n",
      "Epoch  290/1000 Cost: -0.000000 Accuracy 83.33%\n",
      "Epoch  300/1000 Cost: -0.000000 Accuracy 83.33%\n",
      "Epoch  310/1000 Cost: -0.000000 Accuracy 83.33%\n",
      "Epoch  320/1000 Cost: -0.000000 Accuracy 83.33%\n",
      "Epoch  330/1000 Cost: -0.000000 Accuracy 83.33%\n",
      "Epoch  340/1000 Cost: -0.000000 Accuracy 83.33%\n",
      "Epoch  350/1000 Cost: -0.000000 Accuracy 83.33%\n",
      "Epoch  360/1000 Cost: -0.000000 Accuracy 83.33%\n",
      "Epoch  370/1000 Cost: -0.000000 Accuracy 83.33%\n",
      "Epoch  380/1000 Cost: -0.000000 Accuracy 83.33%\n",
      "Epoch  390/1000 Cost: -0.000000 Accuracy 83.33%\n",
      "Epoch  400/1000 Cost: -0.000000 Accuracy 83.33%\n",
      "Epoch  410/1000 Cost: -0.000000 Accuracy 83.33%\n",
      "Epoch  420/1000 Cost: -0.000000 Accuracy 83.33%\n",
      "Epoch  430/1000 Cost: -0.000000 Accuracy 83.33%\n",
      "Epoch  440/1000 Cost: -0.000000 Accuracy 83.33%\n",
      "Epoch  450/1000 Cost: -0.000000 Accuracy 83.33%\n",
      "Epoch  460/1000 Cost: -0.000000 Accuracy 83.33%\n",
      "Epoch  470/1000 Cost: -0.000000 Accuracy 83.33%\n",
      "Epoch  480/1000 Cost: -0.000000 Accuracy 83.33%\n",
      "Epoch  490/1000 Cost: -0.000000 Accuracy 83.33%\n",
      "Epoch  500/1000 Cost: -0.000000 Accuracy 83.33%\n",
      "Epoch  510/1000 Cost: -0.000000 Accuracy 83.33%\n",
      "Epoch  520/1000 Cost: -0.000000 Accuracy 83.33%\n",
      "Epoch  530/1000 Cost: -0.000000 Accuracy 83.33%\n",
      "Epoch  540/1000 Cost: -0.000000 Accuracy 83.33%\n",
      "Epoch  550/1000 Cost: -0.000000 Accuracy 83.33%\n",
      "Epoch  560/1000 Cost: -0.000000 Accuracy 83.33%\n",
      "Epoch  570/1000 Cost: -0.000000 Accuracy 83.33%\n",
      "Epoch  580/1000 Cost: -0.000000 Accuracy 83.33%\n",
      "Epoch  590/1000 Cost: -0.000000 Accuracy 83.33%\n",
      "Epoch  600/1000 Cost: -0.000000 Accuracy 83.33%\n",
      "Epoch  610/1000 Cost: -0.000000 Accuracy 83.33%\n",
      "Epoch  620/1000 Cost: -0.000000 Accuracy 83.33%\n",
      "Epoch  630/1000 Cost: -0.000000 Accuracy 83.33%\n",
      "Epoch  640/1000 Cost: -0.000000 Accuracy 83.33%\n",
      "Epoch  650/1000 Cost: -0.000000 Accuracy 83.33%\n",
      "Epoch  660/1000 Cost: -0.000000 Accuracy 83.33%\n",
      "Epoch  670/1000 Cost: -0.000000 Accuracy 83.33%\n",
      "Epoch  680/1000 Cost: -0.000000 Accuracy 83.33%\n",
      "Epoch  690/1000 Cost: -0.000000 Accuracy 83.33%\n",
      "Epoch  700/1000 Cost: -0.000000 Accuracy 83.33%\n",
      "Epoch  710/1000 Cost: -0.000000 Accuracy 83.33%\n",
      "Epoch  720/1000 Cost: -0.000000 Accuracy 83.33%\n",
      "Epoch  730/1000 Cost: -0.000000 Accuracy 83.33%\n",
      "Epoch  740/1000 Cost: -0.000000 Accuracy 83.33%\n",
      "Epoch  750/1000 Cost: -0.000000 Accuracy 83.33%\n",
      "Epoch  760/1000 Cost: -0.000000 Accuracy 83.33%\n",
      "Epoch  770/1000 Cost: -0.000000 Accuracy 83.33%\n",
      "Epoch  780/1000 Cost: -0.000000 Accuracy 83.33%\n",
      "Epoch  790/1000 Cost: -0.000000 Accuracy 83.33%\n",
      "Epoch  800/1000 Cost: -0.000000 Accuracy 83.33%\n",
      "Epoch  810/1000 Cost: -0.000000 Accuracy 83.33%\n",
      "Epoch  820/1000 Cost: -0.000000 Accuracy 83.33%\n",
      "Epoch  830/1000 Cost: -0.000000 Accuracy 83.33%\n",
      "Epoch  840/1000 Cost: -0.000000 Accuracy 83.33%\n",
      "Epoch  850/1000 Cost: -0.000000 Accuracy 83.33%\n",
      "Epoch  860/1000 Cost: -0.000000 Accuracy 83.33%\n",
      "Epoch  870/1000 Cost: -0.000000 Accuracy 83.33%\n",
      "Epoch  880/1000 Cost: -0.000000 Accuracy 83.33%\n",
      "Epoch  890/1000 Cost: -0.000000 Accuracy 83.33%\n",
      "Epoch  900/1000 Cost: -0.000000 Accuracy 83.33%\n",
      "Epoch  910/1000 Cost: -0.000000 Accuracy 83.33%\n",
      "Epoch  920/1000 Cost: -0.000000 Accuracy 83.33%\n",
      "Epoch  930/1000 Cost: -0.000000 Accuracy 83.33%\n",
      "Epoch  940/1000 Cost: -0.000000 Accuracy 83.33%\n",
      "Epoch  950/1000 Cost: -0.000000 Accuracy 83.33%\n",
      "Epoch  960/1000 Cost: -0.000000 Accuracy 83.33%\n",
      "Epoch  970/1000 Cost: -0.000000 Accuracy 83.33%\n",
      "Epoch  980/1000 Cost: -0.000000 Accuracy 83.33%\n",
      "Epoch  990/1000 Cost: -0.000000 Accuracy 83.33%\n",
      "Epoch 1000/1000 Cost: -0.000000 Accuracy 83.33%\n"
     ]
    }
   ],
   "source": [
    "for epoch in range(nb_epochs+1):\n",
    "\n",
    "    #가섫함수 h를 계산 \n",
    "    hypothesis = model(x_train)\n",
    "\n",
    "    #전체 비용을 계산 \n",
    "    cost = F.cross_entropy(hypothesis,y_train)\n",
    "\n",
    "\n",
    "    #이제 optimizer를 랜덤 이니셜라이즈 후 학습 진행 \n",
    "    optimizer.zero_grad()\n",
    "\n",
    "    cost.backward() \n",
    "\n",
    "    optimizer.step() \n",
    "\n",
    "     # 20번마다 로그 출력\n",
    "    if epoch % 10 == 0:\n",
    "        prediction = hypothesis >= torch.FloatTensor([0.5]) # 예측값이 0.5를 넘으면 True로 간주\n",
    "        correct_prediction = prediction.float() == y_train # 실제값과 일치하는 경우만 True로 간주\n",
    "        accuracy = correct_prediction.sum().item() / len(correct_prediction) # 정확도를 계산\n",
    "        print('Epoch {:4d}/{} Cost: {:.6f} Accuracy {:2.2f}%'.format( # 각 에포크마다 정확도를 출력\n",
    "            epoch, nb_epochs, cost.item(), accuracy * 100,\n",
    "        ))   "
   ]
  },
  {
   "cell_type": "code",
   "execution_count": null,
   "metadata": {},
   "outputs": [],
   "source": []
  }
 ],
 "metadata": {
  "interpreter": {
   "hash": "9e15a3c1e5a0b9948e461c933b1210e1c61658222f801330e838cfb00c5a7d08"
  },
  "kernelspec": {
   "display_name": "Python 3.10.2 64-bit",
   "language": "python",
   "name": "python3"
  },
  "language_info": {
   "codemirror_mode": {
    "name": "ipython",
    "version": 3
   },
   "file_extension": ".py",
   "mimetype": "text/x-python",
   "name": "python",
   "nbconvert_exporter": "python",
   "pygments_lexer": "ipython3",
   "version": "3.10.2"
  },
  "orig_nbformat": 4
 },
 "nbformat": 4,
 "nbformat_minor": 2
}
