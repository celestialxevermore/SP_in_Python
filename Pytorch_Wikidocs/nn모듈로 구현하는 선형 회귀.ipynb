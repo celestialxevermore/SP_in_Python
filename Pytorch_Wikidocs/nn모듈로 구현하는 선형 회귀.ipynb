{
 "cells": [
  {
   "cell_type": "markdown",
   "metadata": {},
   "source": [
    "nn.Module로 구현하는 선형 회귀"
   ]
  },
  {
   "cell_type": "markdown",
   "metadata": {},
   "source": [
    "nn.Linear() : 선형 회귀 모델을 구현함.\n",
    "\n",
    "nn.functional.mse_loss() : 평균 제곱 오차"
   ]
  },
  {
   "cell_type": "code",
   "execution_count": 16,
   "metadata": {},
   "outputs": [],
   "source": [
    "import torch \n",
    "import torch.nn as nn \n",
    "import torch.functional as F \n",
    "import torch.optim as optim "
   ]
  },
  {
   "cell_type": "code",
   "execution_count": 17,
   "metadata": {},
   "outputs": [
    {
     "data": {
      "text/plain": [
       "<torch._C.Generator at 0x7fb870b28e30>"
      ]
     },
     "execution_count": 17,
     "metadata": {},
     "output_type": "execute_result"
    }
   ],
   "source": [
    "torch.manual_seed(1)"
   ]
  },
  {
   "cell_type": "code",
   "execution_count": 27,
   "metadata": {},
   "outputs": [],
   "source": [
    "x_train = torch.FloatTensor([ \n",
    "    [13,75,53,13],\n",
    "    [66,23,15,77],\n",
    "    [24,73,25,77]\n",
    "])\n",
    "\n",
    "y_train = torch.FloatTensor([ \n",
    "    [13],\n",
    "    [24],\n",
    "    [75]\n",
    "])"
   ]
  },
  {
   "cell_type": "code",
   "execution_count": 28,
   "metadata": {},
   "outputs": [],
   "source": [
    "model = torch.nn.Linear(4,1)"
   ]
  },
  {
   "cell_type": "code",
   "execution_count": 29,
   "metadata": {},
   "outputs": [
    {
     "data": {
      "text/plain": [
       "[Parameter containing:\n",
       " tensor([[-0.0612,  0.1387,  0.0247,  0.1826]], requires_grad=True),\n",
       " Parameter containing:\n",
       " tensor([-0.1949], requires_grad=True)]"
      ]
     },
     "execution_count": 29,
     "metadata": {},
     "output_type": "execute_result"
    }
   ],
   "source": [
    "list(model.parameters())\n",
    "#첫번째 값이 w이고, 두번째 값이 b "
   ]
  },
  {
   "cell_type": "code",
   "execution_count": 26,
   "metadata": {},
   "outputs": [
    {
     "name": "stdout",
     "output_type": "stream",
     "text": [
      "Epoch    0/100 Cost: 1048.197266\n",
      "Epoch  100/100 Cost: 47.592529\n"
     ]
    }
   ],
   "source": [
    "optimizer = torch.optim.SGD(model.parameters(),lr=1e-5)\n",
    "np_epochs = 100\n",
    "\n",
    "for epoch in range(np_epochs+1):\n",
    "\n",
    "    prediction = model(x_train)\n",
    "\n",
    "    cost = torch.nn.functional.mse_loss(prediction,y_train)\n",
    "\n",
    "    optimizer.zero_grad()\n",
    "    cost.backward()\n",
    "    optimizer.step()\n",
    "\n",
    "    if epoch % 100 ==0:\n",
    "        print('Epoch {:4d}/{} Cost: {:.6f}'.format(\n",
    "          epoch, np_epochs, cost.item()\n",
    "      ))"
   ]
  },
  {
   "cell_type": "markdown",
   "metadata": {},
   "source": [
    "2. 다중 선형 회귀 구현"
   ]
  },
  {
   "cell_type": "code",
   "execution_count": 30,
   "metadata": {},
   "outputs": [
    {
     "data": {
      "text/plain": [
       "<torch._C.Generator at 0x7fb870b28e30>"
      ]
     },
     "execution_count": 30,
     "metadata": {},
     "output_type": "execute_result"
    }
   ],
   "source": [
    "import torch \n",
    "import torch.nn as nn \n",
    "import torch.nn.functional as F \n",
    "import torch.optim as optim \n",
    "\n",
    "torch.manual_seed(1)"
   ]
  },
  {
   "cell_type": "code",
   "execution_count": 31,
   "metadata": {},
   "outputs": [],
   "source": [
    "# 데이터\n",
    "x_train = torch.FloatTensor([[73, 80, 75],\n",
    "                             [93, 88, 93],\n",
    "                             [89, 91, 90],\n",
    "                             [96, 98, 100],\n",
    "                             [73, 66, 70]])\n",
    "y_train = torch.FloatTensor([[152], [185], [180], [196], [142]])"
   ]
  },
  {
   "cell_type": "code",
   "execution_count": 32,
   "metadata": {},
   "outputs": [],
   "source": [
    "mymodel = nn.Linear(3,1) "
   ]
  },
  {
   "cell_type": "code",
   "execution_count": 34,
   "metadata": {},
   "outputs": [
    {
     "name": "stdout",
     "output_type": "stream",
     "text": [
      "[Parameter containing:\n",
      "tensor([[ 0.2975, -0.2548, -0.1119]], requires_grad=True), Parameter containing:\n",
      "tensor([0.2710], requires_grad=True)]\n"
     ]
    }
   ],
   "source": [
    "print(list(mymodel.parameters()))"
   ]
  },
  {
   "cell_type": "code",
   "execution_count": 36,
   "metadata": {},
   "outputs": [],
   "source": [
    "optimizer = optim.SGD(mymodel.parameters(),lr=1e-5)"
   ]
  },
  {
   "cell_type": "code",
   "execution_count": 38,
   "metadata": {},
   "outputs": [
    {
     "name": "stdout",
     "output_type": "stream",
     "text": [
      "Epoch    0/10000 Cost: 31667.599609\n",
      "Epoch  100/10000 Cost: 0.225988\n",
      "Epoch  200/10000 Cost: 0.223909\n",
      "Epoch  300/10000 Cost: 0.221935\n",
      "Epoch  400/10000 Cost: 0.220059\n",
      "Epoch  500/10000 Cost: 0.218270\n",
      "Epoch  600/10000 Cost: 0.216571\n",
      "Epoch  700/10000 Cost: 0.214954\n",
      "Epoch  800/10000 Cost: 0.213418\n",
      "Epoch  900/10000 Cost: 0.211954\n",
      "Epoch 1000/10000 Cost: 0.210558\n",
      "Epoch 1100/10000 Cost: 0.209230\n",
      "Epoch 1200/10000 Cost: 0.207967\n",
      "Epoch 1300/10000 Cost: 0.206767\n",
      "Epoch 1400/10000 Cost: 0.205618\n",
      "Epoch 1500/10000 Cost: 0.204524\n",
      "Epoch 1600/10000 Cost: 0.203484\n",
      "Epoch 1700/10000 Cost: 0.202488\n",
      "Epoch 1800/10000 Cost: 0.201542\n",
      "Epoch 1900/10000 Cost: 0.200637\n",
      "Epoch 2000/10000 Cost: 0.199772\n",
      "Epoch 2100/10000 Cost: 0.198950\n",
      "Epoch 2200/10000 Cost: 0.198161\n",
      "Epoch 2300/10000 Cost: 0.197412\n",
      "Epoch 2400/10000 Cost: 0.196686\n",
      "Epoch 2500/10000 Cost: 0.196001\n",
      "Epoch 2600/10000 Cost: 0.195340\n",
      "Epoch 2700/10000 Cost: 0.194717\n",
      "Epoch 2800/10000 Cost: 0.194115\n",
      "Epoch 2900/10000 Cost: 0.193538\n",
      "Epoch 3000/10000 Cost: 0.192979\n",
      "Epoch 3100/10000 Cost: 0.192453\n",
      "Epoch 3200/10000 Cost: 0.191949\n",
      "Epoch 3300/10000 Cost: 0.191457\n",
      "Epoch 3400/10000 Cost: 0.190990\n",
      "Epoch 3500/10000 Cost: 0.190541\n",
      "Epoch 3600/10000 Cost: 0.190110\n",
      "Epoch 3700/10000 Cost: 0.189693\n",
      "Epoch 3800/10000 Cost: 0.189298\n",
      "Epoch 3900/10000 Cost: 0.188910\n",
      "Epoch 4000/10000 Cost: 0.188545\n",
      "Epoch 4100/10000 Cost: 0.188188\n",
      "Epoch 4200/10000 Cost: 0.187842\n",
      "Epoch 4300/10000 Cost: 0.187516\n",
      "Epoch 4400/10000 Cost: 0.187195\n",
      "Epoch 4500/10000 Cost: 0.186888\n",
      "Epoch 4600/10000 Cost: 0.186589\n",
      "Epoch 4700/10000 Cost: 0.186307\n",
      "Epoch 4800/10000 Cost: 0.186024\n",
      "Epoch 4900/10000 Cost: 0.185755\n",
      "Epoch 5000/10000 Cost: 0.185492\n",
      "Epoch 5100/10000 Cost: 0.185240\n",
      "Epoch 5200/10000 Cost: 0.185001\n",
      "Epoch 5300/10000 Cost: 0.184765\n",
      "Epoch 5400/10000 Cost: 0.184526\n",
      "Epoch 5500/10000 Cost: 0.184306\n",
      "Epoch 5600/10000 Cost: 0.184090\n",
      "Epoch 5700/10000 Cost: 0.183878\n",
      "Epoch 5800/10000 Cost: 0.183674\n",
      "Epoch 5900/10000 Cost: 0.183469\n",
      "Epoch 6000/10000 Cost: 0.183278\n",
      "Epoch 6100/10000 Cost: 0.183087\n",
      "Epoch 6200/10000 Cost: 0.182901\n",
      "Epoch 6300/10000 Cost: 0.182719\n",
      "Epoch 6400/10000 Cost: 0.182543\n",
      "Epoch 6500/10000 Cost: 0.182373\n",
      "Epoch 6600/10000 Cost: 0.182201\n",
      "Epoch 6700/10000 Cost: 0.182035\n",
      "Epoch 6800/10000 Cost: 0.181874\n",
      "Epoch 6900/10000 Cost: 0.181717\n",
      "Epoch 7000/10000 Cost: 0.181561\n",
      "Epoch 7100/10000 Cost: 0.181407\n",
      "Epoch 7200/10000 Cost: 0.181262\n",
      "Epoch 7300/10000 Cost: 0.181117\n",
      "Epoch 7400/10000 Cost: 0.180975\n",
      "Epoch 7500/10000 Cost: 0.180833\n",
      "Epoch 7600/10000 Cost: 0.180695\n",
      "Epoch 7700/10000 Cost: 0.180559\n",
      "Epoch 7800/10000 Cost: 0.180425\n",
      "Epoch 7900/10000 Cost: 0.180292\n",
      "Epoch 8000/10000 Cost: 0.180157\n",
      "Epoch 8100/10000 Cost: 0.180033\n",
      "Epoch 8200/10000 Cost: 0.179907\n",
      "Epoch 8300/10000 Cost: 0.179782\n",
      "Epoch 8400/10000 Cost: 0.179665\n",
      "Epoch 8500/10000 Cost: 0.179542\n",
      "Epoch 8600/10000 Cost: 0.179426\n",
      "Epoch 8700/10000 Cost: 0.179309\n",
      "Epoch 8800/10000 Cost: 0.179188\n",
      "Epoch 8900/10000 Cost: 0.179072\n",
      "Epoch 9000/10000 Cost: 0.178965\n",
      "Epoch 9100/10000 Cost: 0.178851\n",
      "Epoch 9200/10000 Cost: 0.178733\n",
      "Epoch 9300/10000 Cost: 0.178629\n",
      "Epoch 9400/10000 Cost: 0.178519\n",
      "Epoch 9500/10000 Cost: 0.178410\n",
      "Epoch 9600/10000 Cost: 0.178307\n",
      "Epoch 9700/10000 Cost: 0.178202\n",
      "Epoch 9800/10000 Cost: 0.178101\n",
      "Epoch 9900/10000 Cost: 0.177998\n",
      "Epoch 10000/10000 Cost: 0.177891\n"
     ]
    }
   ],
   "source": [
    "nb_epochs = 10000 \n",
    "\n",
    "for epoch in range(nb_epochs+1):\n",
    "\n",
    "    #hp\n",
    "    prediction = mymodel(x_train)\n",
    "\n",
    "    cost = F.mse_loss(prediction,y_train)\n",
    "\n",
    "    optimizer.zero_grad()\n",
    "\n",
    "    cost.backward()\n",
    "\n",
    "    optimizer.step() \n",
    "    if epoch % 100 == 0:\n",
    "    # 100번마다 로그 출력\n",
    "      print('Epoch {:4d}/{} Cost: {:.6f}'.format(\n",
    "          epoch, nb_epochs, cost.item()\n",
    "      ))"
   ]
  },
  {
   "cell_type": "code",
   "execution_count": 39,
   "metadata": {},
   "outputs": [
    {
     "name": "stdout",
     "output_type": "stream",
     "text": [
      "[Parameter containing:\n",
      "tensor([[0.9751, 0.4822, 0.5515]], requires_grad=True), Parameter containing:\n",
      "tensor([0.2848], requires_grad=True)]\n"
     ]
    }
   ],
   "source": [
    "print(list(mymodel.parameters()))"
   ]
  },
  {
   "cell_type": "code",
   "execution_count": null,
   "metadata": {},
   "outputs": [],
   "source": []
  }
 ],
 "metadata": {
  "interpreter": {
   "hash": "168ed19636e745bfbe4a91e9a649e49a89eb5d69331d40be8dade616bde7bd16"
  },
  "kernelspec": {
   "display_name": "Python 3.9.7 ('pytorchproject': conda)",
   "language": "python",
   "name": "python3"
  },
  "language_info": {
   "codemirror_mode": {
    "name": "ipython",
    "version": 3
   },
   "file_extension": ".py",
   "mimetype": "text/x-python",
   "name": "python",
   "nbconvert_exporter": "python",
   "pygments_lexer": "ipython3",
   "version": "3.9.7"
  },
  "orig_nbformat": 4
 },
 "nbformat": 4,
 "nbformat_minor": 2
}
