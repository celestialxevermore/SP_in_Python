{
 "cells": [
  {
   "cell_type": "markdown",
   "metadata": {},
   "source": [
    "#### 다중 선형 회귀(Multivariable Linear regression)"
   ]
  },
  {
   "cell_type": "markdown",
   "metadata": {},
   "source": [
    "앞서 배운 단순 선형 회귀와 다른 점은 독립 변수 x의 개수가 1개가 아닌 3개\n",
    "\n",
    "따라서 그에 맞게 가중치 값도 3개로 늘어나게 되는 것입니다."
   ]
  },
  {
   "cell_type": "markdown",
   "metadata": {},
   "source": [
    "가설함수 H(x) = w1x1 + w2x2 + w3x3 + b"
   ]
  },
  {
   "cell_type": "markdown",
   "metadata": {},
   "source": [
    "1. 파이토치로 구현하기"
   ]
  },
  {
   "cell_type": "code",
   "execution_count": 1,
   "metadata": {},
   "outputs": [],
   "source": [
    "import torch\n",
    "import torch.nn as nn \n",
    "import torch.nn.functional as F \n",
    "import torch.optim as optim"
   ]
  },
  {
   "cell_type": "code",
   "execution_count": 2,
   "metadata": {},
   "outputs": [
    {
     "data": {
      "text/plain": [
       "<torch._C.Generator at 0x20f0e6905f0>"
      ]
     },
     "execution_count": 2,
     "metadata": {},
     "output_type": "execute_result"
    }
   ],
   "source": [
    "torch.manual_seed(1)"
   ]
  },
  {
   "cell_type": "code",
   "execution_count": 3,
   "metadata": {},
   "outputs": [],
   "source": [
    "### x를 세 개 선언합니다."
   ]
  },
  {
   "cell_type": "code",
   "execution_count": 4,
   "metadata": {},
   "outputs": [],
   "source": [
    "x1_train = torch.FloatTensor([[73], [93], [89], [96], [73]])\n",
    "x2_train = torch.FloatTensor([[80], [88], [91], [98], [66]])\n",
    "x3_train = torch.FloatTensor([[75], [93], [90], [100], [70]])\n",
    "y_train = torch.FloatTensor([[152], [185], [180], [196], [142]])"
   ]
  },
  {
   "cell_type": "code",
   "execution_count": 5,
   "metadata": {},
   "outputs": [],
   "source": [
    "### 가중치 w와 편향 b를 선언합니다. 가중치도 총 3개를 선언합니다."
   ]
  },
  {
   "cell_type": "code",
   "execution_count": 6,
   "metadata": {},
   "outputs": [],
   "source": [
    "# 가중치 w와 편향 b 초기화\n",
    "w1 = torch.zeros(1, requires_grad=True)\n",
    "w2 = torch.zeros(1, requires_grad=True)\n",
    "w3 = torch.zeros(1, requires_grad=True)\n",
    "b = torch.zeros(1, requires_grad=True)"
   ]
  },
  {
   "cell_type": "code",
   "execution_count": 7,
   "metadata": {},
   "outputs": [
    {
     "name": "stdout",
     "output_type": "stream",
     "text": [
      "Epoch    0/1000 w1: 0.294 w2: 0.294 w3: 0.297 b: 0.003 Cost: 29661.800781\n",
      "Epoch  100/1000 w1: 0.674 w2: 0.661 w3: 0.676 b: 0.008 Cost: 1.563634\n",
      "Epoch  200/1000 w1: 0.679 w2: 0.655 w3: 0.677 b: 0.008 Cost: 1.497607\n",
      "Epoch  300/1000 w1: 0.684 w2: 0.649 w3: 0.677 b: 0.008 Cost: 1.435026\n",
      "Epoch  400/1000 w1: 0.689 w2: 0.643 w3: 0.678 b: 0.008 Cost: 1.375730\n",
      "Epoch  500/1000 w1: 0.694 w2: 0.638 w3: 0.678 b: 0.009 Cost: 1.319511\n",
      "Epoch  600/1000 w1: 0.699 w2: 0.633 w3: 0.679 b: 0.009 Cost: 1.266222\n",
      "Epoch  700/1000 w1: 0.704 w2: 0.627 w3: 0.679 b: 0.009 Cost: 1.215696\n",
      "Epoch  800/1000 w1: 0.709 w2: 0.622 w3: 0.679 b: 0.009 Cost: 1.167818\n",
      "Epoch  900/1000 w1: 0.713 w2: 0.617 w3: 0.680 b: 0.009 Cost: 1.122429\n",
      "Epoch 1000/1000 w1: 0.718 w2: 0.613 w3: 0.680 b: 0.009 Cost: 1.079378\n"
     ]
    }
   ],
   "source": [
    "#optimizer 설정\n",
    "optimizer = optim.SGD([w1,w2,w3,b],lr=1e-5)\n",
    "\n",
    "nb_epochs = 1000\n",
    "\n",
    "for epoch in range(nb_epochs+1):\n",
    "\n",
    "    #H(x)계산 \n",
    "    hypothesis = x1_train * w1 + x2_train * w2 + x3_train * w3 +b \n",
    "\n",
    "    #cost 계산\n",
    "    #차의 제곱의 평균\n",
    "    cost = torch.mean((hypothesis-y_train)**2)\n",
    "\n",
    "    #cost로 H(x) 개선\n",
    "    optimizer.zero_grad()\n",
    "    cost.backward()\n",
    "    optimizer.step()\n",
    "    # 100번마다 로그 출력\n",
    "    if epoch % 100 == 0:\n",
    "        print('Epoch {:4d}/{} w1: {:.3f} w2: {:.3f} w3: {:.3f} b: {:.3f} Cost: {:.6f}'.format(\n",
    "            epoch, nb_epochs, w1.item(), w2.item(), w3.item(), b.item(), cost.item()\n",
    "        ))    \n"
   ]
  },
  {
   "cell_type": "markdown",
   "metadata": {},
   "source": [
    "#### 2. 벡터와 행렬 연산으로 바꾸기"
   ]
  },
  {
   "cell_type": "code",
   "execution_count": 8,
   "metadata": {},
   "outputs": [],
   "source": [
    "x_train = torch.FloatTensor([\n",
    "    [73,80,75],\n",
    "    [93,88,93],\n",
    "    [89,91,80],\n",
    "    [96,98,100],\n",
    "    [73,66,70]\n",
    "])"
   ]
  },
  {
   "cell_type": "code",
   "execution_count": 9,
   "metadata": {},
   "outputs": [],
   "source": [
    "y_train  =  torch.FloatTensor([[152],  [185],  [180],  [196],  [142]])"
   ]
  },
  {
   "cell_type": "code",
   "execution_count": 10,
   "metadata": {},
   "outputs": [
    {
     "data": {
      "text/plain": [
       "tensor([[0.],\n",
       "        [0.],\n",
       "        [0.],\n",
       "        [0.],\n",
       "        [0.]], grad_fn=<AddBackward0>)"
      ]
     },
     "execution_count": 10,
     "metadata": {},
     "output_type": "execute_result"
    }
   ],
   "source": [
    "#가중치와 편향 W,b를 선언\n",
    "\n",
    "W = torch.zeros((3,1),requires_grad=True)\n",
    "b = torch.zeros(1,requires_grad=True)\n",
    "hypothesis = x_train.matmul(W)+b\n",
    "hypothesis"
   ]
  },
  {
   "cell_type": "code",
   "execution_count": 11,
   "metadata": {},
   "outputs": [
    {
     "name": "stdout",
     "output_type": "stream",
     "text": [
      "current hypothesis : tensor([[0.],\n",
      "        [0.],\n",
      "        [0.],\n",
      "        [0.],\n",
      "        [0.]], grad_fn=<AddBackward0>)\n",
      "Epoch    0/20 hypothesis: tensor([0., 0., 0., 0., 0.]) Cost: 29661.800781\n",
      "current hypothesis : tensor([[66.7178],\n",
      "        [80.1701],\n",
      "        [76.1025],\n",
      "        [86.0194],\n",
      "        [61.1565]], grad_fn=<AddBackward0>)\n",
      "Epoch    1/20 hypothesis: tensor([66.7178, 80.1701, 76.1025, 86.0194, 61.1565]) Cost: 9537.694336\n",
      "current hypothesis : tensor([[104.5421],\n",
      "        [125.6208],\n",
      "        [119.2478],\n",
      "        [134.7861],\n",
      "        [ 95.8280]], grad_fn=<AddBackward0>)\n",
      "Epoch    2/20 hypothesis: tensor([104.5421, 125.6208, 119.2478, 134.7861,  95.8280]) Cost: 3069.590820\n",
      "current hypothesis : tensor([[125.9858],\n",
      "        [151.3882],\n",
      "        [143.7087],\n",
      "        [162.4333],\n",
      "        [115.4844]], grad_fn=<AddBackward0>)\n",
      "Epoch    3/20 hypothesis: tensor([125.9858, 151.3882, 143.7087, 162.4333, 115.4844]) Cost: 990.670288\n",
      "current hypothesis : tensor([[138.1429],\n",
      "        [165.9963],\n",
      "        [157.5768],\n",
      "        [178.1071],\n",
      "        [126.6283]], grad_fn=<AddBackward0>)\n",
      "Epoch    4/20 hypothesis: tensor([138.1429, 165.9963, 157.5768, 178.1071, 126.6283]) Cost: 322.481964\n",
      "current hypothesis : tensor([[145.0350],\n",
      "        [174.2780],\n",
      "        [165.4395],\n",
      "        [186.9928],\n",
      "        [132.9461]], grad_fn=<AddBackward0>)\n",
      "Epoch    5/20 hypothesis: tensor([145.0350, 174.2780, 165.4395, 186.9928, 132.9461]) Cost: 107.717064\n",
      "current hypothesis : tensor([[148.9423],\n",
      "        [178.9731],\n",
      "        [169.8976],\n",
      "        [192.0301],\n",
      "        [136.5279]], grad_fn=<AddBackward0>)\n",
      "Epoch    6/20 hypothesis: tensor([148.9423, 178.9731, 169.8976, 192.0301, 136.5279]) Cost: 38.687401\n",
      "current hypothesis : tensor([[151.1574],\n",
      "        [181.6347],\n",
      "        [172.4254],\n",
      "        [194.8856],\n",
      "        [138.5585]], grad_fn=<AddBackward0>)\n",
      "Epoch    7/20 hypothesis: tensor([151.1574, 181.6347, 172.4254, 194.8856, 138.5585]) Cost: 16.499046\n",
      "current hypothesis : tensor([[152.4131],\n",
      "        [183.1435],\n",
      "        [173.8590],\n",
      "        [196.5042],\n",
      "        [139.7097]], grad_fn=<AddBackward0>)\n",
      "Epoch    8/20 hypothesis: tensor([152.4131, 183.1435, 173.8590, 196.5042, 139.7097]) Cost: 9.365656\n",
      "current hypothesis : tensor([[153.1250],\n",
      "        [183.9988],\n",
      "        [174.6723],\n",
      "        [197.4216],\n",
      "        [140.3625]], grad_fn=<AddBackward0>)\n",
      "Epoch    9/20 hypothesis: tensor([153.1250, 183.9988, 174.6723, 197.4216, 140.3625]) Cost: 7.071105\n",
      "current hypothesis : tensor([[153.5285],\n",
      "        [184.4835],\n",
      "        [175.1338],\n",
      "        [197.9415],\n",
      "        [140.7325]], grad_fn=<AddBackward0>)\n",
      "Epoch   10/20 hypothesis: tensor([153.5285, 184.4835, 175.1338, 197.9415, 140.7325]) Cost: 6.331867\n",
      "current hypothesis : tensor([[153.7572],\n",
      "        [184.7582],\n",
      "        [175.3958],\n",
      "        [198.2360],\n",
      "        [140.9424]], grad_fn=<AddBackward0>)\n",
      "Epoch   11/20 hypothesis: tensor([153.7572, 184.7582, 175.3958, 198.2360, 140.9424]) Cost: 6.092532\n",
      "current hypothesis : tensor([[153.8868],\n",
      "        [184.9138],\n",
      "        [175.5449],\n",
      "        [198.4026],\n",
      "        [141.0614]], grad_fn=<AddBackward0>)\n",
      "Epoch   12/20 hypothesis: tensor([153.8868, 184.9138, 175.5449, 198.4026, 141.0614]) Cost: 6.013823\n",
      "current hypothesis : tensor([[153.9602],\n",
      "        [185.0019],\n",
      "        [175.6299],\n",
      "        [198.4969],\n",
      "        [141.1288]], grad_fn=<AddBackward0>)\n",
      "Epoch   13/20 hypothesis: tensor([153.9602, 185.0019, 175.6299, 198.4969, 141.1288]) Cost: 5.986775\n",
      "current hypothesis : tensor([[154.0017],\n",
      "        [185.0517],\n",
      "        [175.6785],\n",
      "        [198.5501],\n",
      "        [141.1671]], grad_fn=<AddBackward0>)\n",
      "Epoch   14/20 hypothesis: tensor([154.0017, 185.0517, 175.6785, 198.5501, 141.1671]) Cost: 5.976314\n",
      "current hypothesis : tensor([[154.0252],\n",
      "        [185.0798],\n",
      "        [175.7065],\n",
      "        [198.5800],\n",
      "        [141.1888]], grad_fn=<AddBackward0>)\n",
      "Epoch   15/20 hypothesis: tensor([154.0252, 185.0798, 175.7065, 198.5800, 141.1888]) Cost: 5.971213\n",
      "current hypothesis : tensor([[154.0385],\n",
      "        [185.0956],\n",
      "        [175.7229],\n",
      "        [198.5966],\n",
      "        [141.2012]], grad_fn=<AddBackward0>)\n",
      "Epoch   16/20 hypothesis: tensor([154.0385, 185.0956, 175.7229, 198.5966, 141.2012]) Cost: 5.967797\n",
      "current hypothesis : tensor([[154.0459],\n",
      "        [185.1045],\n",
      "        [175.7326],\n",
      "        [198.6058],\n",
      "        [141.2082]], grad_fn=<AddBackward0>)\n",
      "Epoch   17/20 hypothesis: tensor([154.0459, 185.1045, 175.7326, 198.6058, 141.2082]) Cost: 5.964961\n",
      "current hypothesis : tensor([[154.0501],\n",
      "        [185.1094],\n",
      "        [175.7386],\n",
      "        [198.6108],\n",
      "        [141.2122]], grad_fn=<AddBackward0>)\n",
      "Epoch   18/20 hypothesis: tensor([154.0501, 185.1094, 175.7386, 198.6108, 141.2122]) Cost: 5.962292\n",
      "current hypothesis : tensor([[154.0524],\n",
      "        [185.1120],\n",
      "        [175.7424],\n",
      "        [198.6134],\n",
      "        [141.2145]], grad_fn=<AddBackward0>)\n",
      "Epoch   19/20 hypothesis: tensor([154.0524, 185.1120, 175.7424, 198.6134, 141.2145]) Cost: 5.959693\n",
      "current hypothesis : tensor([[154.0536],\n",
      "        [185.1134],\n",
      "        [175.7451],\n",
      "        [198.6146],\n",
      "        [141.2158]], grad_fn=<AddBackward0>)\n",
      "Epoch   20/20 hypothesis: tensor([154.0536, 185.1134, 175.7451, 198.6146, 141.2158]) Cost: 5.957091\n"
     ]
    }
   ],
   "source": [
    "optimizer = optim.SGD([W,b],lr=1e-5)\n",
    "\n",
    "nb_epochs = 20\n",
    "\n",
    "for epoch in range(nb_epochs+1):\n",
    "\n",
    "    hypothesis = x_train.matmul(W)+b\n",
    "\n",
    "    print('current hypothesis :',hypothesis)\n",
    "\n",
    "    #cost\n",
    "    cost = torch.mean((hypothesis-y_train)**2)\n",
    "\n",
    "    optimizer.zero_grad()\n",
    "\n",
    "    #해당 cost에 대한 미분을 진행하는 코드 backward()\n",
    "    cost.backward()\n",
    "    optimizer.step()\n",
    "    print('Epoch {:4d}/{} hypothesis: {} Cost: {:.6f}'.format(\n",
    "        epoch, nb_epochs, hypothesis.squeeze().detach(), cost.item()\n",
    "    ))"
   ]
  },
  {
   "cell_type": "code",
   "execution_count": 12,
   "metadata": {},
   "outputs": [],
   "source": [
    "x_train = torch.FloatTensor([\n",
    "    [35,13,22],\n",
    "    [51,14,56],\n",
    "    [13,44,11],\n",
    "    [66,14,44]\n",
    "])\n",
    "\n",
    "y_train = torch.FloatTensor([\n",
    "    [15],\n",
    "    [44],\n",
    "    [13],\n",
    "    [66]\n",
    "])"
   ]
  },
  {
   "cell_type": "code",
   "execution_count": 13,
   "metadata": {},
   "outputs": [],
   "source": [
    "W = torch.zeros((3,1),requires_grad=True)\n",
    "b = torch.zeros(1,requires_grad=True)"
   ]
  },
  {
   "cell_type": "code",
   "execution_count": null,
   "metadata": {},
   "outputs": [],
   "source": []
  }
 ],
 "metadata": {
  "interpreter": {
   "hash": "9e15a3c1e5a0b9948e461c933b1210e1c61658222f801330e838cfb00c5a7d08"
  },
  "kernelspec": {
   "display_name": "Python 3.10.2 64-bit",
   "language": "python",
   "name": "python3"
  },
  "language_info": {
   "codemirror_mode": {
    "name": "ipython",
    "version": 3
   },
   "file_extension": ".py",
   "mimetype": "text/x-python",
   "name": "python",
   "nbconvert_exporter": "python",
   "pygments_lexer": "ipython3",
   "version": "3.10.2"
  },
  "orig_nbformat": 4
 },
 "nbformat": 4,
 "nbformat_minor": 2
}
