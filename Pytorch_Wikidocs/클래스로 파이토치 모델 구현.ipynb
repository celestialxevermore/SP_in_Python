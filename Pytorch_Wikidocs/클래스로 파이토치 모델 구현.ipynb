{
 "cells": [
  {
   "cell_type": "markdown",
   "metadata": {},
   "source": [
    "#### 클래스로 파이토치 모델 구현하기 "
   ]
  },
  {
   "cell_type": "markdown",
   "metadata": {},
   "source": [
    "1. 모델을 클래스로 구현하기 "
   ]
  },
  {
   "cell_type": "code",
   "execution_count": 13,
   "metadata": {},
   "outputs": [
    {
     "data": {
      "text/plain": [
       "<torch._C.Generator at 0x203150f0550>"
      ]
     },
     "execution_count": 13,
     "metadata": {},
     "output_type": "execute_result"
    }
   ],
   "source": [
    "import torch \n",
    "import torch.nn as nn \n",
    "import torch.nn.functional as F \n",
    "import torch.optim as optim \n",
    "\n",
    "torch.manual_seed(1)"
   ]
  },
  {
   "cell_type": "code",
   "execution_count": 2,
   "metadata": {},
   "outputs": [],
   "source": [
    "model = nn.Sequential(\n",
    "    nn.Linear(2,1),\n",
    "    nn.Sigmoid()\n",
    "\n",
    ")"
   ]
  },
  {
   "cell_type": "code",
   "execution_count": 6,
   "metadata": {},
   "outputs": [],
   "source": [
    "class BinaryClassifier(nn.Module):\n",
    "    def __init__(self):\n",
    "        super(BinaryClassifier,self).__init__()\n",
    "        self.linear = nn.Linear(2,1)\n",
    "        self.sigmoid = nn.Sigmoid() \n",
    "    \n",
    "    def forward(self,x):\n",
    "        return self.sigmoid(self.linear(x))"
   ]
  },
  {
   "cell_type": "markdown",
   "metadata": {},
   "source": [
    "2. 로지스틱 회귀 클래스로 구현하기 "
   ]
  },
  {
   "cell_type": "code",
   "execution_count": 7,
   "metadata": {},
   "outputs": [
    {
     "data": {
      "text/plain": [
       "<torch._C.Generator at 0x203150f0550>"
      ]
     },
     "execution_count": 7,
     "metadata": {},
     "output_type": "execute_result"
    }
   ],
   "source": [
    "import torch \n",
    "import torch.nn as nn \n",
    "import torch.functional as F \n",
    "import torch.optim as optim \n",
    "\n",
    "torch.manual_seed(1)"
   ]
  },
  {
   "cell_type": "code",
   "execution_count": 9,
   "metadata": {},
   "outputs": [],
   "source": [
    "x_train = torch.FloatTensor([\n",
    "    [42,13,24,51,53],\n",
    "    [55,13,56,76,13],\n",
    "    [13,24,66,72,42],\n",
    "    [24,14,67,53,42],\n",
    "    [13,22,88,42,11],\n",
    "    [13,24,66,77,13]\n",
    "])\n",
    "\n",
    "y_train = torch.FloatTensor([\n",
    "    [0],\n",
    "    [0],\n",
    "    [0],\n",
    "    [1],\n",
    "    [1],\n",
    "    [1]\n",
    "])"
   ]
  },
  {
   "cell_type": "code",
   "execution_count": 10,
   "metadata": {},
   "outputs": [],
   "source": [
    "class BinaryClassifier(nn.Module):\n",
    "\n",
    "    #해당 클래스에 대한 생성이 될 수 있도록 \n",
    "    def __init__(self):\n",
    "        #nn.Module에 있는 모듈을 불러올 수 있도록 상속\n",
    "        super(BinaryClassifier,self).__init__()\n",
    "        self.linear = nn.Linear(5,1)\n",
    "        self.sigmoid = nn.Sigmoid()\n",
    "    \n",
    "    #트레인 데이터가 들어왔을 때 \n",
    "    def forward(self,x):\n",
    "        x1 = self.linear(x)\n",
    "        x2 = self.sigmoid(x1)\n",
    "        return x2"
   ]
  },
  {
   "cell_type": "code",
   "execution_count": 11,
   "metadata": {},
   "outputs": [],
   "source": [
    "model = BinaryClassifier()"
   ]
  },
  {
   "cell_type": "markdown",
   "metadata": {},
   "source": [
    "이제 모델을 돌려보도록 합니다."
   ]
  },
  {
   "cell_type": "code",
   "execution_count": 12,
   "metadata": {},
   "outputs": [],
   "source": [
    "#optimizer 설정\n",
    "optimizer = optim.Adam(model.parameters(),lr=1e-5)\n",
    "\n",
    "nb_epochs = 1000"
   ]
  },
  {
   "cell_type": "code",
   "execution_count": 14,
   "metadata": {},
   "outputs": [
    {
     "name": "stdout",
     "output_type": "stream",
     "text": [
      "Epoch    0/1000 Cost: 4.973297 Accuracy 50.00%\n",
      "Epoch   10/1000 Cost: 4.968178 Accuracy 50.00%\n",
      "Epoch   20/1000 Cost: 4.963061 Accuracy 50.00%\n",
      "Epoch   30/1000 Cost: 4.957949 Accuracy 50.00%\n",
      "Epoch   40/1000 Cost: 4.952841 Accuracy 50.00%\n",
      "Epoch   50/1000 Cost: 4.947740 Accuracy 50.00%\n",
      "Epoch   60/1000 Cost: 4.942643 Accuracy 50.00%\n",
      "Epoch   70/1000 Cost: 4.937548 Accuracy 50.00%\n",
      "Epoch   80/1000 Cost: 4.932459 Accuracy 50.00%\n",
      "Epoch   90/1000 Cost: 4.927373 Accuracy 50.00%\n",
      "Epoch  100/1000 Cost: 4.922291 Accuracy 50.00%\n",
      "Epoch  110/1000 Cost: 4.917213 Accuracy 50.00%\n",
      "Epoch  120/1000 Cost: 4.912140 Accuracy 50.00%\n",
      "Epoch  130/1000 Cost: 4.907072 Accuracy 50.00%\n",
      "Epoch  140/1000 Cost: 4.902005 Accuracy 50.00%\n",
      "Epoch  150/1000 Cost: 4.896943 Accuracy 50.00%\n",
      "Epoch  160/1000 Cost: 4.891886 Accuracy 50.00%\n",
      "Epoch  170/1000 Cost: 4.886831 Accuracy 50.00%\n",
      "Epoch  180/1000 Cost: 4.881780 Accuracy 50.00%\n",
      "Epoch  190/1000 Cost: 4.876734 Accuracy 50.00%\n",
      "Epoch  200/1000 Cost: 4.871691 Accuracy 50.00%\n",
      "Epoch  210/1000 Cost: 4.866652 Accuracy 50.00%\n",
      "Epoch  220/1000 Cost: 4.861616 Accuracy 50.00%\n",
      "Epoch  230/1000 Cost: 4.856584 Accuracy 50.00%\n",
      "Epoch  240/1000 Cost: 4.851555 Accuracy 50.00%\n",
      "Epoch  250/1000 Cost: 4.846530 Accuracy 50.00%\n",
      "Epoch  260/1000 Cost: 4.841507 Accuracy 50.00%\n",
      "Epoch  270/1000 Cost: 4.836490 Accuracy 50.00%\n",
      "Epoch  280/1000 Cost: 4.831476 Accuracy 50.00%\n",
      "Epoch  290/1000 Cost: 4.826466 Accuracy 50.00%\n",
      "Epoch  300/1000 Cost: 4.821457 Accuracy 50.00%\n",
      "Epoch  310/1000 Cost: 4.816453 Accuracy 50.00%\n",
      "Epoch  320/1000 Cost: 4.811451 Accuracy 50.00%\n",
      "Epoch  330/1000 Cost: 4.806454 Accuracy 50.00%\n",
      "Epoch  340/1000 Cost: 4.801460 Accuracy 50.00%\n",
      "Epoch  350/1000 Cost: 4.796472 Accuracy 50.00%\n",
      "Epoch  360/1000 Cost: 4.791487 Accuracy 50.00%\n",
      "Epoch  370/1000 Cost: 4.786505 Accuracy 50.00%\n",
      "Epoch  380/1000 Cost: 4.781525 Accuracy 50.00%\n",
      "Epoch  390/1000 Cost: 4.776552 Accuracy 50.00%\n",
      "Epoch  400/1000 Cost: 4.771580 Accuracy 50.00%\n",
      "Epoch  410/1000 Cost: 4.766613 Accuracy 50.00%\n",
      "Epoch  420/1000 Cost: 4.761647 Accuracy 50.00%\n",
      "Epoch  430/1000 Cost: 4.756686 Accuracy 50.00%\n",
      "Epoch  440/1000 Cost: 4.751727 Accuracy 50.00%\n",
      "Epoch  450/1000 Cost: 4.746771 Accuracy 50.00%\n",
      "Epoch  460/1000 Cost: 4.741818 Accuracy 50.00%\n",
      "Epoch  470/1000 Cost: 4.736869 Accuracy 50.00%\n",
      "Epoch  480/1000 Cost: 4.731924 Accuracy 50.00%\n",
      "Epoch  490/1000 Cost: 4.726981 Accuracy 50.00%\n",
      "Epoch  500/1000 Cost: 4.722042 Accuracy 50.00%\n",
      "Epoch  510/1000 Cost: 4.717106 Accuracy 50.00%\n",
      "Epoch  520/1000 Cost: 4.712173 Accuracy 50.00%\n",
      "Epoch  530/1000 Cost: 4.707243 Accuracy 50.00%\n",
      "Epoch  540/1000 Cost: 4.702316 Accuracy 50.00%\n",
      "Epoch  550/1000 Cost: 4.697394 Accuracy 50.00%\n",
      "Epoch  560/1000 Cost: 4.692474 Accuracy 50.00%\n",
      "Epoch  570/1000 Cost: 4.687557 Accuracy 50.00%\n",
      "Epoch  580/1000 Cost: 4.682643 Accuracy 50.00%\n",
      "Epoch  590/1000 Cost: 4.677734 Accuracy 50.00%\n",
      "Epoch  600/1000 Cost: 4.672827 Accuracy 50.00%\n",
      "Epoch  610/1000 Cost: 4.667923 Accuracy 50.00%\n",
      "Epoch  620/1000 Cost: 4.663024 Accuracy 50.00%\n",
      "Epoch  630/1000 Cost: 18.667202 Accuracy 50.00%\n",
      "Epoch  640/1000 Cost: 18.657402 Accuracy 50.00%\n",
      "Epoch  650/1000 Cost: 18.645922 Accuracy 50.00%\n",
      "Epoch  660/1000 Cost: 18.634295 Accuracy 50.00%\n",
      "Epoch  670/1000 Cost: 18.622923 Accuracy 50.00%\n",
      "Epoch  680/1000 Cost: 18.611879 Accuracy 50.00%\n",
      "Epoch  690/1000 Cost: 18.601152 Accuracy 50.00%\n",
      "Epoch  700/1000 Cost: 18.590708 Accuracy 50.00%\n",
      "Epoch  710/1000 Cost: 18.580515 Accuracy 50.00%\n",
      "Epoch  720/1000 Cost: 18.570543 Accuracy 50.00%\n",
      "Epoch  730/1000 Cost: 18.560774 Accuracy 50.00%\n",
      "Epoch  740/1000 Cost: 18.551180 Accuracy 50.00%\n",
      "Epoch  750/1000 Cost: 18.541752 Accuracy 50.00%\n",
      "Epoch  760/1000 Cost: 18.532471 Accuracy 50.00%\n",
      "Epoch  770/1000 Cost: 18.523327 Accuracy 50.00%\n",
      "Epoch  780/1000 Cost: 18.514307 Accuracy 50.00%\n",
      "Epoch  790/1000 Cost: 18.505407 Accuracy 50.00%\n",
      "Epoch  800/1000 Cost: 18.496614 Accuracy 50.00%\n",
      "Epoch  810/1000 Cost: 18.487925 Accuracy 50.00%\n",
      "Epoch  820/1000 Cost: 18.479332 Accuracy 50.00%\n",
      "Epoch  830/1000 Cost: 18.470827 Accuracy 50.00%\n",
      "Epoch  840/1000 Cost: 18.462410 Accuracy 50.00%\n",
      "Epoch  850/1000 Cost: 18.454075 Accuracy 50.00%\n",
      "Epoch  860/1000 Cost: 18.445814 Accuracy 50.00%\n",
      "Epoch  870/1000 Cost: 18.437628 Accuracy 50.00%\n",
      "Epoch  880/1000 Cost: 18.429510 Accuracy 50.00%\n",
      "Epoch  890/1000 Cost: 18.421459 Accuracy 50.00%\n",
      "Epoch  900/1000 Cost: 18.413471 Accuracy 50.00%\n",
      "Epoch  910/1000 Cost: 18.405546 Accuracy 50.00%\n",
      "Epoch  920/1000 Cost: 18.397678 Accuracy 50.00%\n",
      "Epoch  930/1000 Cost: 18.389868 Accuracy 50.00%\n",
      "Epoch  940/1000 Cost: 18.382109 Accuracy 50.00%\n",
      "Epoch  950/1000 Cost: 18.374405 Accuracy 50.00%\n",
      "Epoch  960/1000 Cost: 18.366751 Accuracy 50.00%\n",
      "Epoch  970/1000 Cost: 18.359146 Accuracy 50.00%\n",
      "Epoch  980/1000 Cost: 18.351587 Accuracy 50.00%\n",
      "Epoch  990/1000 Cost: 18.344076 Accuracy 50.00%\n",
      "Epoch 1000/1000 Cost: 18.336607 Accuracy 50.00%\n"
     ]
    }
   ],
   "source": [
    "for epoch in range(nb_epochs+1):\n",
    "\n",
    "    #H(x) 계산 \n",
    "    hypothesis = model(x_train)\n",
    "\n",
    "    #cost 계산 \n",
    "    cost = F.binary_cross_entropy(hypothesis,y_train)\n",
    "\n",
    "\n",
    "    optimizer.zero_grad()\n",
    "    cost.backward() \n",
    "    optimizer.step() \n",
    "\n",
    "\n",
    "    if epoch % 10 == 0:\n",
    "        prediction = hypothesis >= torch.FloatTensor([0.5]) # 예측값이 0.5를 넘으면 True로 간주\n",
    "        correct_prediction = prediction.float() == y_train # 실제값과 일치하는 경우만 True로 간주\n",
    "        accuracy = correct_prediction.sum().item() / len(correct_prediction) # 정확도를 계산\n",
    "        print('Epoch {:4d}/{} Cost: {:.6f} Accuracy {:2.2f}%'.format( # 각 에포크마다 정확도를 출력\n",
    "            epoch, nb_epochs, cost.item(), accuracy * 100,\n",
    "        ))"
   ]
  },
  {
   "cell_type": "code",
   "execution_count": 15,
   "metadata": {},
   "outputs": [
    {
     "name": "stdout",
     "output_type": "stream",
     "text": [
      "Epoch    0/1000 Cost: 18.335861 Accuracy 50.00%\n",
      "Epoch   10/1000 Cost: 50.000000 Accuracy 50.00%\n",
      "Epoch   20/1000 Cost: 50.000000 Accuracy 50.00%\n",
      "Epoch   30/1000 Cost: 50.000000 Accuracy 50.00%\n",
      "Epoch   40/1000 Cost: 50.000000 Accuracy 50.00%\n",
      "Epoch   50/1000 Cost: 50.000000 Accuracy 50.00%\n",
      "Epoch   60/1000 Cost: 50.000000 Accuracy 50.00%\n",
      "Epoch   70/1000 Cost: 50.000000 Accuracy 50.00%\n",
      "Epoch   80/1000 Cost: 50.000000 Accuracy 50.00%\n",
      "Epoch   90/1000 Cost: 50.000000 Accuracy 50.00%\n",
      "Epoch  100/1000 Cost: 50.000000 Accuracy 50.00%\n",
      "Epoch  110/1000 Cost: 50.000000 Accuracy 50.00%\n",
      "Epoch  120/1000 Cost: 50.000000 Accuracy 50.00%\n",
      "Epoch  130/1000 Cost: 50.000000 Accuracy 50.00%\n",
      "Epoch  140/1000 Cost: 50.000000 Accuracy 50.00%\n",
      "Epoch  150/1000 Cost: 50.000000 Accuracy 50.00%\n",
      "Epoch  160/1000 Cost: 50.000000 Accuracy 50.00%\n",
      "Epoch  170/1000 Cost: 50.000000 Accuracy 50.00%\n",
      "Epoch  180/1000 Cost: 50.000000 Accuracy 50.00%\n",
      "Epoch  190/1000 Cost: 50.000000 Accuracy 50.00%\n",
      "Epoch  200/1000 Cost: 50.000000 Accuracy 50.00%\n",
      "Epoch  210/1000 Cost: 50.000000 Accuracy 50.00%\n",
      "Epoch  220/1000 Cost: 50.000000 Accuracy 50.00%\n",
      "Epoch  230/1000 Cost: 50.000000 Accuracy 50.00%\n",
      "Epoch  240/1000 Cost: 50.000000 Accuracy 50.00%\n",
      "Epoch  250/1000 Cost: 50.000000 Accuracy 50.00%\n",
      "Epoch  260/1000 Cost: 50.000000 Accuracy 50.00%\n",
      "Epoch  270/1000 Cost: 50.000000 Accuracy 50.00%\n",
      "Epoch  280/1000 Cost: 50.000000 Accuracy 50.00%\n",
      "Epoch  290/1000 Cost: 50.000000 Accuracy 50.00%\n",
      "Epoch  300/1000 Cost: 50.000000 Accuracy 50.00%\n",
      "Epoch  310/1000 Cost: 50.000000 Accuracy 50.00%\n",
      "Epoch  320/1000 Cost: 50.000000 Accuracy 50.00%\n",
      "Epoch  330/1000 Cost: 50.000000 Accuracy 50.00%\n",
      "Epoch  340/1000 Cost: 50.000000 Accuracy 50.00%\n",
      "Epoch  350/1000 Cost: 50.000000 Accuracy 50.00%\n",
      "Epoch  360/1000 Cost: 50.000000 Accuracy 50.00%\n",
      "Epoch  370/1000 Cost: 50.000000 Accuracy 50.00%\n",
      "Epoch  380/1000 Cost: 50.000000 Accuracy 50.00%\n",
      "Epoch  390/1000 Cost: 50.000000 Accuracy 50.00%\n",
      "Epoch  400/1000 Cost: 50.000000 Accuracy 50.00%\n",
      "Epoch  410/1000 Cost: 50.000000 Accuracy 50.00%\n",
      "Epoch  420/1000 Cost: 50.000000 Accuracy 50.00%\n",
      "Epoch  430/1000 Cost: 50.000000 Accuracy 50.00%\n",
      "Epoch  440/1000 Cost: 50.000000 Accuracy 50.00%\n",
      "Epoch  450/1000 Cost: 50.000000 Accuracy 50.00%\n",
      "Epoch  460/1000 Cost: 50.000000 Accuracy 50.00%\n",
      "Epoch  470/1000 Cost: 50.000000 Accuracy 50.00%\n",
      "Epoch  480/1000 Cost: 50.000000 Accuracy 50.00%\n",
      "Epoch  490/1000 Cost: 50.000000 Accuracy 50.00%\n",
      "Epoch  500/1000 Cost: 50.000000 Accuracy 50.00%\n",
      "Epoch  510/1000 Cost: 50.000000 Accuracy 50.00%\n",
      "Epoch  520/1000 Cost: 50.000000 Accuracy 50.00%\n",
      "Epoch  530/1000 Cost: 50.000000 Accuracy 50.00%\n",
      "Epoch  540/1000 Cost: 50.000000 Accuracy 50.00%\n",
      "Epoch  550/1000 Cost: 50.000000 Accuracy 50.00%\n",
      "Epoch  560/1000 Cost: 50.000000 Accuracy 50.00%\n",
      "Epoch  570/1000 Cost: 50.000000 Accuracy 50.00%\n",
      "Epoch  580/1000 Cost: 50.000000 Accuracy 50.00%\n",
      "Epoch  590/1000 Cost: 50.000000 Accuracy 50.00%\n",
      "Epoch  600/1000 Cost: 50.000000 Accuracy 50.00%\n",
      "Epoch  610/1000 Cost: 50.000000 Accuracy 50.00%\n",
      "Epoch  620/1000 Cost: 50.000000 Accuracy 50.00%\n",
      "Epoch  630/1000 Cost: 50.000000 Accuracy 50.00%\n",
      "Epoch  640/1000 Cost: 50.000000 Accuracy 50.00%\n",
      "Epoch  650/1000 Cost: 50.000000 Accuracy 50.00%\n",
      "Epoch  660/1000 Cost: 50.000000 Accuracy 50.00%\n",
      "Epoch  670/1000 Cost: 50.000000 Accuracy 50.00%\n",
      "Epoch  680/1000 Cost: 50.000000 Accuracy 50.00%\n",
      "Epoch  690/1000 Cost: 50.000000 Accuracy 50.00%\n",
      "Epoch  700/1000 Cost: 50.000000 Accuracy 50.00%\n",
      "Epoch  710/1000 Cost: 50.000000 Accuracy 50.00%\n",
      "Epoch  720/1000 Cost: 50.000000 Accuracy 50.00%\n",
      "Epoch  730/1000 Cost: 50.000000 Accuracy 50.00%\n",
      "Epoch  740/1000 Cost: 50.000000 Accuracy 50.00%\n",
      "Epoch  750/1000 Cost: 50.000000 Accuracy 50.00%\n",
      "Epoch  760/1000 Cost: 50.000000 Accuracy 50.00%\n",
      "Epoch  770/1000 Cost: 50.000000 Accuracy 50.00%\n",
      "Epoch  780/1000 Cost: 50.000000 Accuracy 50.00%\n",
      "Epoch  790/1000 Cost: 50.000000 Accuracy 50.00%\n",
      "Epoch  800/1000 Cost: 50.000000 Accuracy 50.00%\n",
      "Epoch  810/1000 Cost: 50.000000 Accuracy 50.00%\n",
      "Epoch  820/1000 Cost: 50.000000 Accuracy 50.00%\n",
      "Epoch  830/1000 Cost: 50.000000 Accuracy 50.00%\n",
      "Epoch  840/1000 Cost: 50.000000 Accuracy 50.00%\n",
      "Epoch  850/1000 Cost: 50.000000 Accuracy 50.00%\n",
      "Epoch  860/1000 Cost: 50.000000 Accuracy 50.00%\n",
      "Epoch  870/1000 Cost: 50.000000 Accuracy 50.00%\n",
      "Epoch  880/1000 Cost: 50.000000 Accuracy 50.00%\n",
      "Epoch  890/1000 Cost: 50.000000 Accuracy 50.00%\n",
      "Epoch  900/1000 Cost: 50.000000 Accuracy 50.00%\n",
      "Epoch  910/1000 Cost: 50.000000 Accuracy 50.00%\n",
      "Epoch  920/1000 Cost: 50.000000 Accuracy 50.00%\n",
      "Epoch  930/1000 Cost: 50.000000 Accuracy 50.00%\n",
      "Epoch  940/1000 Cost: 50.000000 Accuracy 50.00%\n",
      "Epoch  950/1000 Cost: 50.000000 Accuracy 50.00%\n",
      "Epoch  960/1000 Cost: 50.000000 Accuracy 50.00%\n",
      "Epoch  970/1000 Cost: 50.000000 Accuracy 50.00%\n",
      "Epoch  980/1000 Cost: 50.000000 Accuracy 50.00%\n",
      "Epoch  990/1000 Cost: 50.000000 Accuracy 50.00%\n",
      "Epoch 1000/1000 Cost: 50.000000 Accuracy 50.00%\n"
     ]
    }
   ],
   "source": [
    "# optimizer 설정\n",
    "optimizer = optim.SGD(model.parameters(), lr=1)\n",
    "\n",
    "nb_epochs = 1000\n",
    "for epoch in range(nb_epochs + 1):\n",
    "\n",
    "    # H(x) 계산\n",
    "    hypothesis = model(x_train)\n",
    "\n",
    "    # cost 계산\n",
    "    cost = F.binary_cross_entropy(hypothesis, y_train)\n",
    "\n",
    "    # cost로 H(x) 개선\n",
    "    optimizer.zero_grad()\n",
    "    cost.backward()\n",
    "    optimizer.step()\n",
    "\n",
    "    # 20번마다 로그 출력\n",
    "    if epoch % 10 == 0:\n",
    "        prediction = hypothesis >= torch.FloatTensor([0.5]) # 예측값이 0.5를 넘으면 True로 간주\n",
    "        correct_prediction = prediction.float() == y_train # 실제값과 일치하는 경우만 True로 간주\n",
    "        accuracy = correct_prediction.sum().item() / len(correct_prediction) # 정확도를 계산\n",
    "        print('Epoch {:4d}/{} Cost: {:.6f} Accuracy {:2.2f}%'.format( # 각 에포크마다 정확도를 출력\n",
    "            epoch, nb_epochs, cost.item(), accuracy * 100,\n",
    "        ))"
   ]
  },
  {
   "cell_type": "code",
   "execution_count": null,
   "metadata": {},
   "outputs": [],
   "source": []
  }
 ],
 "metadata": {
  "interpreter": {
   "hash": "9e15a3c1e5a0b9948e461c933b1210e1c61658222f801330e838cfb00c5a7d08"
  },
  "kernelspec": {
   "display_name": "Python 3.10.2 64-bit",
   "language": "python",
   "name": "python3"
  },
  "language_info": {
   "codemirror_mode": {
    "name": "ipython",
    "version": 3
   },
   "file_extension": ".py",
   "mimetype": "text/x-python",
   "name": "python",
   "nbconvert_exporter": "python",
   "pygments_lexer": "ipython3",
   "version": "3.10.2"
  },
  "orig_nbformat": 4
 },
 "nbformat": 4,
 "nbformat_minor": 2
}
