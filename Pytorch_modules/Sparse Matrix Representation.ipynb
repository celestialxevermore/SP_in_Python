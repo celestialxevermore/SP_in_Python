{
 "cells": [
  {
   "cell_type": "code",
   "execution_count": 4,
   "metadata": {},
   "outputs": [
    {
     "data": {
      "text/plain": [
       "array([[0.76040999, 0.21765602, 0.47948578, 0.64169408, 0.84221897,\n",
       "        0.83665103],\n",
       "       [0.83930769, 0.28073348, 0.59939536, 0.36830978, 0.13565226,\n",
       "        0.15928342],\n",
       "       [0.30227701, 0.64845369, 0.16106883, 0.43205638, 0.15169518,\n",
       "        0.97547276],\n",
       "       [0.35844975, 0.64991986, 0.88554966, 0.67107602, 0.40341733,\n",
       "        0.09750425],\n",
       "       [0.01028819, 0.57285661, 0.73106409, 0.74781166, 0.59996273,\n",
       "        0.72486468],\n",
       "       [0.43304523, 0.33617485, 0.78794075, 0.04485701, 0.52533132,\n",
       "        0.28761653]])"
      ]
     },
     "execution_count": 4,
     "metadata": {},
     "output_type": "execute_result"
    }
   ],
   "source": [
    "import numpy as np \n",
    "import scipy \n",
    "from scipy import sparse\n",
    "#\n",
    "\n",
    "X = np.random.uniform(size=(6,6))\n",
    "X"
   ]
  },
  {
   "cell_type": "code",
   "execution_count": 5,
   "metadata": {},
   "outputs": [
    {
     "data": {
      "text/plain": [
       "array([[0.76040999, 0.        , 0.        , 0.        , 0.84221897,\n",
       "        0.83665103],\n",
       "       [0.83930769, 0.        , 0.        , 0.        , 0.        ,\n",
       "        0.        ],\n",
       "       [0.        , 0.        , 0.        , 0.        , 0.        ,\n",
       "        0.97547276],\n",
       "       [0.        , 0.        , 0.88554966, 0.        , 0.        ,\n",
       "        0.        ],\n",
       "       [0.        , 0.        , 0.73106409, 0.74781166, 0.        ,\n",
       "        0.72486468],\n",
       "       [0.        , 0.        , 0.78794075, 0.        , 0.        ,\n",
       "        0.        ]])"
      ]
     },
     "execution_count": 5,
     "metadata": {},
     "output_type": "execute_result"
    }
   ],
   "source": [
    "X[X<0.7]=0\n",
    "# X의 원소 중 0.7보다 작은 값은 전부 0으로 만드는 불리언\n",
    "X"
   ]
  },
  {
   "cell_type": "code",
   "execution_count": 6,
   "metadata": {},
   "outputs": [],
   "source": [
    "X_csr = sparse.csr_matrix(X)"
   ]
  },
  {
   "cell_type": "code",
   "execution_count": 1,
   "metadata": {},
   "outputs": [],
   "source": [
    "import sklearn"
   ]
  },
  {
   "cell_type": "code",
   "execution_count": null,
   "metadata": {},
   "outputs": [],
   "source": []
  }
 ],
 "metadata": {
  "interpreter": {
   "hash": "9e15a3c1e5a0b9948e461c933b1210e1c61658222f801330e838cfb00c5a7d08"
  },
  "kernelspec": {
   "display_name": "Python 3.10.2 64-bit",
   "language": "python",
   "name": "python3"
  },
  "language_info": {
   "codemirror_mode": {
    "name": "ipython",
    "version": 3
   },
   "file_extension": ".py",
   "mimetype": "text/x-python",
   "name": "python",
   "nbconvert_exporter": "python",
   "pygments_lexer": "ipython3",
   "version": "3.9.7"
  },
  "orig_nbformat": 4
 },
 "nbformat": 4,
 "nbformat_minor": 2
}
