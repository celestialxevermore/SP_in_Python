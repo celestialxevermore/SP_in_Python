{
 "cells": [
  {
   "cell_type": "markdown",
   "metadata": {},
   "source": [
    "#### 분산 데이터 병렬 처리 "
   ]
  },
  {
   "cell_type": "code",
   "execution_count": 1,
   "metadata": {},
   "outputs": [],
   "source": [
    "import os \n",
    "import sys \n",
    "import tempfile \n",
    "import torch \n",
    "import torch.distributed as dist \n",
    "import torch.nn as nn \n",
    "import torch.optim as optim \n",
    "import torch.multiprocessing as mp \n",
    "\n",
    "from torch.nn.parallel import DistributedDataParallel as DDP "
   ]
  },
  {
   "cell_type": "code",
   "execution_count": 2,
   "metadata": {},
   "outputs": [],
   "source": [
    "def setup(rank,world_size):\n",
    "    os.envirion['MASTER_ADDR'] = 'localhost'\n",
    "    os.envorion['MASTER_PORT'] = '12355'\n",
    "\n",
    "    dist.init_process_group(\"gloo\",rank = rank, world_size=world_size)\n",
    "\n",
    "def cleanup():\n",
    "    dist.destroy_process_group()"
   ]
  },
  {
   "cell_type": "code",
   "execution_count": 4,
   "metadata": {},
   "outputs": [],
   "source": [
    "class MyModel(nn.Module):\n",
    "\n",
    "    def __init__(self):\n",
    "        super(MyModel,self).__init__()\n",
    "        self.net1 = nn.Linear(10,10)\n",
    "        self.relu = nn.ReLU() \n",
    "        self.net2 = nn.Linear(10,5) \n",
    "    def forward(self,x):\n",
    "        return self.net2(self.relu(self.net1(x)))"
   ]
  },
  {
   "cell_type": "code",
   "execution_count": null,
   "metadata": {},
   "outputs": [],
   "source": [
    "def demo_basic(rank,world_size):\n",
    "    print(f\"Running basic DDP example on rank{rank}.\")\n",
    "\n",
    "    #모델 생성 후 "
   ]
  }
 ],
 "metadata": {
  "kernelspec": {
   "display_name": "Python 3.9.7 ('base')",
   "language": "python",
   "name": "python3"
  },
  "language_info": {
   "codemirror_mode": {
    "name": "ipython",
    "version": 3
   },
   "file_extension": ".py",
   "mimetype": "text/x-python",
   "name": "python",
   "nbconvert_exporter": "python",
   "pygments_lexer": "ipython3",
   "version": "3.9.7"
  },
  "orig_nbformat": 4,
  "vscode": {
   "interpreter": {
    "hash": "1c45c269bc2f1467f51b0d7ce18bdfa2841a09c768d41ed69b0f11077738bf91"
   }
  }
 },
 "nbformat": 4,
 "nbformat_minor": 2
}
